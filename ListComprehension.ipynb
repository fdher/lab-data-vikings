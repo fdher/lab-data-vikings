{
 "cells": [
  {
   "cell_type": "markdown",
   "id": "fbe601a9-2ea9-4e0c-83e7-cd1ee90ca776",
   "metadata": {},
   "source": [
    "### List Comprehension"
   ]
  },
  {
   "cell_type": "code",
   "execution_count": 2,
   "id": "c2c23adc-b651-4c28-88fe-13fa069e5d60",
   "metadata": {},
   "outputs": [
    {
     "data": {
      "text/plain": [
       "[0, 1, 2, 3, 4, 5, 6, 7, 8, 9, 10]"
      ]
     },
     "execution_count": 2,
     "metadata": {},
     "output_type": "execute_result"
    }
   ],
   "source": [
    "lista_numeros = [0, 1, 2, 3, 4, 5, 6, 7, 8, 9, 10]\n",
    "lista_numeros"
   ]
  },
  {
   "cell_type": "code",
   "execution_count": 4,
   "id": "fe0f1590-5c03-48f5-a8ce-24efda8f01b5",
   "metadata": {},
   "outputs": [
    {
     "data": {
      "text/plain": [
       "[0, 1, 2, 3, 4, 5, 6, 7, 8, 9]"
      ]
     },
     "execution_count": 4,
     "metadata": {},
     "output_type": "execute_result"
    }
   ],
   "source": [
    "list(range(10))"
   ]
  },
  {
   "cell_type": "code",
   "execution_count": 6,
   "id": "0d8ca975-23f2-4325-bee0-cdcf6553ed38",
   "metadata": {},
   "outputs": [
    {
     "data": {
      "text/plain": [
       "[0,\n",
       " 1,\n",
       " 2,\n",
       " 3,\n",
       " 4,\n",
       " 5,\n",
       " 6,\n",
       " 7,\n",
       " 8,\n",
       " 9,\n",
       " 10,\n",
       " 11,\n",
       " 12,\n",
       " 13,\n",
       " 14,\n",
       " 15,\n",
       " 16,\n",
       " 17,\n",
       " 18,\n",
       " 19,\n",
       " 20,\n",
       " 21,\n",
       " 22,\n",
       " 23,\n",
       " 24,\n",
       " 25,\n",
       " 26,\n",
       " 27,\n",
       " 28,\n",
       " 29,\n",
       " 30,\n",
       " 31,\n",
       " 32,\n",
       " 33,\n",
       " 34,\n",
       " 35,\n",
       " 36,\n",
       " 37,\n",
       " 38,\n",
       " 39,\n",
       " 40,\n",
       " 41,\n",
       " 42,\n",
       " 43,\n",
       " 44,\n",
       " 45,\n",
       " 46,\n",
       " 47,\n",
       " 48,\n",
       " 49,\n",
       " 50,\n",
       " 51,\n",
       " 52,\n",
       " 53,\n",
       " 54,\n",
       " 55,\n",
       " 56,\n",
       " 57,\n",
       " 58,\n",
       " 59,\n",
       " 60,\n",
       " 61,\n",
       " 62,\n",
       " 63,\n",
       " 64,\n",
       " 65,\n",
       " 66,\n",
       " 67,\n",
       " 68,\n",
       " 69,\n",
       " 70,\n",
       " 71,\n",
       " 72,\n",
       " 73,\n",
       " 74,\n",
       " 75,\n",
       " 76,\n",
       " 77,\n",
       " 78,\n",
       " 79,\n",
       " 80,\n",
       " 81,\n",
       " 82,\n",
       " 83,\n",
       " 84,\n",
       " 85,\n",
       " 86,\n",
       " 87,\n",
       " 88,\n",
       " 89,\n",
       " 90,\n",
       " 91,\n",
       " 92,\n",
       " 93,\n",
       " 94,\n",
       " 95,\n",
       " 96,\n",
       " 97,\n",
       " 98,\n",
       " 99,\n",
       " 100]"
      ]
     },
     "execution_count": 6,
     "metadata": {},
     "output_type": "execute_result"
    }
   ],
   "source": [
    "lista_numeros_grande = []\n",
    "for i in range(101):\n",
    "    lista_numeros_grande.append(i)\n",
    "lista_numeros_grande"
   ]
  },
  {
   "cell_type": "code",
   "execution_count": 7,
   "id": "b0288e55-fc39-43f0-bc81-d581b2f08ad7",
   "metadata": {},
   "outputs": [
    {
     "data": {
      "text/plain": [
       "[0, 1, 2, 3, 4, 5, 6, 7, 8, 9, 10]"
      ]
     },
     "execution_count": 7,
     "metadata": {},
     "output_type": "execute_result"
    }
   ],
   "source": [
    "lista_numeros = []\n",
    "for i in range(11):\n",
    "    lista_numeros.append(i)\n",
    "lista_numeros"
   ]
  },
  {
   "cell_type": "code",
   "execution_count": 8,
   "id": "cb374380-dbd7-4f8f-9879-201f16224526",
   "metadata": {},
   "outputs": [
    {
     "data": {
      "text/plain": [
       "[0, 1, 2, 3, 4, 5, 6, 7, 8, 9, 10]"
      ]
     },
     "execution_count": 8,
     "metadata": {},
     "output_type": "execute_result"
    }
   ],
   "source": [
    "lista_numeros_comp = [i for i in range(11)]\n",
    "lista_numeros_comp"
   ]
  },
  {
   "cell_type": "code",
   "execution_count": 12,
   "id": "9da0d23e-5bb1-43c0-8a1c-e5323e4d43ee",
   "metadata": {},
   "outputs": [],
   "source": [
    "numero = 0\n",
    "string = \"numero\" + str(numero)\n",
    "string_chicos_cul = f\"numero{numero}\""
   ]
  },
  {
   "cell_type": "code",
   "execution_count": 13,
   "id": "9d2ccef1-d0d9-469d-82da-b1b13f8d69e9",
   "metadata": {},
   "outputs": [
    {
     "data": {
      "text/plain": [
       "'numero0'"
      ]
     },
     "execution_count": 13,
     "metadata": {},
     "output_type": "execute_result"
    }
   ],
   "source": [
    "string"
   ]
  },
  {
   "cell_type": "code",
   "execution_count": 14,
   "id": "9f93142b-e535-415c-8307-339b9edf0e8d",
   "metadata": {},
   "outputs": [
    {
     "data": {
      "text/plain": [
       "'numero0'"
      ]
     },
     "execution_count": 14,
     "metadata": {},
     "output_type": "execute_result"
    }
   ],
   "source": [
    "string_chicos_cul"
   ]
  },
  {
   "cell_type": "code",
   "execution_count": 15,
   "id": "e6a13aec-a32d-4331-9840-281245b94b60",
   "metadata": {},
   "outputs": [
    {
     "data": {
      "text/plain": [
       "['numero0',\n",
       " 'numero1',\n",
       " 'numero2',\n",
       " 'numero3',\n",
       " 'numero4',\n",
       " 'numero5',\n",
       " 'numero6',\n",
       " 'numero7',\n",
       " 'numero8',\n",
       " 'numero9',\n",
       " 'numero10']"
      ]
     },
     "execution_count": 15,
     "metadata": {},
     "output_type": "execute_result"
    }
   ],
   "source": [
    "# Los valorse son de la forma \"numero0\", \"numero1\", ....\n",
    "lista_numeros = []\n",
    "for i in range(11):\n",
    "    lista_numeros.append(\"numero\"+str(i))\n",
    "lista_numeros"
   ]
  },
  {
   "cell_type": "code",
   "execution_count": 18,
   "id": "a8ba2ef8-2014-4946-bd84-43811b9ee6ba",
   "metadata": {},
   "outputs": [
    {
     "ename": "SyntaxError",
     "evalue": "cannot assign to operator (4273310728.py, line 1)",
     "output_type": "error",
     "traceback": [
      "\u001b[1;36m  Input \u001b[1;32mIn [18]\u001b[1;36m\u001b[0m\n\u001b[1;33m    lista_nueva = [i for \"numero\"+str(i) in range(11)]\u001b[0m\n\u001b[1;37m                         ^\u001b[0m\n\u001b[1;31mSyntaxError\u001b[0m\u001b[1;31m:\u001b[0m cannot assign to operator\n"
     ]
    }
   ],
   "source": [
    "lista_nueva = [i for \"numero\"+str(i) in range(11)]"
   ]
  },
  {
   "cell_type": "code",
   "execution_count": 16,
   "id": "c2f15ef4-598c-4c93-bce4-106b08e1d29f",
   "metadata": {},
   "outputs": [
    {
     "data": {
      "text/plain": [
       "['numero0',\n",
       " 'numero1',\n",
       " 'numero2',\n",
       " 'numero3',\n",
       " 'numero4',\n",
       " 'numero5',\n",
       " 'numero6',\n",
       " 'numero7',\n",
       " 'numero8',\n",
       " 'numero9',\n",
       " 'numero10']"
      ]
     },
     "execution_count": 16,
     "metadata": {},
     "output_type": "execute_result"
    }
   ],
   "source": [
    "# lista_como_funcion = [f(x) de donde sale x]\n",
    "lista_numeros_comp = [\"numero\"+str(i) for i in range(11)]\n",
    "lista_numeros_comp"
   ]
  },
  {
   "cell_type": "code",
   "execution_count": 19,
   "id": "dbcd0b04-3ef0-46a9-abaf-65342068447e",
   "metadata": {},
   "outputs": [],
   "source": [
    "mandado = [\"pizza\", \"atun\", \"leche\", \"pan\", \"cereal\", \"huevo\", \"pescado\"]"
   ]
  },
  {
   "cell_type": "code",
   "execution_count": 23,
   "id": "3ee35f76-83ba-4616-8704-31c88d884d09",
   "metadata": {},
   "outputs": [
    {
     "data": {
      "text/plain": [
       "['pizza', 'pan', 'pescado']"
      ]
     },
     "execution_count": 23,
     "metadata": {},
     "output_type": "execute_result"
    }
   ],
   "source": [
    "mandadop = []\n",
    "for comida in mandado:\n",
    "    if comida.startswith('p'):\n",
    "        mandadop.append(comida)\n",
    "mandadop"
   ]
  },
  {
   "cell_type": "code",
   "execution_count": 25,
   "id": "c9c75462-db18-46d0-ba91-a0e37c574a1c",
   "metadata": {},
   "outputs": [
    {
     "data": {
      "text/plain": [
       "['pizza', 'pan', 'pescado']"
      ]
     },
     "execution_count": 25,
     "metadata": {},
     "output_type": "execute_result"
    }
   ],
   "source": [
    "mandadop_comp = [comida for comida in mandado if comida.startswith('p')]\n",
    "mandadop_comp"
   ]
  },
  {
   "cell_type": "code",
   "execution_count": 27,
   "id": "d6a39bda-9761-4ec8-9d97-279c6ea4dc4b",
   "metadata": {},
   "outputs": [
    {
     "data": {
      "text/plain": [
       "['pizza', 'ATUN', 'LECHE', 'pan', 'CEREAL', 'HUEVO', 'pescado']"
      ]
     },
     "execution_count": 27,
     "metadata": {},
     "output_type": "execute_result"
    }
   ],
   "source": [
    "mandadopmin = []\n",
    "for comida in mandado:\n",
    "    if comida.startswith('p'):\n",
    "        mandadopmin.append(comida)\n",
    "    else:\n",
    "        mandadopmin.append(comida.upper())\n",
    "mandadopmin"
   ]
  },
  {
   "cell_type": "code",
   "execution_count": 33,
   "id": "189f6a60-5d5d-49d5-910b-9ae998af464e",
   "metadata": {},
   "outputs": [
    {
     "data": {
      "text/plain": [
       "['pizza', 'ATUN', 'LECHE', 'pan', 'CEREAL', 'HUEVO', 'pescado']"
      ]
     },
     "execution_count": 33,
     "metadata": {},
     "output_type": "execute_result"
    }
   ],
   "source": [
    "mandadopmin_comp = [comida if comida.startswith('p') else comida.upper() for comida in mandado]\n",
    "mandadopmin_comp"
   ]
  },
  {
   "cell_type": "code",
   "execution_count": 34,
   "id": "b4bbda2f-7231-4446-8f3a-21d451374f43",
   "metadata": {},
   "outputs": [
    {
     "ename": "SyntaxError",
     "evalue": "invalid syntax (2059893984.py, line 1)",
     "output_type": "error",
     "traceback": [
      "\u001b[1;36m  Input \u001b[1;32mIn [34]\u001b[1;36m\u001b[0m\n\u001b[1;33m    mandadopmin_comp = [comida if comida.startswith('p') for comida in mandado]\u001b[0m\n\u001b[1;37m                                                         ^\u001b[0m\n\u001b[1;31mSyntaxError\u001b[0m\u001b[1;31m:\u001b[0m invalid syntax\n"
     ]
    }
   ],
   "source": [
    "mandadopmin_comp = [comida if comida.startswith('p') for comida in mandado]\n",
    "mandadopmin_comp"
   ]
  },
  {
   "cell_type": "code",
   "execution_count": 36,
   "id": "835346db-5759-4758-805c-9f9ac42c27aa",
   "metadata": {},
   "outputs": [
    {
     "data": {
      "text/plain": [
       "['pizza', 'Atun', 'LECHE', 'pan', 'CEREAL', 'Huevo', 'pescado']"
      ]
     },
     "execution_count": 36,
     "metadata": {},
     "output_type": "execute_result"
    }
   ],
   "source": [
    "mandadopminuup_comp = [comida if comida.startswith('p') else comida.upper() if 'l' in comida else comida.capitalize()\n",
    "                       for comida in mandado]\n",
    "mandadopminuup_comp"
   ]
  },
  {
   "cell_type": "code",
   "execution_count": 38,
   "id": "31ba7882-218a-4cb1-a188-c90fc58b4d75",
   "metadata": {},
   "outputs": [
    {
     "name": "stdout",
     "output_type": "stream",
     "text": [
      "Empieza con p pizza\n",
      "En else: Atun\n",
      "Tiene la letra l LECHE\n",
      "Empieza con p pan\n",
      "Tiene la letra l CEREAL\n",
      "En else: Huevo\n",
      "Empieza con p pescado\n"
     ]
    }
   ],
   "source": [
    "mandadopmin = []\n",
    "for comida in mandado:\n",
    "    if comida.startswith('p'):\n",
    "        print(f'Empieza con p {comida}')\n",
    "    elif 'l' in comida:\n",
    "        print(f'Tiene la letra l {comida.upper()}')\n",
    "    else:\n",
    "        print(f'En else: {comida.capitalize()}')"
   ]
  },
  {
   "cell_type": "code",
   "execution_count": 39,
   "id": "ff8ed210-7b10-4f8c-970b-b3acc83192d5",
   "metadata": {},
   "outputs": [],
   "source": [
    "opiniones = [(\"marcos\", 0), ('javiera',5), ('Maria',1), ('Francisca', 3), ('luis',3), ('Dennis', 4), ('fabio',4)]"
   ]
  },
  {
   "cell_type": "code",
   "execution_count": 40,
   "id": "3c73f41b-9f44-479c-829a-c55e29d498a7",
   "metadata": {},
   "outputs": [
    {
     "data": {
      "text/plain": [
       "[('marcos', 0),\n",
       " ('javiera', 5),\n",
       " ('Maria', 1),\n",
       " ('Francisca', 3),\n",
       " ('luis', 3),\n",
       " ('Dennis', 4),\n",
       " ('fabio', 4)]"
      ]
     },
     "execution_count": 40,
     "metadata": {},
     "output_type": "execute_result"
    }
   ],
   "source": [
    "opiniones"
   ]
  },
  {
   "cell_type": "code",
   "execution_count": 48,
   "id": "46b7e725-ae93-493a-8371-3254f5ff03db",
   "metadata": {},
   "outputs": [
    {
     "data": {
      "text/plain": [
       "['Francisca', 'luis', 'Dennis', 'fabio']"
      ]
     },
     "execution_count": 48,
     "metadata": {},
     "output_type": "execute_result"
    }
   ],
   "source": [
    "personas_dudosas = []\n",
    "for nombre, puntuacion in opiniones:\n",
    "    if puntuacion > 1 and puntuacion < 5:\n",
    "        personas_dudosas.append(nombre)\n",
    "    # if puntuacion in range(2, 5):\n",
    "    #     print(nombre)\n",
    "    # if 1 < puntuacion < 5:\n",
    "    #     print(nombre)\n",
    "personas_dudosas"
   ]
  },
  {
   "cell_type": "code",
   "execution_count": 57,
   "id": "4300f797-034e-4ffc-9265-970b74a8d2bb",
   "metadata": {},
   "outputs": [
    {
     "data": {
      "text/plain": [
       "['Francisca', 'luis', 'Dennis', 'fabio']"
      ]
     },
     "execution_count": 57,
     "metadata": {},
     "output_type": "execute_result"
    }
   ],
   "source": [
    "personas_dudosas_comp = [nombre for nombre, puntuacion in opiniones if puntuacion > 1 and puntuacion < 5]\n",
    "personas_dudosas_comp"
   ]
  },
  {
   "cell_type": "code",
   "execution_count": 59,
   "id": "3172ba94-9be4-4ae9-82fc-03dbd72dda07",
   "metadata": {},
   "outputs": [
    {
     "data": {
      "text/plain": [
       "[('Francisca', 3), ('luis', 3), ('Dennis', 4), ('fabio', 4)]"
      ]
     },
     "execution_count": 59,
     "metadata": {},
     "output_type": "execute_result"
    }
   ],
   "source": [
    "personas_dudosas_comp = [(nombre, puntuacion) for nombre, puntuacion in opiniones if puntuacion > 1 and puntuacion < 5]\n",
    "personas_dudosas_comp"
   ]
  },
  {
   "cell_type": "code",
   "execution_count": 60,
   "id": "bf2128d9-cce5-4309-b12d-e931843b2f62",
   "metadata": {},
   "outputs": [],
   "source": [
    "lista_prueba = []"
   ]
  },
  {
   "cell_type": "code",
   "execution_count": 63,
   "id": "d382ce75-4324-44c9-a2e9-dbb829615225",
   "metadata": {},
   "outputs": [
    {
     "data": {
      "text/plain": [
       "('luis', 3)"
      ]
     },
     "execution_count": 63,
     "metadata": {},
     "output_type": "execute_result"
    }
   ],
   "source": [
    "('luis',3)"
   ]
  },
  {
   "cell_type": "code",
   "execution_count": 64,
   "id": "1bb4a7ba-2d01-4150-b08f-6ce29a1b406c",
   "metadata": {},
   "outputs": [],
   "source": [
    "lista_prueba.append(('luis',3))"
   ]
  },
  {
   "cell_type": "code",
   "execution_count": 65,
   "id": "ddf43348-33c6-4cc4-846f-a76b655a6b4a",
   "metadata": {},
   "outputs": [
    {
     "data": {
      "text/plain": [
       "[('luis', 3)]"
      ]
     },
     "execution_count": 65,
     "metadata": {},
     "output_type": "execute_result"
    }
   ],
   "source": [
    "lista_prueba"
   ]
  },
  {
   "cell_type": "code",
   "execution_count": 67,
   "id": "f5ba8dea-9918-436b-9f89-7570e92a797c",
   "metadata": {},
   "outputs": [
    {
     "data": {
      "text/plain": [
       "{'Francisca': 3, 'luis': 3, 'Dennis': 4, 'fabio': 4}"
      ]
     },
     "execution_count": 67,
     "metadata": {},
     "output_type": "execute_result"
    }
   ],
   "source": [
    "# El dict comp es igual que list comp pero a fuerza tengo que tener 2 elementos llave: valor y en lugar de \n",
    "# corchetes se construye con llaves\n",
    "personas_dudosas_comp_dict = {nombre:puntuacion for nombre, puntuacion in opiniones if puntuacion > 1 and puntuacion < 5}\n",
    "personas_dudosas_comp_dict"
   ]
  },
  {
   "cell_type": "code",
   "execution_count": 69,
   "id": "7fba4bbf-c2d2-4c13-8eb9-0fda317f6107",
   "metadata": {},
   "outputs": [
    {
     "data": {
      "text/plain": [
       "True"
      ]
     },
     "execution_count": 69,
     "metadata": {},
     "output_type": "execute_result"
    }
   ],
   "source": [
    "\"daf\".islower()"
   ]
  },
  {
   "cell_type": "code",
   "execution_count": 70,
   "id": "b690587c-61da-4ecc-9517-03e7f380197d",
   "metadata": {},
   "outputs": [
    {
     "name": "stdout",
     "output_type": "stream",
     "text": [
      "hola\n"
     ]
    }
   ],
   "source": [
    "if True:\n",
    "    print(\"hola\")"
   ]
  },
  {
   "cell_type": "code",
   "execution_count": 71,
   "id": "6c388c08-4b00-4212-8c9e-816e6dad677e",
   "metadata": {},
   "outputs": [
    {
     "name": "stdout",
     "output_type": "stream",
     "text": [
      "hola\n"
     ]
    }
   ],
   "source": [
    "if \"daf\".islower(): #\"daf\".islower() == True\n",
    "    print(\"hola\")"
   ]
  },
  {
   "cell_type": "code",
   "execution_count": 73,
   "id": "fbcc6f20-1ed1-48e6-a452-10db443a5d9c",
   "metadata": {},
   "outputs": [
    {
     "data": {
      "text/plain": [
       "['Francisca', 'Luis', 'Dennis', 'Fabio']"
      ]
     },
     "execution_count": 73,
     "metadata": {},
     "output_type": "execute_result"
    }
   ],
   "source": [
    "personas_dudosas = []\n",
    "for nombre, puntuacion in opiniones:\n",
    "    if puntuacion > 1 and puntuacion < 5:\n",
    "        if nombre.islower():\n",
    "            personas_dudosas.append(nombre.capitalize())\n",
    "        else:\n",
    "            personas_dudosas.append(nombre)\n",
    "    # if puntuacion in range(2, 5):\n",
    "    #     print(nombre)\n",
    "    # if 1 < puntuacion < 5:\n",
    "    #     print(nombre)\n",
    "personas_dudosas"
   ]
  },
  {
   "cell_type": "code",
   "execution_count": 74,
   "id": "5e1b9715-d486-4bc2-8e31-278c09bb3662",
   "metadata": {},
   "outputs": [
    {
     "data": {
      "text/plain": [
       "['Francisca', 'Luis', 'Dennis', 'Fabio']"
      ]
     },
     "execution_count": 74,
     "metadata": {},
     "output_type": "execute_result"
    }
   ],
   "source": [
    "# Salida (puede tener condicionales de en que caso va que salida -> loop -> condicion de si habra salida o no\n",
    "personas_dudosas_comp = [nombre.capitalize() if nombre.islower() else nombre\n",
    "                         for nombre, puntuacion in opiniones if puntuacion > 1 and puntuacion < 5]\n",
    "personas_dudosas_comp"
   ]
  },
  {
   "cell_type": "code",
   "execution_count": 75,
   "id": "7fe21b65-e96d-4106-99ba-07c6cbb928f3",
   "metadata": {},
   "outputs": [
    {
     "data": {
      "text/plain": [
       "['Francisca', 'Luis', 'Dennis', 'Fabio']"
      ]
     },
     "execution_count": 75,
     "metadata": {},
     "output_type": "execute_result"
    }
   ],
   "source": [
    "personas_dudosas = []\n",
    "for nombre, puntuacion in opiniones:\n",
    "    if nombre.islower():\n",
    "        if puntuacion > 1 and puntuacion < 5:\n",
    "            personas_dudosas.append(nombre.capitalize())\n",
    "    else:\n",
    "        if puntuacion > 1 and puntuacion < 5:\n",
    "            personas_dudosas.append(nombre)\n",
    "    # if puntuacion in range(2, 5):\n",
    "    #     print(nombre)\n",
    "    # if 1 < puntuacion < 5:\n",
    "    #     print(nombre)\n",
    "personas_dudosas"
   ]
  },
  {
   "cell_type": "code",
   "execution_count": 3,
   "id": "a01c03e6-aaa9-4304-bbff-645672cdb91f",
   "metadata": {},
   "outputs": [],
   "source": [
    "lista_comidas_persona = [[\"hamburguesa\", \"tacos de carnitas\", \"alitas\"], [\"pizza\", \"sushi\", \"alitas\"],\n",
    "                 ['tacos de pollo','pizza','pasta'], [\"tacos\", \"sushi\", \"hamburguesas\"],\n",
    "                 [\"sushi\",\"pho\",\"tacos\"], ['Tacos de pastor',' Ramen', 'Alitas'],\n",
    "                 [\"sushi\",\"hamburguesa\",\"ramen\"], ['porotos granados', 'papas fritas', 'hamburguesas'],\n",
    "                 ['tacos', 'ramen', 'vegetariana'], [\"tamales\", \"pozole\", \"pasta\"]]"
   ]
  },
  {
   "cell_type": "code",
   "execution_count": 4,
   "id": "7ffa0b10-2d5b-43d6-9da2-be664d93fae3",
   "metadata": {},
   "outputs": [
    {
     "data": {
      "text/plain": [
       "[['hamburguesa', 'tacos de carnitas', 'alitas'],\n",
       " ['pizza', 'sushi', 'alitas'],\n",
       " ['tacos de pollo', 'pizza', 'pasta'],\n",
       " ['tacos', 'sushi', 'hamburguesas'],\n",
       " ['sushi', 'pho', 'tacos'],\n",
       " ['Tacos de pastor', ' Ramen', 'Alitas'],\n",
       " ['sushi', 'hamburguesa', 'ramen'],\n",
       " ['porotos granados', 'papas fritas', 'hamburguesas'],\n",
       " ['tacos', 'ramen', 'vegetariana'],\n",
       " ['tamales', 'pozole', 'pasta']]"
      ]
     },
     "execution_count": 4,
     "metadata": {},
     "output_type": "execute_result"
    }
   ],
   "source": [
    "lista_comidas_persona"
   ]
  },
  {
   "cell_type": "code",
   "execution_count": 6,
   "id": "3a5608a6-c562-4a13-ad3d-d4ba10859c99",
   "metadata": {},
   "outputs": [],
   "source": [
    "lista_comidas = []\n",
    "for lista_persona in lista_comidas_persona: #for lista_alumno in lista_comidas_persona\n",
    "    for comida in lista_persona: #for alimento in lista_alumno\n",
    "        lista_comidas.append(comida) #alimento"
   ]
  },
  {
   "cell_type": "code",
   "execution_count": 17,
   "id": "5165dd34-7e2c-45b0-9632-2902722decee",
   "metadata": {},
   "outputs": [
    {
     "ename": "NameError",
     "evalue": "name 'lista_alumno' is not defined",
     "output_type": "error",
     "traceback": [
      "\u001b[1;31m---------------------------------------------------------------------------\u001b[0m",
      "\u001b[1;31mNameError\u001b[0m                                 Traceback (most recent call last)",
      "Input \u001b[1;32mIn [17]\u001b[0m, in \u001b[0;36m<cell line: 1>\u001b[1;34m()\u001b[0m\n\u001b[1;32m----> 1\u001b[0m [alimento \u001b[38;5;28;01mfor\u001b[39;00m alimento \u001b[38;5;129;01min\u001b[39;00m \u001b[43mlista_alumno\u001b[49m \u001b[38;5;28;01mfor\u001b[39;00m lista_alumno \u001b[38;5;129;01min\u001b[39;00m lista_comidas_persona]\n",
      "\u001b[1;31mNameError\u001b[0m: name 'lista_alumno' is not defined"
     ]
    }
   ],
   "source": [
    "[alimento for alimento in lista_alumno for lista_alumno in lista_comidas_persona]"
   ]
  },
  {
   "cell_type": "code",
   "execution_count": 18,
   "id": "5471d0c8-7d56-4f8f-977b-7f3bd3b37fbf",
   "metadata": {},
   "outputs": [
    {
     "data": {
      "text/plain": [
       "['hamburguesa',\n",
       " 'tacos de carnitas',\n",
       " 'alitas',\n",
       " 'pizza',\n",
       " 'sushi',\n",
       " 'alitas',\n",
       " 'tacos de pollo',\n",
       " 'pizza',\n",
       " 'pasta',\n",
       " 'tacos',\n",
       " 'sushi',\n",
       " 'hamburguesas',\n",
       " 'sushi',\n",
       " 'pho',\n",
       " 'tacos',\n",
       " 'Tacos de pastor',\n",
       " ' Ramen',\n",
       " 'Alitas',\n",
       " 'sushi',\n",
       " 'hamburguesa',\n",
       " 'ramen',\n",
       " 'porotos granados',\n",
       " 'papas fritas',\n",
       " 'hamburguesas',\n",
       " 'tacos',\n",
       " 'ramen',\n",
       " 'vegetariana',\n",
       " 'tamales',\n",
       " 'pozole',\n",
       " 'pasta']"
      ]
     },
     "execution_count": 18,
     "metadata": {},
     "output_type": "execute_result"
    }
   ],
   "source": [
    "[alimento for lista_alumno in lista_comidas_persona for alimento in lista_alumno]"
   ]
  },
  {
   "cell_type": "code",
   "execution_count": 8,
   "id": "3b015738-1ad7-49ef-83ca-c47bd1d06dc3",
   "metadata": {},
   "outputs": [
    {
     "name": "stdout",
     "output_type": "stream",
     "text": [
      "['hamburguesa', 'tacos de carnitas', 'alitas', 'pizza', 'sushi', 'alitas', 'tacos de pollo', 'pizza', 'pasta', 'tacos', 'sushi', 'hamburguesas', 'sushi', 'pho', 'tacos', 'Tacos de pastor', ' Ramen', 'Alitas', 'sushi', 'hamburguesa', 'ramen', 'porotos granados', 'papas fritas', 'hamburguesas', 'tacos', 'ramen', 'vegetariana', 'tamales', 'pozole', 'pasta']\n"
     ]
    }
   ],
   "source": [
    "print(lista_comidas)"
   ]
  },
  {
   "cell_type": "code",
   "execution_count": 11,
   "id": "46e952c0-de55-48de-b3b3-e91c5c3a0c11",
   "metadata": {},
   "outputs": [
    {
     "name": "stdout",
     "output_type": "stream",
     "text": [
      "['hamburguesa', 'tacos de carnitas', 'alitas', 'pizza', 'sushi', 'alitas', 'tacos de pollo', 'pizza', 'pasta', 'tacos', 'sushi', 'hamburguesas', 'sushi', 'pho', 'tacos', 'Tacos de pastor', ' Ramen', 'Alitas', 'sushi', 'hamburguesa', 'ramen', 'porotos granados', 'papas fritas', 'hamburguesas', 'tacos', 'ramen', 'vegetariana', 'tamales', 'pozole', 'pasta']\n"
     ]
    }
   ],
   "source": [
    "lista_comidas_comp = [comida for lista_persona in lista_comidas_persona for comida in lista_persona]\n",
    "print(lista_comidas_comp)"
   ]
  },
  {
   "cell_type": "code",
   "execution_count": 16,
   "id": "c669f20a-4e04-40c5-9762-5d0ae7b81de0",
   "metadata": {},
   "outputs": [
    {
     "ename": "NameError",
     "evalue": "name 'lista_persona1' is not defined",
     "output_type": "error",
     "traceback": [
      "\u001b[1;31m---------------------------------------------------------------------------\u001b[0m",
      "\u001b[1;31mNameError\u001b[0m                                 Traceback (most recent call last)",
      "Input \u001b[1;32mIn [16]\u001b[0m, in \u001b[0;36m<cell line: 1>\u001b[1;34m()\u001b[0m\n\u001b[1;32m----> 1\u001b[0m lista_comidas_comp \u001b[38;5;241m=\u001b[39m [comida \u001b[38;5;28;01mfor\u001b[39;00m comida \u001b[38;5;129;01min\u001b[39;00m \u001b[43mlista_persona1\u001b[49m \u001b[38;5;28;01mfor\u001b[39;00m lista_persona1 \u001b[38;5;129;01min\u001b[39;00m lista_comidas_persona]\n\u001b[0;32m      2\u001b[0m \u001b[38;5;28mprint\u001b[39m(lista_comidas_comp)\n",
      "\u001b[1;31mNameError\u001b[0m: name 'lista_persona1' is not defined"
     ]
    }
   ],
   "source": [
    "lista_comidas_comp = [comida for comida in lista_persona1 for lista_persona1 in lista_comidas_persona]\n",
    "print(lista_comidas_comp)"
   ]
  },
  {
   "cell_type": "code",
   "execution_count": 1,
   "id": "f9d3c632-c82f-426c-8144-8f6407fd8fb5",
   "metadata": {},
   "outputs": [],
   "source": [
    "lista_comidas_persona = [[[\"hamburguesa\", \"tacos de carnitas\", \"alitas\"], [\"pizza\", \"sushi\", \"alitas\"]],\n",
    "                         [[\"pizza\", \"sushi\", \"alitas\"]],                \n",
    "                         [['tacos de pollo','pizza','pasta']], \n",
    "                         [[\"tacos\", \"sushi\", \"hamburguesas\"]],\n",
    "                         [[\"sushi\",\"pho\",\"tacos\"]], [['Tacos de pastor',' Ramen', 'Alitas']],\n",
    "                         [[\"sushi\",\"hamburguesa\",\"ramen\"]], \n",
    "                         [['porotos granados', 'papas fritas', 'hamburguesas']],\n",
    "                         [['tacos', 'ramen', 'vegetariana']], \n",
    "                         [[\"tamales\", \"pozole\", \"pasta\"]]]"
   ]
  },
  {
   "cell_type": "code",
   "execution_count": 41,
   "id": "1941a98b-27ca-4830-b418-341d5708a999",
   "metadata": {},
   "outputs": [
    {
     "data": {
      "text/plain": [
       "[['pizza', 'sushi', 'alitas']]"
      ]
     },
     "execution_count": 41,
     "metadata": {},
     "output_type": "execute_result"
    }
   ],
   "source": [
    "lista_comidas_persona[1]"
   ]
  },
  {
   "cell_type": "code",
   "execution_count": 2,
   "id": "b2298291-d7ed-4c6b-8d11-c93908ffb2f0",
   "metadata": {},
   "outputs": [
    {
     "name": "stdout",
     "output_type": "stream",
     "text": [
      "[['hamburguesa', 'tacos de carnitas', 'alitas'], ['pizza', 'sushi', 'alitas']]\n",
      "['hamburguesa', 'tacos de carnitas', 'alitas']\n",
      "hamburguesa\n",
      "tacos de carnitas\n",
      "alitas\n",
      "----------------------------------------------------------------------------------------------------\n",
      "['pizza', 'sushi', 'alitas']\n",
      "pizza\n",
      "sushi\n",
      "alitas\n",
      "----------------------------------------------------------------------------------------------------\n",
      "-*--*--*--*--*--*--*--*--*--*--*--*--*--*--*--*--*--*--*--*--*--*--*--*--*--*--*--*--*--*--*--*--*--*--*--*--*--*--*--*--*--*--*--*--*--*--*--*--*--*-\n",
      "[['pizza', 'sushi', 'alitas']]\n",
      "['pizza', 'sushi', 'alitas']\n",
      "pizza\n",
      "sushi\n",
      "alitas\n",
      "----------------------------------------------------------------------------------------------------\n",
      "-*--*--*--*--*--*--*--*--*--*--*--*--*--*--*--*--*--*--*--*--*--*--*--*--*--*--*--*--*--*--*--*--*--*--*--*--*--*--*--*--*--*--*--*--*--*--*--*--*--*-\n",
      "[['tacos de pollo', 'pizza', 'pasta']]\n",
      "['tacos de pollo', 'pizza', 'pasta']\n",
      "tacos de pollo\n",
      "pizza\n",
      "pasta\n",
      "----------------------------------------------------------------------------------------------------\n",
      "-*--*--*--*--*--*--*--*--*--*--*--*--*--*--*--*--*--*--*--*--*--*--*--*--*--*--*--*--*--*--*--*--*--*--*--*--*--*--*--*--*--*--*--*--*--*--*--*--*--*-\n",
      "[['tacos', 'sushi', 'hamburguesas']]\n",
      "['tacos', 'sushi', 'hamburguesas']\n",
      "tacos\n",
      "sushi\n",
      "hamburguesas\n",
      "----------------------------------------------------------------------------------------------------\n",
      "-*--*--*--*--*--*--*--*--*--*--*--*--*--*--*--*--*--*--*--*--*--*--*--*--*--*--*--*--*--*--*--*--*--*--*--*--*--*--*--*--*--*--*--*--*--*--*--*--*--*-\n",
      "[['sushi', 'pho', 'tacos']]\n",
      "['sushi', 'pho', 'tacos']\n",
      "sushi\n",
      "pho\n",
      "tacos\n",
      "----------------------------------------------------------------------------------------------------\n",
      "-*--*--*--*--*--*--*--*--*--*--*--*--*--*--*--*--*--*--*--*--*--*--*--*--*--*--*--*--*--*--*--*--*--*--*--*--*--*--*--*--*--*--*--*--*--*--*--*--*--*-\n",
      "[['Tacos de pastor', ' Ramen', 'Alitas']]\n",
      "['Tacos de pastor', ' Ramen', 'Alitas']\n",
      "Tacos de pastor\n",
      " Ramen\n",
      "Alitas\n",
      "----------------------------------------------------------------------------------------------------\n",
      "-*--*--*--*--*--*--*--*--*--*--*--*--*--*--*--*--*--*--*--*--*--*--*--*--*--*--*--*--*--*--*--*--*--*--*--*--*--*--*--*--*--*--*--*--*--*--*--*--*--*-\n",
      "[['sushi', 'hamburguesa', 'ramen']]\n",
      "['sushi', 'hamburguesa', 'ramen']\n",
      "sushi\n",
      "hamburguesa\n",
      "ramen\n",
      "----------------------------------------------------------------------------------------------------\n",
      "-*--*--*--*--*--*--*--*--*--*--*--*--*--*--*--*--*--*--*--*--*--*--*--*--*--*--*--*--*--*--*--*--*--*--*--*--*--*--*--*--*--*--*--*--*--*--*--*--*--*-\n",
      "[['porotos granados', 'papas fritas', 'hamburguesas']]\n",
      "['porotos granados', 'papas fritas', 'hamburguesas']\n",
      "porotos granados\n",
      "papas fritas\n",
      "hamburguesas\n",
      "----------------------------------------------------------------------------------------------------\n",
      "-*--*--*--*--*--*--*--*--*--*--*--*--*--*--*--*--*--*--*--*--*--*--*--*--*--*--*--*--*--*--*--*--*--*--*--*--*--*--*--*--*--*--*--*--*--*--*--*--*--*-\n",
      "[['tacos', 'ramen', 'vegetariana']]\n",
      "['tacos', 'ramen', 'vegetariana']\n",
      "tacos\n",
      "ramen\n",
      "vegetariana\n",
      "----------------------------------------------------------------------------------------------------\n",
      "-*--*--*--*--*--*--*--*--*--*--*--*--*--*--*--*--*--*--*--*--*--*--*--*--*--*--*--*--*--*--*--*--*--*--*--*--*--*--*--*--*--*--*--*--*--*--*--*--*--*-\n",
      "[['tamales', 'pozole', 'pasta']]\n",
      "['tamales', 'pozole', 'pasta']\n",
      "tamales\n",
      "pozole\n",
      "pasta\n",
      "----------------------------------------------------------------------------------------------------\n",
      "-*--*--*--*--*--*--*--*--*--*--*--*--*--*--*--*--*--*--*--*--*--*--*--*--*--*--*--*--*--*--*--*--*--*--*--*--*--*--*--*--*--*--*--*--*--*--*--*--*--*-\n"
     ]
    }
   ],
   "source": [
    "lista_comidas_plana = []\n",
    "for lista_listas in lista_comidas_persona:\n",
    "    print(lista_listas)\n",
    "    for lista_comidas in lista_listas:\n",
    "        print(lista_comidas)\n",
    "        for comida in lista_comidas:\n",
    "            print(comida)\n",
    "            lista_comidas_plana.append(comida)\n",
    "        print('-'*100)\n",
    "    print('-*-'*50)"
   ]
  },
  {
   "cell_type": "code",
   "execution_count": 4,
   "id": "6c456f57-8606-4337-bac2-453cec55c6e8",
   "metadata": {},
   "outputs": [
    {
     "name": "stdout",
     "output_type": "stream",
     "text": [
      "['hamburguesa', 'tacos de carnitas', 'alitas', 'pizza', 'sushi', 'alitas', 'pizza', 'sushi', 'alitas', 'tacos de pollo', 'pizza', 'pasta', 'tacos', 'sushi', 'hamburguesas', 'sushi', 'pho', 'tacos', 'Tacos de pastor', ' Ramen', 'Alitas', 'sushi', 'hamburguesa', 'ramen', 'porotos granados', 'papas fritas', 'hamburguesas', 'tacos', 'ramen', 'vegetariana', 'tamales', 'pozole', 'pasta']\n"
     ]
    }
   ],
   "source": [
    "print(lista_comidas_plana)"
   ]
  },
  {
   "cell_type": "code",
   "execution_count": 5,
   "id": "8f31419d-ffb9-47c4-b80d-4fe233d1365f",
   "metadata": {},
   "outputs": [],
   "source": [
    "lista_comidas_plana = []\n",
    "for lista_listas in lista_comidas_persona:\n",
    "    for lista_comidas in lista_listas:\n",
    "        for comida in lista_comidas:\n",
    "            lista_comidas_plana.append(comida)"
   ]
  },
  {
   "cell_type": "code",
   "execution_count": 6,
   "id": "3cd211a5-8c6f-492b-98da-62e82e8ba6a3",
   "metadata": {},
   "outputs": [],
   "source": [
    "lista_comidas = [1,2,3,4]"
   ]
  },
  {
   "cell_type": "code",
   "execution_count": 11,
   "id": "79f7f600-6a9a-4401-b059-c83ec0018cf7",
   "metadata": {},
   "outputs": [
    {
     "name": "stdout",
     "output_type": "stream",
     "text": [
      "['hamburguesa', 'tacos de carnitas', 'alitas', 'pizza', 'sushi', 'alitas', 'pizza', 'sushi', 'alitas', 'tacos de pollo', 'pizza', 'pasta', 'tacos', 'sushi', 'hamburguesas', 'sushi', 'pho', 'tacos', 'Tacos de pastor', ' Ramen', 'Alitas', 'sushi', 'hamburguesa', 'ramen', 'porotos granados', 'papas fritas', 'hamburguesas', 'tacos', 'ramen', 'vegetariana', 'tamales', 'pozole', 'pasta']\n"
     ]
    }
   ],
   "source": [
    "lista_comidas_comp = [comida_nuevo for lista_listas_nuevo in lista_comidas_persona for lista_comidas_nuevo in lista_listas_nuevo \n",
    "                      for comida_nuevo in lista_comidas_nuevo]\n",
    "print(lista_comidas_comp)"
   ]
  },
  {
   "cell_type": "code",
   "execution_count": null,
   "id": "6c2e9c01-b707-49ed-a638-596d25051bd1",
   "metadata": {},
   "outputs": [],
   "source": [
    "#for lista_listas_nuevo in lista_comidas_persona for lista_comidas_nuevo in lista_listas_nuevo for comida_nuevo in lista_comidas_nuevo\n",
    "# Es equivalente izquierda->derecha a arriba->abajo\n",
    "# for lista_listas_nuevo in lista_comidas_persona:\n",
    "#     for lista_comidas_nuevo in lista_listas_nuevo:\n",
    "#         for comida_nuevo in lista_comidas_nuevo:"
   ]
  },
  {
   "cell_type": "code",
   "execution_count": 12,
   "id": "b204c3b4-7ae7-43c7-b9ea-f5ebf3899041",
   "metadata": {},
   "outputs": [
    {
     "data": {
      "text/plain": [
       "['numero0',\n",
       " 'numero1',\n",
       " 'numero2',\n",
       " 'numero3',\n",
       " 'numero4',\n",
       " 'numero5',\n",
       " 'numero6',\n",
       " 'numero7',\n",
       " 'numero8',\n",
       " 'numero9',\n",
       " 'numero10']"
      ]
     },
     "execution_count": 12,
     "metadata": {},
     "output_type": "execute_result"
    }
   ],
   "source": [
    "lista_numeros_comp = [\"numero\"+str(i) for i in range(11)]\n",
    "lista_numeros_comp"
   ]
  },
  {
   "cell_type": "code",
   "execution_count": null,
   "id": "4f6027f2-a3c3-4c6d-9761-b6c757e9469a",
   "metadata": {},
   "outputs": [],
   "source": [
    "# {'numero0':0, 'numero1':1, ...}"
   ]
  },
  {
   "cell_type": "code",
   "execution_count": 18,
   "id": "36505345-f2f9-4c61-91e2-06941d421818",
   "metadata": {},
   "outputs": [
    {
     "data": {
      "text/plain": [
       "{'numero0': 0,\n",
       " 'numero1': 1,\n",
       " 'numero2': 4,\n",
       " 'numero3': 9,\n",
       " 'numero4': 16,\n",
       " 'numero5': 25,\n",
       " 'numero6': 36,\n",
       " 'numero7': 49,\n",
       " 'numero8': 64,\n",
       " 'numero9': 81,\n",
       " 'numero10': 100}"
      ]
     },
     "execution_count": 18,
     "metadata": {},
     "output_type": "execute_result"
    }
   ],
   "source": [
    "dict_numeros_comp = {\"numero\"+str(i):i**2 for i in range(11)}\n",
    "dict_numeros_comp"
   ]
  },
  {
   "cell_type": "code",
   "execution_count": 19,
   "id": "1af142ad-7de5-4d88-9134-2e5fb0d02fc1",
   "metadata": {},
   "outputs": [
    {
     "data": {
      "text/plain": [
       "{0: 'numero0',\n",
       " 1: 'numero1',\n",
       " 4: 'numero2',\n",
       " 9: 'numero3',\n",
       " 16: 'numero4',\n",
       " 25: 'numero5',\n",
       " 36: 'numero6',\n",
       " 49: 'numero7',\n",
       " 64: 'numero8',\n",
       " 81: 'numero9',\n",
       " 100: 'numero10'}"
      ]
     },
     "execution_count": 19,
     "metadata": {},
     "output_type": "execute_result"
    }
   ],
   "source": [
    "{value:key for key, value in dict_numeros_comp.items()}"
   ]
  },
  {
   "cell_type": "code",
   "execution_count": 28,
   "id": "fc4f0b5d-32a5-4555-aa0f-db5db2a26ca2",
   "metadata": {},
   "outputs": [
    {
     "data": {
      "text/plain": [
       "237"
      ]
     },
     "execution_count": 28,
     "metadata": {},
     "output_type": "execute_result"
    }
   ],
   "source": [
    "ord(\"í\")"
   ]
  },
  {
   "cell_type": "code",
   "execution_count": 27,
   "id": "4805a63a-adb3-416d-bcf3-f9c481a7477a",
   "metadata": {},
   "outputs": [
    {
     "data": {
      "text/plain": [
       "']'"
      ]
     },
     "execution_count": 27,
     "metadata": {},
     "output_type": "execute_result"
    }
   ],
   "source": [
    "chr(93)"
   ]
  },
  {
   "cell_type": "code",
   "execution_count": null,
   "id": "89b48d73-512c-40d9-b63b-7ddbc9565ea4",
   "metadata": {},
   "outputs": [],
   "source": [
    "fdasjq\n",
    "    fads"
   ]
  },
  {
   "cell_type": "code",
   "execution_count": 25,
   "id": "aa73453c-fbc8-4dac-b5e1-dcc76e04cb3f",
   "metadata": {},
   "outputs": [
    {
     "data": {
      "text/plain": [
       "97"
      ]
     },
     "execution_count": 25,
     "metadata": {},
     "output_type": "execute_result"
    }
   ],
   "source": [
    "ord(\"a\")"
   ]
  },
  {
   "cell_type": "markdown",
   "id": "fb56a7df-e7d9-4706-8b89-222ed9e7454f",
   "metadata": {
    "jp-MarkdownHeadingCollapsed": true,
    "tags": []
   },
   "source": [
    "## Break para el lab"
   ]
  },
  {
   "cell_type": "code",
   "execution_count": 99,
   "id": "d19ec567-c85e-49cc-9679-2cf6f1679dc1",
   "metadata": {},
   "outputs": [],
   "source": [
    "import os\n",
    "import pandas as pd"
   ]
  },
  {
   "cell_type": "code",
   "execution_count": null,
   "id": "cd4f06ea-4839-4d3d-80be-b42a9bea1099",
   "metadata": {},
   "outputs": [],
   "source": [
    "lista_rutas = [files for fdasklfjasdjf]\n",
    "lista_dataframes = [pd.read_csv(files) for fdasjfkasdkl]"
   ]
  },
  {
   "cell_type": "code",
   "execution_count": 88,
   "id": "b856d508-f9d8-409e-9eb2-0afd76f7ee94",
   "metadata": {},
   "outputs": [
    {
     "data": {
      "text/plain": [
       "['.ipynb_checkpoints',\n",
       " 'file.txt',\n",
       " 'file2.txt',\n",
       " 'ListComprehension.ipynb',\n",
       " 'ListSetsTuplesDicts.ipynb',\n",
       " 'StringOps.ipynb',\n",
       " 'Zen.ipynb']"
      ]
     },
     "execution_count": 88,
     "metadata": {},
     "output_type": "execute_result"
    }
   ],
   "source": [
    "os.listdir()"
   ]
  },
  {
   "cell_type": "code",
   "execution_count": 92,
   "id": "a4cdb76d-a652-44bf-a4e5-7c3ecb542414",
   "metadata": {},
   "outputs": [
    {
     "name": "stdout",
     "output_type": "stream",
     "text": [
      "\n",
      "\n"
     ]
    }
   ],
   "source": [
    "print('\\n')"
   ]
  },
  {
   "cell_type": "code",
   "execution_count": 93,
   "id": "643ccac1-6ce5-4718-ab6f-3cb965bedb4b",
   "metadata": {},
   "outputs": [
    {
     "data": {
      "text/plain": [
       "['.ipynb_checkpoints',\n",
       " 'clases',\n",
       " 'feedback_prework.txt',\n",
       " 'modulo1',\n",
       " 'prueba_git']"
      ]
     },
     "execution_count": 93,
     "metadata": {},
     "output_type": "execute_result"
    }
   ],
   "source": [
    "os.listdir(r\"C:\\Users\\Usuario_Asignado\\Documents\\IronhackAbr2022\")"
   ]
  },
  {
   "cell_type": "code",
   "execution_count": 94,
   "id": "56ba8fef-60d0-44b8-a677-d97a301d46e5",
   "metadata": {},
   "outputs": [
    {
     "data": {
      "text/plain": [
       "['.ipynb_checkpoints',\n",
       " 'clases',\n",
       " 'feedback_prework.txt',\n",
       " 'modulo1',\n",
       " 'prueba_git']"
      ]
     },
     "execution_count": 94,
     "metadata": {},
     "output_type": "execute_result"
    }
   ],
   "source": [
    "os.listdir(\"C:/Users/Usuario_Asignado/Documents/IronhackAbr2022\")"
   ]
  },
  {
   "cell_type": "code",
   "execution_count": 95,
   "id": "eb92b2c1-bdb5-4080-b689-a57ff79f9fc7",
   "metadata": {},
   "outputs": [],
   "source": [
    "# Ruta absoluta es la ruta completa desde la raiz Ejemplo C:\\Users\\Usuario_Asignado\\Documents\\IronhackAbr2022\n",
    "# Ruta relativa es la ruta tomando como punto de partida donde estoy ejecutando el codigo Ejemplo .."
   ]
  },
  {
   "cell_type": "code",
   "execution_count": 96,
   "id": "5d24d8f4-14a3-40e0-b63b-7833123925d4",
   "metadata": {},
   "outputs": [
    {
     "data": {
      "text/plain": [
       "['.ipynb_checkpoints',\n",
       " 'clases',\n",
       " 'feedback_prework.txt',\n",
       " 'modulo1',\n",
       " 'prueba_git']"
      ]
     },
     "execution_count": 96,
     "metadata": {},
     "output_type": "execute_result"
    }
   ],
   "source": [
    "os.listdir('..')"
   ]
  },
  {
   "cell_type": "code",
   "execution_count": 97,
   "id": "e7640605-1b19-4e96-ad7f-143bd74e2c8f",
   "metadata": {},
   "outputs": [
    {
     "data": {
      "text/plain": [
       "['labs']"
      ]
     },
     "execution_count": 97,
     "metadata": {},
     "output_type": "execute_result"
    }
   ],
   "source": [
    "os.listdir('../modulo1')"
   ]
  },
  {
   "cell_type": "code",
   "execution_count": 98,
   "id": "1a1e67eb-17dc-45f7-93a6-aea91eb5039e",
   "metadata": {},
   "outputs": [
    {
     "data": {
      "text/plain": [
       "['labs']"
      ]
     },
     "execution_count": 98,
     "metadata": {},
     "output_type": "execute_result"
    }
   ],
   "source": [
    "os.listdir(\"C:/Users/Usuario_Asignado/Documents/IronhackAbr2022/modulo1\")"
   ]
  },
  {
   "cell_type": "code",
   "execution_count": null,
   "id": "dbedc267-7c28-4d1c-950a-1bcf0af23a61",
   "metadata": {},
   "outputs": [],
   "source": []
  }
 ],
 "metadata": {
  "kernelspec": {
   "display_name": "Python 3 (ipykernel)",
   "language": "python",
   "name": "python3"
  },
  "language_info": {
   "codemirror_mode": {
    "name": "ipython",
    "version": 3
   },
   "file_extension": ".py",
   "mimetype": "text/x-python",
   "name": "python",
   "nbconvert_exporter": "python",
   "pygments_lexer": "ipython3",
   "version": "3.8.5"
  }
 },
 "nbformat": 4,
 "nbformat_minor": 5
}
