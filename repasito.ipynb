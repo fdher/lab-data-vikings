{
 "cells": [
  {
   "cell_type": "code",
   "execution_count": 15,
   "id": "f749abe3",
   "metadata": {},
   "outputs": [
    {
     "name": "stdout",
     "output_type": "stream",
     "text": [
      "[3, 2, 1]\n",
      "[4, 6, 5]\n",
      "[]\n",
      "[9, 7, 8]\n",
      "[1, 2, 3, 4, 5, 6, 7, 8, 9]\n"
     ]
    }
   ],
   "source": [
    "v_array=[]\n",
    "flat_array=[[3, 2, 1], [4, 6, 5], [], [9, 7, 8]]\n",
    "for one_element in flat_array:\n",
    "    print(one_element)\n",
    "    if one_element in flat_array==[]:\n",
    "        v_array.append(none)\n",
    "    else:\n",
    "        for number in one_element:\n",
    "            v_array.append(number)\n",
    "print(sorted(v_array))"
   ]
  },
  {
   "cell_type": "code",
   "execution_count": null,
   "id": "75d5d77e-f044-4519-946b-8f4d9652fc2a",
   "metadata": {},
   "outputs": [],
   "source": []
  },
  {
   "cell_type": "code",
   "execution_count": null,
   "id": "32e48ed1-baf3-4e99-883d-f8596c3faa42",
   "metadata": {},
   "outputs": [],
   "source": [
    "opiniones = [(\"marcos\", 0), ('javiera',5), ('Maria',1), ('Francisca', 3), ('luis',3), ('Dennis', 4), ('fabio',4)]"
   ]
  },
  {
   "cell_type": "code",
   "execution_count": null,
   "id": "7ce64f7f-00f2-4101-815f-10a02b48d5cb",
   "metadata": {},
   "outputs": [],
   "source": [
    "personas_dudosas=[]"
   ]
  },
  {
   "cell_type": "code",
   "execution_count": null,
   "id": "13d02627-5856-42d9-8bcf-0ffadb24593a",
   "metadata": {},
   "outputs": [],
   "source": [
    "for nombre,puntuacion in opiniones:\n",
    "    if puntuacion > 1 and puntuacion < 5:\n",
    "        personas_dudosas.append(nombre)\n",
    "\n",
    "personas_dudosas"
   ]
  },
  {
   "cell_type": "code",
   "execution_count": 11,
   "id": "a16378a0-f35c-498b-898a-3740256c70b1",
   "metadata": {},
   "outputs": [
    {
     "data": {
      "text/plain": [
       "['Francisca', 'luis', 'Dennis', 'fabio']"
      ]
     },
     "execution_count": 11,
     "metadata": {},
     "output_type": "execute_result"
    }
   ],
   "source": [
    "personas_dudosas_comp=[nombre for nombre, puntuacion in opiniones if puntuacion > 1 and puntuacion < 5] #aqui es un list comprehension del for anterior\n",
    "personas_dudosas_comp"
   ]
  },
  {
   "cell_type": "code",
   "execution_count": 14,
   "id": "eb442c41-dc1f-41b9-b25a-60b778b4e69c",
   "metadata": {},
   "outputs": [
    {
     "data": {
      "text/plain": [
       "[('Francisca', 3), ('luis', 3), ('Dennis', 4), ('fabio', 4)]"
      ]
     },
     "execution_count": 14,
     "metadata": {},
     "output_type": "execute_result"
    }
   ],
   "source": [
    "personas_dudosas_comp=[(nombre,puntuacion) for nombre, puntuacion in opiniones if puntuacion > 1 and puntuacion < 5] #aqui es un list comprehension del for anterior\n",
    "personas_dudosas_comp"
   ]
  },
  {
   "cell_type": "code",
   "execution_count": 17,
   "id": "714dd1c6-4f4b-4fc7-a371-bd186b3aa18b",
   "metadata": {},
   "outputs": [
    {
     "data": {
      "text/plain": [
       "{'Francisca': 3, 'luis': 3, 'Dennis': 4, 'fabio': 4}"
      ]
     },
     "execution_count": 17,
     "metadata": {},
     "output_type": "execute_result"
    }
   ],
   "source": [
    "##pero tambien lo puedes hacer con un diccionario, solamente que tienes que tener dos elementos, recordar la relacion key:valor\n",
    "personas_dudosas_comp={nombre:puntuacion for nombre, puntuacion in opiniones if puntuacion > 1 and puntuacion < 5} #aqui es un list comprehension del for anterior\n",
    "personas_dudosas_comp\n"
   ]
  },
  {
   "cell_type": "code",
   "execution_count": null,
   "id": "e3a6d1ff-d7f4-4928-a3f9-35dde22a6abb",
   "metadata": {},
   "outputs": [],
   "source": [
    "#la ruta absoluta es la ruta desde la raiz , o la ruta relativa, que es la ruta tomando como punto de partida donde estoy ejecutando el codigo, Ejemplo: usar .. si te quieres subir de carpeta"
   ]
  },
  {
   "cell_type": "code",
   "execution_count": null,
   "id": "3a5c4f53-4bbb-4837-b92e-8a58bb439f4d",
   "metadata": {},
   "outputs": [],
   "source": [
    "#por ejemplo os.listdir('../modulo1') esto es regresarte a un nivel anterior, llamado modulo1, ya con esto estas dando una ruta relativa."
   ]
  },
  {
   "cell_type": "code",
   "execution_count": 6,
   "id": "2af5a083",
   "metadata": {},
   "outputs": [],
   "source": [
    "#ejemplo de un for doble\n",
    "\n",
    "lista_comidas_persona = [[\"hamburguesa\", \"tacos de carnitas\", \"alitas\"], [\"pizza\", \"sushi\", \"alitas\"],\n",
    "                 ['tacos de pollo','pizza','pasta'], [\"tacos\", \"sushi\", \"hamburguesas\"],\n",
    "                 [\"sushi\",\"pho\",\"tacos\"], ['Tacos de pastor',' Ramen', 'Alitas'],\n",
    "                 [\"sushi\",\"hamburguesa\",\"ramen\"], ['porotos granados', 'papas fritas', 'hamburguesas'],\n",
    "                 ['tacos', 'ramen', 'vegetariana'], [\"tamales\", \"pozole\", \"pasta\"]]\n",
    "\n",
    "lista_comidas=[]\n",
    "for lista_persona in lista_comidas_persona: #en esta parte accedes primero a la lista inicial\n",
    "    for comida in lista_persona: #en esta parte iteras sobre cada elemento de la lista\n",
    "        lista_comidas.append(comida)"
   ]
  },
  {
   "cell_type": "code",
   "execution_count": 7,
   "id": "726593b0",
   "metadata": {},
   "outputs": [
    {
     "data": {
      "text/plain": [
       "['hamburguesa',\n",
       " 'tacos de carnitas',\n",
       " 'alitas',\n",
       " 'pizza',\n",
       " 'sushi',\n",
       " 'alitas',\n",
       " 'tacos de pollo',\n",
       " 'pizza',\n",
       " 'pasta',\n",
       " 'tacos',\n",
       " 'sushi',\n",
       " 'hamburguesas',\n",
       " 'sushi',\n",
       " 'pho',\n",
       " 'tacos',\n",
       " 'Tacos de pastor',\n",
       " ' Ramen',\n",
       " 'Alitas',\n",
       " 'sushi',\n",
       " 'hamburguesa',\n",
       " 'ramen',\n",
       " 'porotos granados',\n",
       " 'papas fritas',\n",
       " 'hamburguesas',\n",
       " 'tacos',\n",
       " 'ramen',\n",
       " 'vegetariana',\n",
       " 'tamales',\n",
       " 'pozole',\n",
       " 'pasta']"
      ]
     },
     "execution_count": 7,
     "metadata": {},
     "output_type": "execute_result"
    }
   ],
   "source": [
    "lista_comidas"
   ]
  },
  {
   "cell_type": "code",
   "execution_count": null,
   "id": "be086931",
   "metadata": {},
   "outputs": [],
   "source": [
    "mandado=[comida if comida.startswith('p') else comida.upper() for comida in mandado]\n",
    "print(mandado)"
   ]
  },
  {
   "cell_type": "code",
   "execution_count": null,
   "id": "288ebfe7",
   "metadata": {},
   "outputs": [],
   "source": []
  },
  {
   "cell_type": "code",
   "execution_count": 12,
   "id": "c95d146d",
   "metadata": {},
   "outputs": [
    {
     "name": "stdout",
     "output_type": "stream",
     "text": [
      "['hamburguesa', 'tacos de carnitas', 'alitas', 'pizza', 'sushi', 'alitas', 'tacos de pollo', 'pizza', 'pasta', 'tacos', 'sushi', 'hamburguesas', 'sushi', 'pho', 'tacos', 'Tacos de pastor', ' Ramen', 'Alitas', 'sushi', 'hamburguesa', 'ramen', 'porotos granados', 'papas fritas', 'hamburguesas', 'tacos', 'ramen', 'vegetariana', 'tamales', 'pozole', 'pasta']\n"
     ]
    }
   ],
   "source": [
    "lista_comidas_comp = [comida for lista_persona in lista_comidas_persona for comida in lista_persona]\n",
    "print(lista_comidas_comp) #en este caso, lista_persona que esta al final ya tendria que haber sido\n",
    "#declarada"
   ]
  },
  {
   "cell_type": "code",
   "execution_count": null,
   "id": "4051b4f5",
   "metadata": {},
   "outputs": [],
   "source": [
    "#expresiones regulares, que expresion va a representar un caracter"
   ]
  },
  {
   "cell_type": "code",
   "execution_count": 5,
   "id": "79722618",
   "metadata": {},
   "outputs": [],
   "source": [
    "import re #la libreria que facilita el uso de expresiones regualres"
   ]
  },
  {
   "cell_type": "code",
   "execution_count": null,
   "id": "2e0296e3",
   "metadata": {},
   "outputs": [],
   "source": [
    "#regular expresions en python"
   ]
  },
  {
   "cell_type": "code",
   "execution_count": 7,
   "id": "c14778fa",
   "metadata": {},
   "outputs": [],
   "source": [
    "texto = '''zahid@hotmail.com\n",
    "871-123-45-67\n",
    "cda Calle Mi Casa #1234\n",
    "\"Tengo Hambre\" - Max, \"Tengo hambre tambien yo\" respondio Fabio'''"
   ]
  },
  {
   "cell_type": "code",
   "execution_count": 3,
   "id": "f160250f",
   "metadata": {},
   "outputs": [
    {
     "name": "stdout",
     "output_type": "stream",
     "text": [
      "zahid@hotmail.com\n",
      "871-123-45-67\n",
      "cda Calle Mi Casa #1234\n",
      "\"Tengo Hambre\" - Max, \"Tengo hambre tambien yo\" respondio Fabio\n"
     ]
    }
   ],
   "source": [
    "print(texto)"
   ]
  },
  {
   "cell_type": "code",
   "execution_count": 8,
   "id": "32dfd50f",
   "metadata": {},
   "outputs": [
    {
     "data": {
      "text/plain": [
       "<re.Match object; span=(18, 21), match='871'>"
      ]
     },
     "execution_count": 8,
     "metadata": {},
     "output_type": "execute_result"
    }
   ],
   "source": [
    "re.search(r\"\\d{3}\",texto) #La r sirve para que se tome el regex como expresion regular, puedes usar otra\n",
    "#diagonal invertida en caso de que no se quiera usar la r"
   ]
  },
  {
   "cell_type": "code",
   "execution_count": 9,
   "id": "a23e5f37",
   "metadata": {},
   "outputs": [
    {
     "name": "stdout",
     "output_type": "stream",
     "text": [
      "\n"
     ]
    }
   ],
   "source": [
    "if re.search(r\"\\d{3}\",texto):\n",
    "    print(\"Encontre algo\")     #Si se encuentra, empieza el proceso, es util para validad procesos."
   ]
  },
  {
   "cell_type": "code",
   "execution_count": 11,
   "id": "0eab99c5",
   "metadata": {},
   "outputs": [],
   "source": [
    "re.match(r\"\\d{3}-\\d{2}\",texto) #aqui no hace match porque match siempre empieza en la primera linea\n",
    "#del string"
   ]
  },
  {
   "cell_type": "code",
   "execution_count": 12,
   "id": "42c09bbd",
   "metadata": {},
   "outputs": [
    {
     "data": {
      "text/plain": [
       "<re.Match object; span=(0, 119), match='zahid@hotmail.com\\n871-123-45-67\\ncda Calle Mi Ca>"
      ]
     },
     "execution_count": 12,
     "metadata": {},
     "output_type": "execute_result"
    }
   ],
   "source": [
    "#USO de flags\n",
    "\n",
    "re.match(r\".*\",texto,re.S) #estos son los alias para las flags, recordar que el asterisco es zero o nada\n",
    "#o mas conocido que trae todo hasta que haya espacio o salto de linea o algo que no sea del anterior regex"
   ]
  },
  {
   "cell_type": "code",
   "execution_count": 13,
   "id": "13d0b6f1",
   "metadata": {},
   "outputs": [
    {
     "data": {
      "text/plain": [
       "<re.Match object; span=(0, 5), match='zahid'>"
      ]
     },
     "execution_count": 13,
     "metadata": {},
     "output_type": "execute_result"
    }
   ],
   "source": [
    "re.match(r\"\\w*\",texto,re.S) "
   ]
  },
  {
   "cell_type": "code",
   "execution_count": 14,
   "id": "941c49c0",
   "metadata": {},
   "outputs": [
    {
     "data": {
      "text/plain": [
       "['a', 'a', 'a', 'a', 'a', 'a', 'a', 'a', 'a', 'a', 'a']"
      ]
     },
     "execution_count": 14,
     "metadata": {},
     "output_type": "execute_result"
    }
   ],
   "source": [
    "#uno de los mas importantes\n",
    "re.findall(r\"a\",texto) #te encuentra todos los maches que haya a"
   ]
  },
  {
   "cell_type": "code",
   "execution_count": 16,
   "id": "e0e618af",
   "metadata": {},
   "outputs": [
    {
     "data": {
      "text/plain": [
       "['zahid@hotmail.com']"
      ]
     },
     "execution_count": 16,
     "metadata": {},
     "output_type": "execute_result"
    }
   ],
   "source": [
    "re.findall(r\"\\w*@\\w*\\.com\",texto) #con esto encuentras el correo"
   ]
  },
  {
   "cell_type": "code",
   "execution_count": 17,
   "id": "0267259c",
   "metadata": {},
   "outputs": [
    {
     "data": {
      "text/plain": [
       "[('zahid', 'hotmail')]"
      ]
     },
     "execution_count": 17,
     "metadata": {},
     "output_type": "execute_result"
    }
   ],
   "source": [
    "#por ejemplo encontrar partes de una expresion\n",
    "re.findall(r\"(\\w*)@(\\w*)\\.com\",texto)"
   ]
  },
  {
   "cell_type": "code",
   "execution_count": null,
   "id": "0c88636a",
   "metadata": {},
   "outputs": [],
   "source": [
    "print(re.sub(r\"\\d\",\"NUMERO\",texto, count=2))  #permite substituir un patron con otro que yo le especifique"
   ]
  },
  {
   "cell_type": "code",
   "execution_count": null,
   "id": "42368bf0",
   "metadata": {},
   "outputs": [],
   "source": [
    "re.sub(r\"(\\w*)@(\\w*)\\.com\",\"ironhack\",texto)"
   ]
  },
  {
   "cell_type": "code",
   "execution_count": 19,
   "id": "f54ca1db",
   "metadata": {},
   "outputs": [
    {
     "name": "stdout",
     "output_type": "stream",
     "text": [
      "zahid@ironhack.com\n",
      "871-123-45-67\n",
      "cda Calle Mi Casa #1234\n",
      "\"Tengo Hambre\" - Max, \"Tengo hambre tambien yo\" respondio Fabio\n"
     ]
    }
   ],
   "source": [
    "#para hacer grupos en python para substituciones es:\n",
    "print(re.sub(r\"(\\w*@)\\w*(\\.com)\",\"\\g<1>ironhack\\g<2>\",texto)) #el \\g es lo que empieza un grupo."
   ]
  },
  {
   "cell_type": "code",
   "execution_count": 21,
   "id": "c55f78d7",
   "metadata": {},
   "outputs": [],
   "source": [
    "numero = 'hola8adios2bye4jaja'"
   ]
  },
  {
   "cell_type": "code",
   "execution_count": 22,
   "id": "4f57998c",
   "metadata": {},
   "outputs": [
    {
     "data": {
      "text/plain": [
       "['hola', 'adios', 'bye', 'jaja']"
      ]
     },
     "execution_count": 22,
     "metadata": {},
     "output_type": "execute_result"
    }
   ],
   "source": [
    "#otro metodo\n",
    "re.split(r\"\\d\",numero) 'esto te ayuda a cortar por cada numero'"
   ]
  },
  {
   "cell_type": "code",
   "execution_count": 23,
   "id": "fd7fad09",
   "metadata": {},
   "outputs": [],
   "source": [
    "def sumar_doble_derecha(numero1,numero2):\n",
    "    '''Esta funcion regresa el valor de la multiplicacion de dos numeros'''\n",
    "    return (numero1+2*numero2)"
   ]
  },
  {
   "cell_type": "code",
   "execution_count": 25,
   "id": "a53fced9",
   "metadata": {},
   "outputs": [
    {
     "data": {
      "text/plain": [
       "13"
      ]
     },
     "execution_count": 25,
     "metadata": {},
     "output_type": "execute_result"
    }
   ],
   "source": [
    "sumar_doble_derecha(3,5) #python respeta el orden de las operaciones"
   ]
  },
  {
   "cell_type": "code",
   "execution_count": 31,
   "id": "992ac1ce",
   "metadata": {},
   "outputs": [],
   "source": [
    " def sumar_doble_medio_triple_derecha(numero1,numero2,numero3):\n",
    "        return numero1+2*numero2+3*numero3\n"
   ]
  },
  {
   "cell_type": "code",
   "execution_count": 33,
   "id": "5f568d9d",
   "metadata": {},
   "outputs": [
    {
     "data": {
      "text/plain": [
       "14"
      ]
     },
     "execution_count": 33,
     "metadata": {},
     "output_type": "execute_result"
    }
   ],
   "source": [
    "resultado=sumar_doble_medio_triple_derecha(1,2,3) \n",
    "resultado"
   ]
  },
  {
   "cell_type": "code",
   "execution_count": null,
   "id": "bcd9c44b",
   "metadata": {},
   "outputs": [],
   "source": [
    "#resultado=sumar_doble_medio_triple_derecha(1,2,numero3=3)#(positional,positional, keyword) \n"
   ]
  },
  {
   "cell_type": "code",
   "execution_count": null,
   "id": "8eed8419",
   "metadata": {},
   "outputs": [],
   "source": [
    " def sumar_doble_medio_triple_derecha(numero1,numero2,numero3):\n",
    "        return numero1+2*numero2+3*numero3"
   ]
  },
  {
   "cell_type": "code",
   "execution_count": null,
   "id": "aa36225e",
   "metadata": {},
   "outputs": [],
   "source": [
    "#ejemplo de funcion con * y **\n",
    "\n"
   ]
  },
  {
   "cell_type": "code",
   "execution_count": 41,
   "id": "5aa23090",
   "metadata": {},
   "outputs": [],
   "source": [
    "def mandado_completo(presupuesto, nombre = 'Anonimo',*amigos,**mandado_cantidades):\n",
    "    print(f'La persona comprando es {nombre} y su presupuesto es {presupuesto}')\n",
    "    print('Todo se va a repartir entre las siguientes personas')\n",
    "    for amigo in amigos:\n",
    "        print(f'*{amigo}')\n",
    "\n",
    "#primero va posiciona, luego arks, luego keywoard y hasta el final quarks ese es el orden"
   ]
  },
  {
   "cell_type": "code",
   "execution_count": 42,
   "id": "13213654",
   "metadata": {},
   "outputs": [
    {
     "ename": "TypeError",
     "evalue": "mandado_completo() got multiple values for argument 'nombre'",
     "output_type": "error",
     "traceback": [
      "\u001b[1;31m---------------------------------------------------------------------------\u001b[0m",
      "\u001b[1;31mTypeError\u001b[0m                                 Traceback (most recent call last)",
      "\u001b[1;32mC:\\Users\\FHERNA~1\\AppData\\Local\\Temp/ipykernel_3688/3892778672.py\u001b[0m in \u001b[0;36m<module>\u001b[1;34m\u001b[0m\n\u001b[1;32m----> 1\u001b[1;33m \u001b[0mmandado_completo\u001b[0m\u001b[1;33m(\u001b[0m\u001b[1;36m100\u001b[0m\u001b[1;33m,\u001b[0m\u001b[1;34m'Juan'\u001b[0m\u001b[1;33m,\u001b[0m\u001b[1;34m'Pedro'\u001b[0m\u001b[1;33m,\u001b[0m\u001b[1;34m'Luis'\u001b[0m\u001b[1;33m,\u001b[0m\u001b[0mnombre\u001b[0m\u001b[1;33m=\u001b[0m\u001b[1;34m'Zahid'\u001b[0m\u001b[1;33m,\u001b[0m\u001b[0mtacos\u001b[0m\u001b[1;33m=\u001b[0m\u001b[1;36m15\u001b[0m\u001b[1;33m,\u001b[0m\u001b[0mhuevo\u001b[0m\u001b[1;33m=\u001b[0m\u001b[1;36m1\u001b[0m\u001b[1;33m,\u001b[0m\u001b[0mpan\u001b[0m\u001b[1;33m=\u001b[0m\u001b[1;36m1\u001b[0m\u001b[1;33m)\u001b[0m\u001b[1;33m\u001b[0m\u001b[1;33m\u001b[0m\u001b[0m\n\u001b[0m",
      "\u001b[1;31mTypeError\u001b[0m: mandado_completo() got multiple values for argument 'nombre'"
     ]
    }
   ],
   "source": [
    "#referencia:\n",
    "#recuerda que el valor posicional siempre es necesario. Si no lo introduces, truena\n",
    "def mandado_completo(posicional, *args, keywoard='defecto',**kwargs):"
   ]
  },
  {
   "cell_type": "code",
   "execution_count": null,
   "id": "170b2905",
   "metadata": {},
   "outputs": [],
   "source": [
    "######## LABMDA FUNCTIONS #######"
   ]
  },
  {
   "cell_type": "code",
   "execution_count": null,
   "id": "059c3306",
   "metadata": {},
   "outputs": [],
   "source": [
    "def nombre_funcion(argumento):\n",
    "    return argumento"
   ]
  },
  {
   "cell_type": "code",
   "execution_count": 1,
   "id": "7310a164",
   "metadata": {},
   "outputs": [
    {
     "data": {
      "text/plain": [
       "<function __main__.<lambda>(argumento)>"
      ]
     },
     "execution_count": 1,
     "metadata": {},
     "output_type": "execute_result"
    }
   ],
   "source": [
    "# Sintaxtis tradicional de lambdas\n",
    "\n",
    "# lambda argumentos: return\n",
    "\n",
    "lambda argumento: argumento"
   ]
  },
  {
   "cell_type": "code",
   "execution_count": 3,
   "id": "10b188fd",
   "metadata": {},
   "outputs": [],
   "source": [
    "def multiplicar2(numero):\n",
    "    return numero*2"
   ]
  },
  {
   "cell_type": "code",
   "execution_count": 5,
   "id": "30332ca8",
   "metadata": {},
   "outputs": [
    {
     "data": {
      "text/plain": [
       "10"
      ]
     },
     "execution_count": 5,
     "metadata": {},
     "output_type": "execute_result"
    }
   ],
   "source": [
    "multiplicar2(5)"
   ]
  },
  {
   "cell_type": "code",
   "execution_count": 7,
   "id": "407f56d9",
   "metadata": {},
   "outputs": [],
   "source": [
    "multiplicar2_lambda= lambda numero: numero *2"
   ]
  },
  {
   "cell_type": "code",
   "execution_count": 8,
   "id": "0f770972",
   "metadata": {},
   "outputs": [
    {
     "data": {
      "text/plain": [
       "10"
      ]
     },
     "execution_count": 8,
     "metadata": {},
     "output_type": "execute_result"
    }
   ],
   "source": [
    "multiplicar2_lambda(5)"
   ]
  },
  {
   "cell_type": "code",
   "execution_count": 10,
   "id": "d0094ca2",
   "metadata": {},
   "outputs": [],
   "source": [
    "#un formato de lambda seria\n",
    "\n",
    "sumar_lambda=lambda n1,n2: n1+n2"
   ]
  },
  {
   "cell_type": "code",
   "execution_count": 12,
   "id": "6f8b55fc",
   "metadata": {},
   "outputs": [
    {
     "data": {
      "text/plain": [
       "8"
      ]
     },
     "execution_count": 12,
     "metadata": {},
     "output_type": "execute_result"
    }
   ],
   "source": [
    "sumar_lambda(3,5)"
   ]
  },
  {
   "cell_type": "code",
   "execution_count": null,
   "id": "202c987c",
   "metadata": {},
   "outputs": [],
   "source": [
    "# par_impar_lambda = lambda numero: "
   ]
  },
  {
   "cell_type": "code",
   "execution_count": 14,
   "id": "989c6410",
   "metadata": {},
   "outputs": [
    {
     "ename": "SyntaxError",
     "evalue": "invalid syntax (Temp/ipykernel_1708/3926023498.py, line 5)",
     "output_type": "error",
     "traceback": [
      "\u001b[1;36m  File \u001b[1;32m\"C:\\Users\\FHERNA~1\\AppData\\Local\\Temp/ipykernel_1708/3926023498.py\"\u001b[1;36m, line \u001b[1;32m5\u001b[0m\n\u001b[1;33m    lista_pares_impares=[else print('Impar') i for numero in range(numero) if i % 2 ==0 print('True')]\u001b[0m\n\u001b[1;37m                         ^\u001b[0m\n\u001b[1;31mSyntaxError\u001b[0m\u001b[1;31m:\u001b[0m invalid syntax\n"
     ]
    }
   ],
   "source": [
    "lista_pares_impares=[]\n",
    "\n",
    "numero=4\n",
    "\n",
    "\n",
    "for i in range(n):\n",
    "    appr\n"
   ]
  },
  {
   "cell_type": "code",
   "execution_count": 15,
   "id": "4c675008",
   "metadata": {},
   "outputs": [
    {
     "data": {
      "text/plain": [
       "'a'"
      ]
     },
     "execution_count": 15,
     "metadata": {},
     "output_type": "execute_result"
    }
   ],
   "source": [
    "prueba_lambda=(lambda caracter: caracter[-1])(\"fasdasda\")"
   ]
  },
  {
   "cell_type": "code",
   "execution_count": null,
   "id": "67cf60d2",
   "metadata": {},
   "outputs": [],
   "source": [
    "lambda key: "
   ]
  },
  {
   "cell_type": "code",
   "execution_count": 9,
   "id": "3bd689a4",
   "metadata": {},
   "outputs": [],
   "source": [
    "cuadrado = lambda numero: numero**2"
   ]
  },
  {
   "cell_type": "code",
   "execution_count": 10,
   "id": "9d5e4b86",
   "metadata": {},
   "outputs": [
    {
     "data": {
      "text/plain": [
       "25"
      ]
     },
     "execution_count": 10,
     "metadata": {},
     "output_type": "execute_result"
    }
   ],
   "source": [
    "cuadrado(5)"
   ]
  },
  {
   "cell_type": "code",
   "execution_count": 12,
   "id": "3706b375",
   "metadata": {},
   "outputs": [],
   "source": [
    "#El map te ayuda a optimizar recursos y que sea mas simple de leer.7\n",
    "numeros_entrada=[2,3,5,1,6,3]"
   ]
  },
  {
   "cell_type": "code",
   "execution_count": 13,
   "id": "40ea7107",
   "metadata": {},
   "outputs": [
    {
     "data": {
      "text/plain": [
       "<map at 0x1585df20670>"
      ]
     },
     "execution_count": 13,
     "metadata": {},
     "output_type": "execute_result"
    }
   ],
   "source": [
    "map(cuadrado, numeros_entrada)"
   ]
  },
  {
   "cell_type": "code",
   "execution_count": 14,
   "id": "70bf8402",
   "metadata": {},
   "outputs": [],
   "source": [
    "numeros_entrada=[cuadrado(valor) for valor in numeros_entrada]"
   ]
  },
  {
   "cell_type": "code",
   "execution_count": 18,
   "id": "b6aa380f",
   "metadata": {},
   "outputs": [],
   "source": [
    "#map en pandas, tambien conocido como apply\n",
    "\n",
    "columna_mal = ['M','F','M','M','M','m','masculino','no se','F','brak'] #esta columna es mas dificil de tratar\n",
    "#debido a que tienen un formato diferente"
   ]
  },
  {
   "cell_type": "code",
   "execution_count": 23,
   "id": "e4ad757b",
   "metadata": {},
   "outputs": [],
   "source": [
    "#para reparar lo anterior es hacer un diccionario\n",
    "\n",
    "cambios={'m':'M','M':'M','masculino':'M','F':'F','no se':'N','brak':'N'}"
   ]
  },
  {
   "cell_type": "code",
   "execution_count": 24,
   "id": "3166df07",
   "metadata": {},
   "outputs": [
    {
     "data": {
      "text/plain": [
       "['M', 'F', 'M', 'M', 'M', 'M', 'M', 'N', 'F', 'N']"
      ]
     },
     "execution_count": 24,
     "metadata": {},
     "output_type": "execute_result"
    }
   ],
   "source": [
    "list(map(lambda palabra: cambios[palabra], columna_mal))"
   ]
  },
  {
   "cell_type": "code",
   "execution_count": null,
   "id": "1df3e6d2",
   "metadata": {},
   "outputs": [],
   "source": [
    "###Ejemplos de clases"
   ]
  },
  {
   "cell_type": "code",
   "execution_count": null,
   "id": "413fe1dd",
   "metadata": {},
   "outputs": [],
   "source": [
    "class Nueva():\n",
    "    pass"
   ]
  },
  {
   "cell_type": "code",
   "execution_count": null,
   "id": "43b9a943",
   "metadata": {},
   "outputs": [],
   "source": [
    "#En caso de que no haya nada en parentisis, se le pueden quitar y no habra problema"
   ]
  },
  {
   "cell_type": "code",
   "execution_count": 1,
   "id": "32e48188",
   "metadata": {},
   "outputs": [
    {
     "name": "stdout",
     "output_type": "stream",
     "text": [
      "Input number of seconds to countdown: 10\n"
     ]
    },
    {
     "ename": "TypeError",
     "evalue": "unsupported operand type(s) for divmod(): 'str' and 'int'",
     "output_type": "error",
     "traceback": [
      "\u001b[1;31m---------------------------------------------------------------------------\u001b[0m",
      "\u001b[1;31mTypeError\u001b[0m                                 Traceback (most recent call last)",
      "\u001b[1;32mC:\\Users\\FHERNA~1\\AppData\\Local\\Temp/ipykernel_25240/2795207828.py\u001b[0m in \u001b[0;36m<module>\u001b[1;34m\u001b[0m\n\u001b[0;32m     12\u001b[0m \u001b[1;33m\u001b[0m\u001b[0m\n\u001b[0;32m     13\u001b[0m \u001b[0minp\u001b[0m \u001b[1;33m=\u001b[0m \u001b[0minput\u001b[0m\u001b[1;33m(\u001b[0m\u001b[1;34m'Input number of seconds to countdown: '\u001b[0m\u001b[1;33m)\u001b[0m\u001b[1;33m\u001b[0m\u001b[1;33m\u001b[0m\u001b[0m\n\u001b[1;32m---> 14\u001b[1;33m \u001b[0mcountdown\u001b[0m\u001b[1;33m(\u001b[0m\u001b[0minp\u001b[0m\u001b[1;33m)\u001b[0m\u001b[1;33m\u001b[0m\u001b[1;33m\u001b[0m\u001b[0m\n\u001b[0m",
      "\u001b[1;32mC:\\Users\\FHERNA~1\\AppData\\Local\\Temp/ipykernel_25240/2795207828.py\u001b[0m in \u001b[0;36mcountdown\u001b[1;34m(num_of_secs)\u001b[0m\n\u001b[0;32m      3\u001b[0m \u001b[1;32mdef\u001b[0m \u001b[0mcountdown\u001b[0m\u001b[1;33m(\u001b[0m\u001b[0mnum_of_secs\u001b[0m\u001b[1;33m)\u001b[0m\u001b[1;33m:\u001b[0m\u001b[1;33m\u001b[0m\u001b[1;33m\u001b[0m\u001b[0m\n\u001b[0;32m      4\u001b[0m     \u001b[1;32mwhile\u001b[0m \u001b[0mnum_of_secs\u001b[0m\u001b[1;33m:\u001b[0m\u001b[1;33m\u001b[0m\u001b[1;33m\u001b[0m\u001b[0m\n\u001b[1;32m----> 5\u001b[1;33m         \u001b[0mm\u001b[0m\u001b[1;33m,\u001b[0m \u001b[0ms\u001b[0m \u001b[1;33m=\u001b[0m \u001b[0mdivmod\u001b[0m\u001b[1;33m(\u001b[0m\u001b[0mnum_of_secs\u001b[0m\u001b[1;33m,\u001b[0m \u001b[1;36m60\u001b[0m\u001b[1;33m)\u001b[0m\u001b[1;33m\u001b[0m\u001b[1;33m\u001b[0m\u001b[0m\n\u001b[0m\u001b[0;32m      6\u001b[0m         \u001b[0mmin_sec_format\u001b[0m \u001b[1;33m=\u001b[0m \u001b[1;34m'{:02d}:{:02d}'\u001b[0m\u001b[1;33m.\u001b[0m\u001b[0mformat\u001b[0m\u001b[1;33m(\u001b[0m\u001b[0mm\u001b[0m\u001b[1;33m,\u001b[0m \u001b[0ms\u001b[0m\u001b[1;33m)\u001b[0m\u001b[1;33m\u001b[0m\u001b[1;33m\u001b[0m\u001b[0m\n\u001b[0;32m      7\u001b[0m         \u001b[0mprint\u001b[0m\u001b[1;33m(\u001b[0m\u001b[0mmin_sec_format\u001b[0m\u001b[1;33m,\u001b[0m \u001b[0mend\u001b[0m\u001b[1;33m=\u001b[0m\u001b[1;34m'/r'\u001b[0m\u001b[1;33m)\u001b[0m\u001b[1;33m\u001b[0m\u001b[1;33m\u001b[0m\u001b[0m\n",
      "\u001b[1;31mTypeError\u001b[0m: unsupported operand type(s) for divmod(): 'str' and 'int'"
     ]
    }
   ],
   "source": [
    "import time\n",
    "\n",
    "def countdown(num_of_secs):\n",
    "    while num_of_secs:\n",
    "        m, s = divmod(num_of_secs, 60)\n",
    "        min_sec_format = '{:02d}:{:02d}'.format(m, s)\n",
    "        print(min_sec_format, end='/r')\n",
    "        time.sleep(1)\n",
    "        num_of_secs -= 1\n",
    "        \n",
    "    print('Countdown finished.')\n",
    "\n",
    "inp = input('Input number of seconds to countdown: ')\n",
    "countdown(inp)"
   ]
  },
  {
   "cell_type": "code",
   "execution_count": 8,
   "id": "a1775f94",
   "metadata": {},
   "outputs": [
    {
     "name": "stdout",
     "output_type": "stream",
     "text": [
      "Tiempo agotado\n"
     ]
    }
   ],
   "source": [
    "\n",
    "# import the time module\n",
    "import time\n",
    "  \n",
    "# define the countdown func.\n",
    "def countdown(t):\n",
    "    while t:\n",
    "        mins, secs = divmod(t, 60)\n",
    "        timer = '{:02d}:{:02d}'.format(mins, secs)\n",
    "        print(timer, end=\"\\r\")\n",
    "        time.sleep(1)\n",
    "        t -= 1\n",
    "    print('Tiempo agotado')\n",
    "    \n",
    "\n",
    "# function call\n",
    "countdown(10)"
   ]
  },
  {
   "cell_type": "code",
   "execution_count": null,
   "id": "67eaf3ea",
   "metadata": {},
   "outputs": [],
   "source": [
    "\n",
    "\n",
    "DictPreguntasRespuestas={'Las galletas Oreo son más antiguas que las galletas de chips de chocolate':'Verdadero, Oreo fue inventado en 1912',\n",
    "'Napoleon Bonaparte era extremadamente bajo':'Falso, aunque mucha gente cree que era bajito, media 1.70 m','El protagonista de One Piece se llama Monkey D Adame':'Falso, se llama Monkey D Luffy',\n",
    "'Los conejos son roedores':'Falso, los conejos son lagormorfos','La muralla China se ve desde el epsacio':'Falso, aunque muchos creen que se ve desde el espacio, solamente alcanza a verse a una altitud de 36km',\n",
    "'Los encendedores fueron inventados antes que los cerillos':'Verdadero, los encendedores fueron inventados en 1823 mientras que los cerrillos en 1826',\n",
    "'Will Smith progatonizo Matrix':'Falso, es protagonizada por Keanu Reeves','El personaje de Goku estuvo inspirado por un mono':'Verdadero, Akira Toriyama se inspiro en un mono para crear a Goku',\n",
    "'La gema verde del infinito representa el poder':'Falso, representa el tiempo','El creador de Bob Esponja es un cientifico':'Verdadero, Stephen Hillenburg fue Biologo Marino',\n",
    "'El guitarrista de Led Zeppelin se llama Slash':'Falso, se llama Jimmy Page','Krillin murio un total de 3 veces en Dragon Ball Z':'Verdadero, Krillin murio un total de 3 veces',\n",
    "'El protagonista de Death Note se llama Night':'Falso, se llama Light','Cristiano Ronaldo es conocido como el Comandante':'Verdadero, SIIIIIIUUUUUUU'}\n",
    "\n",
    "verdaderoofalso=['Verdadero o Falso']\n",
    "\n",
    "# def NuevoJuego():\n",
    "#     guess=[]\n",
    "#     correcto=[]\n",
    "#     num_pregunta=0\n",
    "\n",
    "#     for key in DictPreguntasRespuestas:\n",
    "#         print(\"-\"*20)\n",
    "#         guess=input('Verdadero o Falso?')\n",
    "#         guess=guess.uper()\n",
    "#         guesses.append(guess)\n",
    "#         for adivina in verdaderoofalso:\n",
    "#             print(\"-\"*20)\n",
    "#             print(adivina)\n",
    "\n",
    "guess=input('Verdadero o Falso')\n",
    "if isinstance(guess,str):\n",
    "    guess=input('Porfavor intenta de nuevo con caracteres')\n",
    "else:\n",
    "    for key in DictPreguntasRespuestas:\n",
    "        print('-'*20)"
   ]
  },
  {
   "cell_type": "code",
   "execution_count": null,
   "id": "8f0c334d",
   "metadata": {},
   "outputs": [],
   "source": [
    "#######PANDAS#######"
   ]
  },
  {
   "cell_type": "code",
   "execution_count": 4,
   "id": "e6492e3f",
   "metadata": {},
   "outputs": [
    {
     "ename": "NameError",
     "evalue": "name 'primer_serie' is not defined",
     "output_type": "error",
     "traceback": [
      "\u001b[1;31m---------------------------------------------------------------------------\u001b[0m",
      "\u001b[1;31mNameError\u001b[0m                                 Traceback (most recent call last)",
      "\u001b[1;32mC:\\Users\\FHERNA~1\\AppData\\Local\\Temp/ipykernel_38720/3258635052.py\u001b[0m in \u001b[0;36m<module>\u001b[1;34m\u001b[0m\n\u001b[0;32m      2\u001b[0m \u001b[1;32mimport\u001b[0m \u001b[0mpandas\u001b[0m \u001b[1;32mas\u001b[0m \u001b[0mpd\u001b[0m\u001b[1;33m\u001b[0m\u001b[1;33m\u001b[0m\u001b[0m\n\u001b[0;32m      3\u001b[0m \u001b[1;33m\u001b[0m\u001b[0m\n\u001b[1;32m----> 4\u001b[1;33m \u001b[0mprimer_serie\u001b[0m\u001b[1;33m.\u001b[0m\u001b[0mpdseries\u001b[0m\u001b[1;33m=\u001b[0m\u001b[0mnp\u001b[0m\u001b[1;33m.\u001b[0m\u001b[0mrandom\u001b[0m\u001b[1;33m.\u001b[0m\u001b[0mrandint\u001b[0m\u001b[1;33m(\u001b[0m\u001b[1;36m8\u001b[0m\u001b[1;33m,\u001b[0m\u001b[1;36m23\u001b[0m\u001b[1;33m,\u001b[0m\u001b[0msize\u001b[0m\u001b[1;33m=\u001b[0m\u001b[1;36m10\u001b[0m\u001b[1;33m)\u001b[0m\u001b[1;33m\u001b[0m\u001b[1;33m\u001b[0m\u001b[0m\n\u001b[0m",
      "\u001b[1;31mNameError\u001b[0m: name 'primer_serie' is not defined"
     ]
    }
   ],
   "source": [
    "\n",
    "import numpy as np\n",
    "import pandas as pd\n",
    "\n",
    "primer_serie.pdseries=np.random.randint(8,23,size=10)"
   ]
  },
  {
   "cell_type": "code",
   "execution_count": 5,
   "id": "c4ac87a0",
   "metadata": {},
   "outputs": [
    {
     "data": {
      "text/plain": [
       "18"
      ]
     },
     "execution_count": 5,
     "metadata": {},
     "output_type": "execute_result"
    }
   ],
   "source": [
    "primer_serie[5]"
   ]
  },
  {
   "cell_type": "code",
   "execution_count": 11,
   "id": "91190e9f",
   "metadata": {},
   "outputs": [],
   "source": [
    "indices = ['uno','dos','tres','cuatro','cinco','seis','siete','ocho','nueve','diez']\n",
    "primer_df=pd.DataFrame(np.random.randint(8,23,size=10))"
   ]
  },
  {
   "cell_type": "code",
   "execution_count": 16,
   "id": "a74705cf",
   "metadata": {},
   "outputs": [
    {
     "data": {
      "text/html": [
       "<div>\n",
       "<style scoped>\n",
       "    .dataframe tbody tr th:only-of-type {\n",
       "        vertical-align: middle;\n",
       "    }\n",
       "\n",
       "    .dataframe tbody tr th {\n",
       "        vertical-align: top;\n",
       "    }\n",
       "\n",
       "    .dataframe thead th {\n",
       "        text-align: right;\n",
       "    }\n",
       "</style>\n",
       "<table border=\"1\" class=\"dataframe\">\n",
       "  <thead>\n",
       "    <tr style=\"text-align: right;\">\n",
       "      <th></th>\n",
       "      <th>0</th>\n",
       "      <th>1</th>\n",
       "      <th>2</th>\n",
       "      <th>3</th>\n",
       "    </tr>\n",
       "  </thead>\n",
       "  <tbody>\n",
       "    <tr>\n",
       "      <th>0</th>\n",
       "      <td>21</td>\n",
       "      <td>17</td>\n",
       "      <td>18</td>\n",
       "      <td>22</td>\n",
       "    </tr>\n",
       "    <tr>\n",
       "      <th>1</th>\n",
       "      <td>13</td>\n",
       "      <td>16</td>\n",
       "      <td>15</td>\n",
       "      <td>20</td>\n",
       "    </tr>\n",
       "    <tr>\n",
       "      <th>2</th>\n",
       "      <td>13</td>\n",
       "      <td>19</td>\n",
       "      <td>18</td>\n",
       "      <td>15</td>\n",
       "    </tr>\n",
       "    <tr>\n",
       "      <th>3</th>\n",
       "      <td>13</td>\n",
       "      <td>15</td>\n",
       "      <td>21</td>\n",
       "      <td>16</td>\n",
       "    </tr>\n",
       "    <tr>\n",
       "      <th>4</th>\n",
       "      <td>15</td>\n",
       "      <td>21</td>\n",
       "      <td>19</td>\n",
       "      <td>9</td>\n",
       "    </tr>\n",
       "    <tr>\n",
       "      <th>5</th>\n",
       "      <td>11</td>\n",
       "      <td>12</td>\n",
       "      <td>16</td>\n",
       "      <td>18</td>\n",
       "    </tr>\n",
       "    <tr>\n",
       "      <th>6</th>\n",
       "      <td>13</td>\n",
       "      <td>13</td>\n",
       "      <td>15</td>\n",
       "      <td>15</td>\n",
       "    </tr>\n",
       "    <tr>\n",
       "      <th>7</th>\n",
       "      <td>15</td>\n",
       "      <td>8</td>\n",
       "      <td>18</td>\n",
       "      <td>13</td>\n",
       "    </tr>\n",
       "    <tr>\n",
       "      <th>8</th>\n",
       "      <td>12</td>\n",
       "      <td>10</td>\n",
       "      <td>8</td>\n",
       "      <td>11</td>\n",
       "    </tr>\n",
       "    <tr>\n",
       "      <th>9</th>\n",
       "      <td>16</td>\n",
       "      <td>16</td>\n",
       "      <td>10</td>\n",
       "      <td>19</td>\n",
       "    </tr>\n",
       "  </tbody>\n",
       "</table>\n",
       "</div>"
      ],
      "text/plain": [
       "    0   1   2   3\n",
       "0  21  17  18  22\n",
       "1  13  16  15  20\n",
       "2  13  19  18  15\n",
       "3  13  15  21  16\n",
       "4  15  21  19   9\n",
       "5  11  12  16  18\n",
       "6  13  13  15  15\n",
       "7  15   8  18  13\n",
       "8  12  10   8  11\n",
       "9  16  16  10  19"
      ]
     },
     "execution_count": 16,
     "metadata": {},
     "output_type": "execute_result"
    }
   ],
   "source": [
    "pd.DataFrame(np.random.randint(8,23,size=[10,4]))"
   ]
  },
  {
   "cell_type": "code",
   "execution_count": 18,
   "id": "f823b889",
   "metadata": {},
   "outputs": [],
   "source": [
    "primer_df=pd.DataFrame(np.random.randint(8,23,size=[10,4]))"
   ]
  },
  {
   "cell_type": "code",
   "execution_count": 19,
   "id": "47c1c282",
   "metadata": {},
   "outputs": [],
   "source": [
    "primer_df.index=indices"
   ]
  },
  {
   "cell_type": "code",
   "execution_count": 20,
   "id": "b2a0e847",
   "metadata": {},
   "outputs": [],
   "source": [
    "primer_df.columns=['col1','col2','col3','col4']"
   ]
  },
  {
   "cell_type": "code",
   "execution_count": 21,
   "id": "0f7451c0",
   "metadata": {},
   "outputs": [
    {
     "data": {
      "text/plain": [
       "uno       12\n",
       "dos       12\n",
       "tres      12\n",
       "cuatro    17\n",
       "cinco     14\n",
       "seis      14\n",
       "siete     14\n",
       "ocho      10\n",
       "nueve     18\n",
       "diez      10\n",
       "Name: col2, dtype: int32"
      ]
     },
     "execution_count": 21,
     "metadata": {},
     "output_type": "execute_result"
    }
   ],
   "source": [
    "primer_df['col2']"
   ]
  },
  {
   "cell_type": "code",
   "execution_count": 3,
   "id": "0d32dc24",
   "metadata": {},
   "outputs": [
    {
     "ename": "NameError",
     "evalue": "name 'primer_df' is not defined",
     "output_type": "error",
     "traceback": [
      "\u001b[1;31m---------------------------------------------------------------------------\u001b[0m",
      "\u001b[1;31mNameError\u001b[0m                                 Traceback (most recent call last)",
      "\u001b[1;32mC:\\Users\\FHERNA~1\\AppData\\Local\\Temp/ipykernel_38720/3961331279.py\u001b[0m in \u001b[0;36m<module>\u001b[1;34m\u001b[0m\n\u001b[1;32m----> 1\u001b[1;33m \u001b[0mprimer_df\u001b[0m\u001b[1;33m[\u001b[0m\u001b[1;33m[\u001b[0m\u001b[1;34m'col2'\u001b[0m\u001b[1;33m,\u001b[0m\u001b[1;34m'col3'\u001b[0m\u001b[1;33m]\u001b[0m\u001b[1;33m]\u001b[0m\u001b[1;33m\u001b[0m\u001b[1;33m\u001b[0m\u001b[0m\n\u001b[0m",
      "\u001b[1;31mNameError\u001b[0m: name 'primer_df' is not defined"
     ]
    }
   ],
   "source": [
    "primer_df[['col2','col3']]"
   ]
  },
  {
   "cell_type": "code",
   "execution_count": null,
   "id": "5a67cf1d",
   "metadata": {},
   "outputs": [],
   "source": []
  },
  {
   "cell_type": "code",
   "execution_count": 2,
   "id": "f43e1772",
   "metadata": {},
   "outputs": [],
   "source": [
    "##continuando con lo de pandas\n",
    "\n",
    "#una manera de renombrar indices o columnas es hacer uso del metodo rename:\n",
    "\n",
    "primer_df.rename(colums={'tres':'tercera','cuatro':'cuarta','cinco':'quinta'}, inplace=True)\n",
    "\n",
    "#con el inplace = true se guardan los cambios efectuados al data frame, si no pones inplace, no se guardan, en general muchos metodos de pandas tienen inplace"
   ]
  },
  {
   "cell_type": "code",
   "execution_count": 5,
   "id": "3d9f3bf6",
   "metadata": {},
   "outputs": [],
   "source": [
    "data= np.random.randint(-8,23,size=[10,4])"
   ]
  },
  {
   "cell_type": "code",
   "execution_count": 7,
   "id": "6dda21f1",
   "metadata": {},
   "outputs": [
    {
     "data": {
      "text/html": [
       "<div>\n",
       "<style scoped>\n",
       "    .dataframe tbody tr th:only-of-type {\n",
       "        vertical-align: middle;\n",
       "    }\n",
       "\n",
       "    .dataframe tbody tr th {\n",
       "        vertical-align: top;\n",
       "    }\n",
       "\n",
       "    .dataframe thead th {\n",
       "        text-align: right;\n",
       "    }\n",
       "</style>\n",
       "<table border=\"1\" class=\"dataframe\">\n",
       "  <thead>\n",
       "    <tr style=\"text-align: right;\">\n",
       "      <th></th>\n",
       "      <th>uno</th>\n",
       "      <th>dos</th>\n",
       "      <th>tres</th>\n",
       "      <th>cuatro</th>\n",
       "    </tr>\n",
       "  </thead>\n",
       "  <tbody>\n",
       "    <tr>\n",
       "      <th>0</th>\n",
       "      <td>-6</td>\n",
       "      <td>-3</td>\n",
       "      <td>20</td>\n",
       "      <td>-5</td>\n",
       "    </tr>\n",
       "    <tr>\n",
       "      <th>1</th>\n",
       "      <td>-3</td>\n",
       "      <td>13</td>\n",
       "      <td>-7</td>\n",
       "      <td>-1</td>\n",
       "    </tr>\n",
       "    <tr>\n",
       "      <th>2</th>\n",
       "      <td>17</td>\n",
       "      <td>10</td>\n",
       "      <td>12</td>\n",
       "      <td>-3</td>\n",
       "    </tr>\n",
       "    <tr>\n",
       "      <th>3</th>\n",
       "      <td>-6</td>\n",
       "      <td>-2</td>\n",
       "      <td>16</td>\n",
       "      <td>12</td>\n",
       "    </tr>\n",
       "    <tr>\n",
       "      <th>4</th>\n",
       "      <td>16</td>\n",
       "      <td>17</td>\n",
       "      <td>0</td>\n",
       "      <td>4</td>\n",
       "    </tr>\n",
       "    <tr>\n",
       "      <th>5</th>\n",
       "      <td>14</td>\n",
       "      <td>-1</td>\n",
       "      <td>-7</td>\n",
       "      <td>-4</td>\n",
       "    </tr>\n",
       "    <tr>\n",
       "      <th>6</th>\n",
       "      <td>16</td>\n",
       "      <td>16</td>\n",
       "      <td>-2</td>\n",
       "      <td>-1</td>\n",
       "    </tr>\n",
       "    <tr>\n",
       "      <th>7</th>\n",
       "      <td>21</td>\n",
       "      <td>10</td>\n",
       "      <td>7</td>\n",
       "      <td>1</td>\n",
       "    </tr>\n",
       "    <tr>\n",
       "      <th>8</th>\n",
       "      <td>6</td>\n",
       "      <td>1</td>\n",
       "      <td>12</td>\n",
       "      <td>10</td>\n",
       "    </tr>\n",
       "    <tr>\n",
       "      <th>9</th>\n",
       "      <td>-2</td>\n",
       "      <td>-1</td>\n",
       "      <td>-5</td>\n",
       "      <td>8</td>\n",
       "    </tr>\n",
       "  </tbody>\n",
       "</table>\n",
       "</div>"
      ],
      "text/plain": [
       "   uno  dos  tres  cuatro\n",
       "0   -6   -3    20      -5\n",
       "1   -3   13    -7      -1\n",
       "2   17   10    12      -3\n",
       "3   -6   -2    16      12\n",
       "4   16   17     0       4\n",
       "5   14   -1    -7      -4\n",
       "6   16   16    -2      -1\n",
       "7   21   10     7       1\n",
       "8    6    1    12      10\n",
       "9   -2   -1    -5       8"
      ]
     },
     "execution_count": 7,
     "metadata": {},
     "output_type": "execute_result"
    }
   ],
   "source": [
    "pd.DataFrame(data,columns = ['uno','dos','tres','cuatro'])"
   ]
  },
  {
   "cell_type": "code",
   "execution_count": 12,
   "id": "33815160",
   "metadata": {},
   "outputs": [
    {
     "data": {
      "text/plain": [
       "10"
      ]
     },
     "execution_count": 12,
     "metadata": {},
     "output_type": "execute_result"
    }
   ],
   "source": [
    "paises=['Mexico','Canada','Chile','EUA','Colombia','Peru','Argentina','Uruguay','Paraguay','Brasil']\n",
    "len(paises)"
   ]
  },
  {
   "cell_type": "code",
   "execution_count": 13,
   "id": "1e4236ba",
   "metadata": {},
   "outputs": [],
   "source": [
    "df_paises_col=pd.DataFrame(data,columns = ['Enero','Febrero','Marzo','Abril'],index=paises)"
   ]
  },
  {
   "cell_type": "code",
   "execution_count": 14,
   "id": "e7d7caf4",
   "metadata": {},
   "outputs": [],
   "source": [
    "df_paises_col.columns=df_paises_col.columns.str.lower()"
   ]
  },
  {
   "cell_type": "code",
   "execution_count": 15,
   "id": "dcfe4c05",
   "metadata": {},
   "outputs": [
    {
     "data": {
      "text/html": [
       "<div>\n",
       "<style scoped>\n",
       "    .dataframe tbody tr th:only-of-type {\n",
       "        vertical-align: middle;\n",
       "    }\n",
       "\n",
       "    .dataframe tbody tr th {\n",
       "        vertical-align: top;\n",
       "    }\n",
       "\n",
       "    .dataframe thead th {\n",
       "        text-align: right;\n",
       "    }\n",
       "</style>\n",
       "<table border=\"1\" class=\"dataframe\">\n",
       "  <thead>\n",
       "    <tr style=\"text-align: right;\">\n",
       "      <th></th>\n",
       "      <th>enero</th>\n",
       "      <th>febrero</th>\n",
       "      <th>marzo</th>\n",
       "      <th>abril</th>\n",
       "    </tr>\n",
       "  </thead>\n",
       "  <tbody>\n",
       "    <tr>\n",
       "      <th>Mexico</th>\n",
       "      <td>-6</td>\n",
       "      <td>-3</td>\n",
       "      <td>20</td>\n",
       "      <td>-5</td>\n",
       "    </tr>\n",
       "    <tr>\n",
       "      <th>Canada</th>\n",
       "      <td>-3</td>\n",
       "      <td>13</td>\n",
       "      <td>-7</td>\n",
       "      <td>-1</td>\n",
       "    </tr>\n",
       "    <tr>\n",
       "      <th>Chile</th>\n",
       "      <td>17</td>\n",
       "      <td>10</td>\n",
       "      <td>12</td>\n",
       "      <td>-3</td>\n",
       "    </tr>\n",
       "    <tr>\n",
       "      <th>EUA</th>\n",
       "      <td>-6</td>\n",
       "      <td>-2</td>\n",
       "      <td>16</td>\n",
       "      <td>12</td>\n",
       "    </tr>\n",
       "    <tr>\n",
       "      <th>Colombia</th>\n",
       "      <td>16</td>\n",
       "      <td>17</td>\n",
       "      <td>0</td>\n",
       "      <td>4</td>\n",
       "    </tr>\n",
       "    <tr>\n",
       "      <th>Peru</th>\n",
       "      <td>14</td>\n",
       "      <td>-1</td>\n",
       "      <td>-7</td>\n",
       "      <td>-4</td>\n",
       "    </tr>\n",
       "    <tr>\n",
       "      <th>Argentina</th>\n",
       "      <td>16</td>\n",
       "      <td>16</td>\n",
       "      <td>-2</td>\n",
       "      <td>-1</td>\n",
       "    </tr>\n",
       "    <tr>\n",
       "      <th>Uruguay</th>\n",
       "      <td>21</td>\n",
       "      <td>10</td>\n",
       "      <td>7</td>\n",
       "      <td>1</td>\n",
       "    </tr>\n",
       "    <tr>\n",
       "      <th>Paraguay</th>\n",
       "      <td>6</td>\n",
       "      <td>1</td>\n",
       "      <td>12</td>\n",
       "      <td>10</td>\n",
       "    </tr>\n",
       "    <tr>\n",
       "      <th>Brasil</th>\n",
       "      <td>-2</td>\n",
       "      <td>-1</td>\n",
       "      <td>-5</td>\n",
       "      <td>8</td>\n",
       "    </tr>\n",
       "  </tbody>\n",
       "</table>\n",
       "</div>"
      ],
      "text/plain": [
       "           enero  febrero  marzo  abril\n",
       "Mexico        -6       -3     20     -5\n",
       "Canada        -3       13     -7     -1\n",
       "Chile         17       10     12     -3\n",
       "EUA           -6       -2     16     12\n",
       "Colombia      16       17      0      4\n",
       "Peru          14       -1     -7     -4\n",
       "Argentina     16       16     -2     -1\n",
       "Uruguay       21       10      7      1\n",
       "Paraguay       6        1     12     10\n",
       "Brasil        -2       -1     -5      8"
      ]
     },
     "execution_count": 15,
     "metadata": {},
     "output_type": "execute_result"
    }
   ],
   "source": [
    "df_paises_col #tambien es posible usar f strings con pandass"
   ]
  },
  {
   "cell_type": "code",
   "execution_count": 20,
   "id": "ec0c9383",
   "metadata": {},
   "outputs": [],
   "source": [
    "df_paises_col=df_paises_col.reset_index(drop=True)\n",
    "df_paises_col.drop(columns=['level_0'], inplace=True)\n"
   ]
  },
  {
   "cell_type": "code",
   "execution_count": 21,
   "id": "96c0135d",
   "metadata": {},
   "outputs": [
    {
     "data": {
      "text/html": [
       "<div>\n",
       "<style scoped>\n",
       "    .dataframe tbody tr th:only-of-type {\n",
       "        vertical-align: middle;\n",
       "    }\n",
       "\n",
       "    .dataframe tbody tr th {\n",
       "        vertical-align: top;\n",
       "    }\n",
       "\n",
       "    .dataframe thead th {\n",
       "        text-align: right;\n",
       "    }\n",
       "</style>\n",
       "<table border=\"1\" class=\"dataframe\">\n",
       "  <thead>\n",
       "    <tr style=\"text-align: right;\">\n",
       "      <th></th>\n",
       "      <th>index</th>\n",
       "      <th>enero</th>\n",
       "      <th>febrero</th>\n",
       "      <th>marzo</th>\n",
       "      <th>abril</th>\n",
       "    </tr>\n",
       "  </thead>\n",
       "  <tbody>\n",
       "    <tr>\n",
       "      <th>0</th>\n",
       "      <td>Mexico</td>\n",
       "      <td>-6</td>\n",
       "      <td>-3</td>\n",
       "      <td>20</td>\n",
       "      <td>-5</td>\n",
       "    </tr>\n",
       "    <tr>\n",
       "      <th>1</th>\n",
       "      <td>Canada</td>\n",
       "      <td>-3</td>\n",
       "      <td>13</td>\n",
       "      <td>-7</td>\n",
       "      <td>-1</td>\n",
       "    </tr>\n",
       "    <tr>\n",
       "      <th>2</th>\n",
       "      <td>Chile</td>\n",
       "      <td>17</td>\n",
       "      <td>10</td>\n",
       "      <td>12</td>\n",
       "      <td>-3</td>\n",
       "    </tr>\n",
       "    <tr>\n",
       "      <th>3</th>\n",
       "      <td>EUA</td>\n",
       "      <td>-6</td>\n",
       "      <td>-2</td>\n",
       "      <td>16</td>\n",
       "      <td>12</td>\n",
       "    </tr>\n",
       "    <tr>\n",
       "      <th>4</th>\n",
       "      <td>Colombia</td>\n",
       "      <td>16</td>\n",
       "      <td>17</td>\n",
       "      <td>0</td>\n",
       "      <td>4</td>\n",
       "    </tr>\n",
       "    <tr>\n",
       "      <th>5</th>\n",
       "      <td>Peru</td>\n",
       "      <td>14</td>\n",
       "      <td>-1</td>\n",
       "      <td>-7</td>\n",
       "      <td>-4</td>\n",
       "    </tr>\n",
       "    <tr>\n",
       "      <th>6</th>\n",
       "      <td>Argentina</td>\n",
       "      <td>16</td>\n",
       "      <td>16</td>\n",
       "      <td>-2</td>\n",
       "      <td>-1</td>\n",
       "    </tr>\n",
       "    <tr>\n",
       "      <th>7</th>\n",
       "      <td>Uruguay</td>\n",
       "      <td>21</td>\n",
       "      <td>10</td>\n",
       "      <td>7</td>\n",
       "      <td>1</td>\n",
       "    </tr>\n",
       "    <tr>\n",
       "      <th>8</th>\n",
       "      <td>Paraguay</td>\n",
       "      <td>6</td>\n",
       "      <td>1</td>\n",
       "      <td>12</td>\n",
       "      <td>10</td>\n",
       "    </tr>\n",
       "    <tr>\n",
       "      <th>9</th>\n",
       "      <td>Brasil</td>\n",
       "      <td>-2</td>\n",
       "      <td>-1</td>\n",
       "      <td>-5</td>\n",
       "      <td>8</td>\n",
       "    </tr>\n",
       "  </tbody>\n",
       "</table>\n",
       "</div>"
      ],
      "text/plain": [
       "       index  enero  febrero  marzo  abril\n",
       "0     Mexico     -6       -3     20     -5\n",
       "1     Canada     -3       13     -7     -1\n",
       "2      Chile     17       10     12     -3\n",
       "3        EUA     -6       -2     16     12\n",
       "4   Colombia     16       17      0      4\n",
       "5       Peru     14       -1     -7     -4\n",
       "6  Argentina     16       16     -2     -1\n",
       "7    Uruguay     21       10      7      1\n",
       "8   Paraguay      6        1     12     10\n",
       "9     Brasil     -2       -1     -5      8"
      ]
     },
     "execution_count": 21,
     "metadata": {},
     "output_type": "execute_result"
    }
   ],
   "source": [
    "df_paises_col"
   ]
  },
  {
   "cell_type": "code",
   "execution_count": 24,
   "id": "615b92df",
   "metadata": {},
   "outputs": [],
   "source": [
    "df_paises_col.rename(columns={'index':'pais'},inplace=True) #con esto se cambian el nombre de columnas, sin olvidar el inplace"
   ]
  },
  {
   "cell_type": "code",
   "execution_count": 25,
   "id": "d337fa61",
   "metadata": {},
   "outputs": [
    {
     "data": {
      "text/html": [
       "<div>\n",
       "<style scoped>\n",
       "    .dataframe tbody tr th:only-of-type {\n",
       "        vertical-align: middle;\n",
       "    }\n",
       "\n",
       "    .dataframe tbody tr th {\n",
       "        vertical-align: top;\n",
       "    }\n",
       "\n",
       "    .dataframe thead th {\n",
       "        text-align: right;\n",
       "    }\n",
       "</style>\n",
       "<table border=\"1\" class=\"dataframe\">\n",
       "  <thead>\n",
       "    <tr style=\"text-align: right;\">\n",
       "      <th></th>\n",
       "      <th>pais</th>\n",
       "      <th>enero</th>\n",
       "      <th>febrero</th>\n",
       "      <th>marzo</th>\n",
       "      <th>abril</th>\n",
       "    </tr>\n",
       "  </thead>\n",
       "  <tbody>\n",
       "    <tr>\n",
       "      <th>0</th>\n",
       "      <td>Mexico</td>\n",
       "      <td>-6</td>\n",
       "      <td>-3</td>\n",
       "      <td>20</td>\n",
       "      <td>-5</td>\n",
       "    </tr>\n",
       "    <tr>\n",
       "      <th>1</th>\n",
       "      <td>Canada</td>\n",
       "      <td>-3</td>\n",
       "      <td>13</td>\n",
       "      <td>-7</td>\n",
       "      <td>-1</td>\n",
       "    </tr>\n",
       "    <tr>\n",
       "      <th>2</th>\n",
       "      <td>Chile</td>\n",
       "      <td>17</td>\n",
       "      <td>10</td>\n",
       "      <td>12</td>\n",
       "      <td>-3</td>\n",
       "    </tr>\n",
       "    <tr>\n",
       "      <th>3</th>\n",
       "      <td>EUA</td>\n",
       "      <td>-6</td>\n",
       "      <td>-2</td>\n",
       "      <td>16</td>\n",
       "      <td>12</td>\n",
       "    </tr>\n",
       "    <tr>\n",
       "      <th>4</th>\n",
       "      <td>Colombia</td>\n",
       "      <td>16</td>\n",
       "      <td>17</td>\n",
       "      <td>0</td>\n",
       "      <td>4</td>\n",
       "    </tr>\n",
       "    <tr>\n",
       "      <th>5</th>\n",
       "      <td>Peru</td>\n",
       "      <td>14</td>\n",
       "      <td>-1</td>\n",
       "      <td>-7</td>\n",
       "      <td>-4</td>\n",
       "    </tr>\n",
       "    <tr>\n",
       "      <th>6</th>\n",
       "      <td>Argentina</td>\n",
       "      <td>16</td>\n",
       "      <td>16</td>\n",
       "      <td>-2</td>\n",
       "      <td>-1</td>\n",
       "    </tr>\n",
       "    <tr>\n",
       "      <th>7</th>\n",
       "      <td>Uruguay</td>\n",
       "      <td>21</td>\n",
       "      <td>10</td>\n",
       "      <td>7</td>\n",
       "      <td>1</td>\n",
       "    </tr>\n",
       "    <tr>\n",
       "      <th>8</th>\n",
       "      <td>Paraguay</td>\n",
       "      <td>6</td>\n",
       "      <td>1</td>\n",
       "      <td>12</td>\n",
       "      <td>10</td>\n",
       "    </tr>\n",
       "    <tr>\n",
       "      <th>9</th>\n",
       "      <td>Brasil</td>\n",
       "      <td>-2</td>\n",
       "      <td>-1</td>\n",
       "      <td>-5</td>\n",
       "      <td>8</td>\n",
       "    </tr>\n",
       "  </tbody>\n",
       "</table>\n",
       "</div>"
      ],
      "text/plain": [
       "        pais  enero  febrero  marzo  abril\n",
       "0     Mexico     -6       -3     20     -5\n",
       "1     Canada     -3       13     -7     -1\n",
       "2      Chile     17       10     12     -3\n",
       "3        EUA     -6       -2     16     12\n",
       "4   Colombia     16       17      0      4\n",
       "5       Peru     14       -1     -7     -4\n",
       "6  Argentina     16       16     -2     -1\n",
       "7    Uruguay     21       10      7      1\n",
       "8   Paraguay      6        1     12     10\n",
       "9     Brasil     -2       -1     -5      8"
      ]
     },
     "execution_count": 25,
     "metadata": {},
     "output_type": "execute_result"
    }
   ],
   "source": [
    "df_paises_col"
   ]
  },
  {
   "cell_type": "code",
   "execution_count": 28,
   "id": "e8a85a02",
   "metadata": {},
   "outputs": [
    {
     "data": {
      "text/html": [
       "<div>\n",
       "<style scoped>\n",
       "    .dataframe tbody tr th:only-of-type {\n",
       "        vertical-align: middle;\n",
       "    }\n",
       "\n",
       "    .dataframe tbody tr th {\n",
       "        vertical-align: top;\n",
       "    }\n",
       "\n",
       "    .dataframe thead th {\n",
       "        text-align: right;\n",
       "    }\n",
       "</style>\n",
       "<table border=\"1\" class=\"dataframe\">\n",
       "  <thead>\n",
       "    <tr style=\"text-align: right;\">\n",
       "      <th></th>\n",
       "      <th>324324</th>\n",
       "      <th>324348</th>\n",
       "      <th>348293</th>\n",
       "    </tr>\n",
       "  </thead>\n",
       "  <tbody>\n",
       "    <tr>\n",
       "      <th>0</th>\n",
       "      <td>103</td>\n",
       "      <td>3421</td>\n",
       "      <td>342423</td>\n",
       "    </tr>\n",
       "    <tr>\n",
       "      <th>1</th>\n",
       "      <td>204</td>\n",
       "      <td>4320</td>\n",
       "      <td>4324</td>\n",
       "    </tr>\n",
       "    <tr>\n",
       "      <th>2</th>\n",
       "      <td>134</td>\n",
       "      <td>21</td>\n",
       "      <td>48239</td>\n",
       "    </tr>\n",
       "  </tbody>\n",
       "</table>\n",
       "</div>"
      ],
      "text/plain": [
       "   324324  324348  348293\n",
       "0     103    3421  342423\n",
       "1     204    4320    4324\n",
       "2     134      21   48239"
      ]
     },
     "execution_count": 28,
     "metadata": {},
     "output_type": "execute_result"
    }
   ],
   "source": [
    "#data frame en dict\n",
    "\n",
    "materiales = {'324324': [103, 204, 134],\n",
    "              '324348': [3421, 4320, 21],\n",
    "              '348293': [342423, 4324, 48239]}\n",
    "\n",
    "df_materiales=pd.DataFrame(materiales)\n",
    "df_materiales"
   ]
  },
  {
   "cell_type": "code",
   "execution_count": 29,
   "id": "70b4e273",
   "metadata": {},
   "outputs": [],
   "source": [
    "df_materiales=df_materiales.T"
   ]
  },
  {
   "cell_type": "code",
   "execution_count": 30,
   "id": "dabb0a2a",
   "metadata": {},
   "outputs": [
    {
     "data": {
      "text/html": [
       "<div>\n",
       "<style scoped>\n",
       "    .dataframe tbody tr th:only-of-type {\n",
       "        vertical-align: middle;\n",
       "    }\n",
       "\n",
       "    .dataframe tbody tr th {\n",
       "        vertical-align: top;\n",
       "    }\n",
       "\n",
       "    .dataframe thead th {\n",
       "        text-align: right;\n",
       "    }\n",
       "</style>\n",
       "<table border=\"1\" class=\"dataframe\">\n",
       "  <thead>\n",
       "    <tr style=\"text-align: right;\">\n",
       "      <th></th>\n",
       "      <th>0</th>\n",
       "      <th>1</th>\n",
       "      <th>2</th>\n",
       "    </tr>\n",
       "  </thead>\n",
       "  <tbody>\n",
       "    <tr>\n",
       "      <th>324324</th>\n",
       "      <td>103</td>\n",
       "      <td>204</td>\n",
       "      <td>134</td>\n",
       "    </tr>\n",
       "    <tr>\n",
       "      <th>324348</th>\n",
       "      <td>3421</td>\n",
       "      <td>4320</td>\n",
       "      <td>21</td>\n",
       "    </tr>\n",
       "    <tr>\n",
       "      <th>348293</th>\n",
       "      <td>342423</td>\n",
       "      <td>4324</td>\n",
       "      <td>48239</td>\n",
       "    </tr>\n",
       "  </tbody>\n",
       "</table>\n",
       "</div>"
      ],
      "text/plain": [
       "             0     1      2\n",
       "324324     103   204    134\n",
       "324348    3421  4320     21\n",
       "348293  342423  4324  48239"
      ]
     },
     "execution_count": 30,
     "metadata": {},
     "output_type": "execute_result"
    }
   ],
   "source": [
    "df_materiales"
   ]
  },
  {
   "cell_type": "code",
   "execution_count": 31,
   "id": "99ae31ef",
   "metadata": {},
   "outputs": [],
   "source": [
    "df_materiales.columns=['mañana','tarde','noche']"
   ]
  },
  {
   "cell_type": "code",
   "execution_count": 32,
   "id": "0e2e80dd",
   "metadata": {},
   "outputs": [
    {
     "data": {
      "text/html": [
       "<div>\n",
       "<style scoped>\n",
       "    .dataframe tbody tr th:only-of-type {\n",
       "        vertical-align: middle;\n",
       "    }\n",
       "\n",
       "    .dataframe tbody tr th {\n",
       "        vertical-align: top;\n",
       "    }\n",
       "\n",
       "    .dataframe thead th {\n",
       "        text-align: right;\n",
       "    }\n",
       "</style>\n",
       "<table border=\"1\" class=\"dataframe\">\n",
       "  <thead>\n",
       "    <tr style=\"text-align: right;\">\n",
       "      <th></th>\n",
       "      <th>mañana</th>\n",
       "      <th>tarde</th>\n",
       "      <th>noche</th>\n",
       "    </tr>\n",
       "  </thead>\n",
       "  <tbody>\n",
       "    <tr>\n",
       "      <th>324324</th>\n",
       "      <td>103</td>\n",
       "      <td>204</td>\n",
       "      <td>134</td>\n",
       "    </tr>\n",
       "    <tr>\n",
       "      <th>324348</th>\n",
       "      <td>3421</td>\n",
       "      <td>4320</td>\n",
       "      <td>21</td>\n",
       "    </tr>\n",
       "    <tr>\n",
       "      <th>348293</th>\n",
       "      <td>342423</td>\n",
       "      <td>4324</td>\n",
       "      <td>48239</td>\n",
       "    </tr>\n",
       "  </tbody>\n",
       "</table>\n",
       "</div>"
      ],
      "text/plain": [
       "        mañana  tarde  noche\n",
       "324324     103    204    134\n",
       "324348    3421   4320     21\n",
       "348293  342423   4324  48239"
      ]
     },
     "execution_count": 32,
     "metadata": {},
     "output_type": "execute_result"
    }
   ],
   "source": [
    "df_materiales"
   ]
  },
  {
   "cell_type": "code",
   "execution_count": 34,
   "id": "12dcd7cf",
   "metadata": {},
   "outputs": [
    {
     "data": {
      "text/plain": [
       "4324"
      ]
     },
     "execution_count": 34,
     "metadata": {},
     "output_type": "execute_result"
    }
   ],
   "source": [
    "df_materiales['tarde'].max() #metodo para encontrar el valor max"
   ]
  },
  {
   "cell_type": "code",
   "execution_count": 35,
   "id": "c35e3473",
   "metadata": {},
   "outputs": [
    {
     "data": {
      "text/plain": [
       "mañana    115315.666667\n",
       "tarde       2949.333333\n",
       "noche      16131.333333\n",
       "dtype: float64"
      ]
     },
     "execution_count": 35,
     "metadata": {},
     "output_type": "execute_result"
    }
   ],
   "source": [
    "df_materiales.mean() ##obtener promedio"
   ]
  },
  {
   "cell_type": "code",
   "execution_count": 45,
   "id": "aaa9f911",
   "metadata": {},
   "outputs": [
    {
     "ename": "FileNotFoundError",
     "evalue": "[WinError 3] The system cannot find the path specified: 'C:/Users/fhernandezcortez/Downloads/Data'",
     "output_type": "error",
     "traceback": [
      "\u001b[1;31m---------------------------------------------------------------------------\u001b[0m",
      "\u001b[1;31mFileNotFoundError\u001b[0m                         Traceback (most recent call last)",
      "\u001b[1;32mC:\\Users\\FHERNA~1\\AppData\\Local\\Temp/ipykernel_38720/4051331594.py\u001b[0m in \u001b[0;36m<module>\u001b[1;34m\u001b[0m\n\u001b[0;32m      1\u001b[0m \u001b[0mruta_completa\u001b[0m\u001b[1;33m=\u001b[0m\u001b[1;34m'C:/Users/fhernandezcortez/Downloads/Data'\u001b[0m\u001b[1;33m\u001b[0m\u001b[1;33m\u001b[0m\u001b[0m\n\u001b[0;32m      2\u001b[0m \u001b[1;33m\u001b[0m\u001b[0m\n\u001b[1;32m----> 3\u001b[1;33m \u001b[0mos\u001b[0m\u001b[1;33m.\u001b[0m\u001b[0mlistdir\u001b[0m\u001b[1;33m(\u001b[0m\u001b[0mruta_completa\u001b[0m\u001b[1;33m)\u001b[0m\u001b[1;33m\u001b[0m\u001b[1;33m\u001b[0m\u001b[0m\n\u001b[0m",
      "\u001b[1;31mFileNotFoundError\u001b[0m: [WinError 3] The system cannot find the path specified: 'C:/Users/fhernandezcortez/Downloads/Data'"
     ]
    }
   ],
   "source": []
  },
  {
   "cell_type": "code",
   "execution_count": 50,
   "id": "32379f87",
   "metadata": {},
   "outputs": [
    {
     "name": "stdout",
     "output_type": "stream",
     "text": [
      "/c/Users/fhernandezcortez/Documents/mm/Ironhack/Modulo1\n"
     ]
    },
    {
     "name": "stderr",
     "output_type": "stream",
     "text": [
      "pwd: ignoring non-option arguments\n"
     ]
    },
    {
     "name": "stdout",
     "output_type": "stream",
     "text": [
      "Juego Python\n",
      "Lab-list-comprehension\n",
      "ListComprehension.ipynb\n",
      "README.md\n",
      "Untitled.ipynb\n",
      "Untitled1.ipynb\n",
      "iris.csv\n",
      "lab-advanced-regex\n",
      "lab-data-vikings\n",
      "lab-dicts-sets-tuples\n",
      "lab-error-handling\n",
      "lab-functional-programming\n",
      "lab-lambda-functions\n",
      "lab-map-reduce-filter\n",
      "vehicles.rar\n",
      "your-code\n"
     ]
    }
   ],
   "source": [
    "###como leer archivos desde una ruta especifica\n",
    "\n",
    "\n",
    "!pwd  #te dice donde estas parado\n",
    "!ls"
   ]
  },
  {
   "cell_type": "code",
   "execution_count": 60,
   "id": "5f64d3ad",
   "metadata": {},
   "outputs": [
    {
     "data": {
      "text/plain": [
       "['.DS_Store',\n",
       " 'vehicles.csv',\n",
       " 'vehicles.json',\n",
       " 'vehicles.xlsx',\n",
       " 'vehicles_messy.csv',\n",
       " 'vehicles_pipe.txt',\n",
       " 'vehicles_tab.txt']"
      ]
     },
     "execution_count": 60,
     "metadata": {},
     "output_type": "execute_result"
    }
   ],
   "source": [
    "import os\n",
    "\n",
    "base_path='vehicles/vehicles'\n",
    "\n",
    "os.listdir(base_path)"
   ]
  },
  {
   "cell_type": "code",
   "execution_count": 63,
   "id": "6808b516",
   "metadata": {},
   "outputs": [],
   "source": [
    "df_dtypes_small=pd.read_csv(base_path +'/vehicles.csv',dtype={'Year':str},nrows=100)\n"
   ]
  },
  {
   "cell_type": "code",
   "execution_count": 64,
   "id": "5e7be84d",
   "metadata": {},
   "outputs": [
    {
     "data": {
      "text/plain": [
       "(100, 15)"
      ]
     },
     "execution_count": 64,
     "metadata": {},
     "output_type": "execute_result"
    }
   ],
   "source": [
    "df_dtypes_small.shape"
   ]
  },
  {
   "cell_type": "code",
   "execution_count": 68,
   "id": "76f2ed64",
   "metadata": {},
   "outputs": [
    {
     "data": {
      "text/html": [
       "<div>\n",
       "<style scoped>\n",
       "    .dataframe tbody tr th:only-of-type {\n",
       "        vertical-align: middle;\n",
       "    }\n",
       "\n",
       "    .dataframe tbody tr th {\n",
       "        vertical-align: top;\n",
       "    }\n",
       "\n",
       "    .dataframe thead th {\n",
       "        text-align: right;\n",
       "    }\n",
       "</style>\n",
       "<table border=\"1\" class=\"dataframe\">\n",
       "  <thead>\n",
       "    <tr style=\"text-align: right;\">\n",
       "      <th></th>\n",
       "      <th>Make</th>\n",
       "      <th>Model</th>\n",
       "      <th>Year</th>\n",
       "      <th>Engine Displacement</th>\n",
       "      <th>Cylinders</th>\n",
       "      <th>Transmission</th>\n",
       "      <th>Drivetrain</th>\n",
       "      <th>Vehicle Class</th>\n",
       "      <th>Fuel Type</th>\n",
       "      <th>Fuel Barrels/Year</th>\n",
       "      <th>City MPG</th>\n",
       "      <th>Highway MPG</th>\n",
       "      <th>Combined MPG</th>\n",
       "      <th>CO2 Emission Grams/Mile</th>\n",
       "      <th>Fuel Cost/Year</th>\n",
       "    </tr>\n",
       "  </thead>\n",
       "  <tbody>\n",
       "    <tr>\n",
       "      <th>0</th>\n",
       "      <td>AM General</td>\n",
       "      <td>DJ Po Vehicle 2WD</td>\n",
       "      <td>1984</td>\n",
       "      <td>2.5</td>\n",
       "      <td>4.0</td>\n",
       "      <td>Automatic 3-spd</td>\n",
       "      <td>2-Wheel Drive</td>\n",
       "      <td>Special Purpose Vehicle 2WD</td>\n",
       "      <td>Regular</td>\n",
       "      <td>19.388824</td>\n",
       "      <td>18</td>\n",
       "      <td>17</td>\n",
       "      <td>17</td>\n",
       "      <td>522.764706</td>\n",
       "      <td>1950</td>\n",
       "    </tr>\n",
       "    <tr>\n",
       "      <th>1</th>\n",
       "      <td>AM General</td>\n",
       "      <td>FJ8c Post Office</td>\n",
       "      <td>1984</td>\n",
       "      <td>4.2</td>\n",
       "      <td>6.0</td>\n",
       "      <td>Automatic 3-spd</td>\n",
       "      <td>2-Wheel Drive</td>\n",
       "      <td>Special Purpose Vehicle 2WD</td>\n",
       "      <td>Regular</td>\n",
       "      <td>25.354615</td>\n",
       "      <td>13</td>\n",
       "      <td>13</td>\n",
       "      <td>13</td>\n",
       "      <td>683.615385</td>\n",
       "      <td>2550</td>\n",
       "    </tr>\n",
       "    <tr>\n",
       "      <th>2</th>\n",
       "      <td>AM General</td>\n",
       "      <td>Post Office DJ5 2WD</td>\n",
       "      <td>1985</td>\n",
       "      <td>2.5</td>\n",
       "      <td>4.0</td>\n",
       "      <td>Automatic 3-spd</td>\n",
       "      <td>Rear-Wheel Drive</td>\n",
       "      <td>Special Purpose Vehicle 2WD</td>\n",
       "      <td>Regular</td>\n",
       "      <td>20.600625</td>\n",
       "      <td>16</td>\n",
       "      <td>17</td>\n",
       "      <td>16</td>\n",
       "      <td>555.437500</td>\n",
       "      <td>2100</td>\n",
       "    </tr>\n",
       "    <tr>\n",
       "      <th>3</th>\n",
       "      <td>AM General</td>\n",
       "      <td>Post Office DJ8 2WD</td>\n",
       "      <td>1985</td>\n",
       "      <td>4.2</td>\n",
       "      <td>6.0</td>\n",
       "      <td>Automatic 3-spd</td>\n",
       "      <td>Rear-Wheel Drive</td>\n",
       "      <td>Special Purpose Vehicle 2WD</td>\n",
       "      <td>Regular</td>\n",
       "      <td>25.354615</td>\n",
       "      <td>13</td>\n",
       "      <td>13</td>\n",
       "      <td>13</td>\n",
       "      <td>683.615385</td>\n",
       "      <td>2550</td>\n",
       "    </tr>\n",
       "    <tr>\n",
       "      <th>4</th>\n",
       "      <td>ASC Incorporated</td>\n",
       "      <td>GNX</td>\n",
       "      <td>1987</td>\n",
       "      <td>3.8</td>\n",
       "      <td>6.0</td>\n",
       "      <td>Automatic 4-spd</td>\n",
       "      <td>Rear-Wheel Drive</td>\n",
       "      <td>Midsize Cars</td>\n",
       "      <td>Premium</td>\n",
       "      <td>20.600625</td>\n",
       "      <td>14</td>\n",
       "      <td>21</td>\n",
       "      <td>16</td>\n",
       "      <td>555.437500</td>\n",
       "      <td>2550</td>\n",
       "    </tr>\n",
       "    <tr>\n",
       "      <th>...</th>\n",
       "      <td>...</td>\n",
       "      <td>...</td>\n",
       "      <td>...</td>\n",
       "      <td>...</td>\n",
       "      <td>...</td>\n",
       "      <td>...</td>\n",
       "      <td>...</td>\n",
       "      <td>...</td>\n",
       "      <td>...</td>\n",
       "      <td>...</td>\n",
       "      <td>...</td>\n",
       "      <td>...</td>\n",
       "      <td>...</td>\n",
       "      <td>...</td>\n",
       "      <td>...</td>\n",
       "    </tr>\n",
       "    <tr>\n",
       "      <th>35947</th>\n",
       "      <td>smart</td>\n",
       "      <td>fortwo coupe</td>\n",
       "      <td>2013</td>\n",
       "      <td>1.0</td>\n",
       "      <td>3.0</td>\n",
       "      <td>Auto(AM5)</td>\n",
       "      <td>Rear-Wheel Drive</td>\n",
       "      <td>Two Seaters</td>\n",
       "      <td>Premium</td>\n",
       "      <td>9.155833</td>\n",
       "      <td>34</td>\n",
       "      <td>38</td>\n",
       "      <td>36</td>\n",
       "      <td>244.000000</td>\n",
       "      <td>1100</td>\n",
       "    </tr>\n",
       "    <tr>\n",
       "      <th>35948</th>\n",
       "      <td>smart</td>\n",
       "      <td>fortwo coupe</td>\n",
       "      <td>2014</td>\n",
       "      <td>1.0</td>\n",
       "      <td>3.0</td>\n",
       "      <td>Auto(AM5)</td>\n",
       "      <td>Rear-Wheel Drive</td>\n",
       "      <td>Two Seaters</td>\n",
       "      <td>Premium</td>\n",
       "      <td>9.155833</td>\n",
       "      <td>34</td>\n",
       "      <td>38</td>\n",
       "      <td>36</td>\n",
       "      <td>243.000000</td>\n",
       "      <td>1100</td>\n",
       "    </tr>\n",
       "    <tr>\n",
       "      <th>35949</th>\n",
       "      <td>smart</td>\n",
       "      <td>fortwo coupe</td>\n",
       "      <td>2015</td>\n",
       "      <td>1.0</td>\n",
       "      <td>3.0</td>\n",
       "      <td>Auto(AM5)</td>\n",
       "      <td>Rear-Wheel Drive</td>\n",
       "      <td>Two Seaters</td>\n",
       "      <td>Premium</td>\n",
       "      <td>9.155833</td>\n",
       "      <td>34</td>\n",
       "      <td>38</td>\n",
       "      <td>36</td>\n",
       "      <td>244.000000</td>\n",
       "      <td>1100</td>\n",
       "    </tr>\n",
       "    <tr>\n",
       "      <th>35950</th>\n",
       "      <td>smart</td>\n",
       "      <td>fortwo coupe</td>\n",
       "      <td>2016</td>\n",
       "      <td>0.9</td>\n",
       "      <td>3.0</td>\n",
       "      <td>Auto(AM6)</td>\n",
       "      <td>Rear-Wheel Drive</td>\n",
       "      <td>Two Seaters</td>\n",
       "      <td>Premium</td>\n",
       "      <td>9.155833</td>\n",
       "      <td>34</td>\n",
       "      <td>39</td>\n",
       "      <td>36</td>\n",
       "      <td>246.000000</td>\n",
       "      <td>1100</td>\n",
       "    </tr>\n",
       "    <tr>\n",
       "      <th>35951</th>\n",
       "      <td>smart</td>\n",
       "      <td>fortwo coupe</td>\n",
       "      <td>2016</td>\n",
       "      <td>0.9</td>\n",
       "      <td>3.0</td>\n",
       "      <td>Manual 5-spd</td>\n",
       "      <td>Rear-Wheel Drive</td>\n",
       "      <td>Two Seaters</td>\n",
       "      <td>Premium</td>\n",
       "      <td>9.417429</td>\n",
       "      <td>32</td>\n",
       "      <td>39</td>\n",
       "      <td>35</td>\n",
       "      <td>255.000000</td>\n",
       "      <td>1150</td>\n",
       "    </tr>\n",
       "  </tbody>\n",
       "</table>\n",
       "<p>35952 rows × 15 columns</p>\n",
       "</div>"
      ],
      "text/plain": [
       "                   Make                Model  Year  Engine Displacement  \\\n",
       "0            AM General    DJ Po Vehicle 2WD  1984                  2.5   \n",
       "1            AM General     FJ8c Post Office  1984                  4.2   \n",
       "2            AM General  Post Office DJ5 2WD  1985                  2.5   \n",
       "3            AM General  Post Office DJ8 2WD  1985                  4.2   \n",
       "4      ASC Incorporated                  GNX  1987                  3.8   \n",
       "...                 ...                  ...   ...                  ...   \n",
       "35947             smart         fortwo coupe  2013                  1.0   \n",
       "35948             smart         fortwo coupe  2014                  1.0   \n",
       "35949             smart         fortwo coupe  2015                  1.0   \n",
       "35950             smart         fortwo coupe  2016                  0.9   \n",
       "35951             smart         fortwo coupe  2016                  0.9   \n",
       "\n",
       "       Cylinders     Transmission        Drivetrain  \\\n",
       "0            4.0  Automatic 3-spd     2-Wheel Drive   \n",
       "1            6.0  Automatic 3-spd     2-Wheel Drive   \n",
       "2            4.0  Automatic 3-spd  Rear-Wheel Drive   \n",
       "3            6.0  Automatic 3-spd  Rear-Wheel Drive   \n",
       "4            6.0  Automatic 4-spd  Rear-Wheel Drive   \n",
       "...          ...              ...               ...   \n",
       "35947        3.0        Auto(AM5)  Rear-Wheel Drive   \n",
       "35948        3.0        Auto(AM5)  Rear-Wheel Drive   \n",
       "35949        3.0        Auto(AM5)  Rear-Wheel Drive   \n",
       "35950        3.0        Auto(AM6)  Rear-Wheel Drive   \n",
       "35951        3.0     Manual 5-spd  Rear-Wheel Drive   \n",
       "\n",
       "                     Vehicle Class Fuel Type  Fuel Barrels/Year  City MPG  \\\n",
       "0      Special Purpose Vehicle 2WD   Regular          19.388824        18   \n",
       "1      Special Purpose Vehicle 2WD   Regular          25.354615        13   \n",
       "2      Special Purpose Vehicle 2WD   Regular          20.600625        16   \n",
       "3      Special Purpose Vehicle 2WD   Regular          25.354615        13   \n",
       "4                     Midsize Cars   Premium          20.600625        14   \n",
       "...                            ...       ...                ...       ...   \n",
       "35947                  Two Seaters   Premium           9.155833        34   \n",
       "35948                  Two Seaters   Premium           9.155833        34   \n",
       "35949                  Two Seaters   Premium           9.155833        34   \n",
       "35950                  Two Seaters   Premium           9.155833        34   \n",
       "35951                  Two Seaters   Premium           9.417429        32   \n",
       "\n",
       "       Highway MPG  Combined MPG  CO2 Emission Grams/Mile  Fuel Cost/Year  \n",
       "0               17            17               522.764706            1950  \n",
       "1               13            13               683.615385            2550  \n",
       "2               17            16               555.437500            2100  \n",
       "3               13            13               683.615385            2550  \n",
       "4               21            16               555.437500            2550  \n",
       "...            ...           ...                      ...             ...  \n",
       "35947           38            36               244.000000            1100  \n",
       "35948           38            36               243.000000            1100  \n",
       "35949           38            36               244.000000            1100  \n",
       "35950           39            36               246.000000            1100  \n",
       "35951           39            35               255.000000            1150  \n",
       "\n",
       "[35952 rows x 15 columns]"
      ]
     },
     "execution_count": 68,
     "metadata": {},
     "output_type": "execute_result"
    }
   ],
   "source": [
    "df_tab=pd.read_csv(base_path +'/vehicles_tab.txt',delimiter='\\t') #aqui no jala al menos que quites los tabs\n",
    "df_tab"
   ]
  },
  {
   "cell_type": "code",
   "execution_count": 73,
   "id": "58ebc54c",
   "metadata": {},
   "outputs": [
    {
     "data": {
      "text/html": [
       "<div>\n",
       "<style scoped>\n",
       "    .dataframe tbody tr th:only-of-type {\n",
       "        vertical-align: middle;\n",
       "    }\n",
       "\n",
       "    .dataframe tbody tr th {\n",
       "        vertical-align: top;\n",
       "    }\n",
       "\n",
       "    .dataframe thead th {\n",
       "        text-align: right;\n",
       "    }\n",
       "</style>\n",
       "<table border=\"1\" class=\"dataframe\">\n",
       "  <thead>\n",
       "    <tr style=\"text-align: right;\">\n",
       "      <th></th>\n",
       "      <th>Make</th>\n",
       "      <th>Model</th>\n",
       "      <th>Year</th>\n",
       "      <th>Engine Displacement</th>\n",
       "      <th>Cylinders</th>\n",
       "      <th>Transmission</th>\n",
       "      <th>Drivetrain</th>\n",
       "      <th>Vehicle Class</th>\n",
       "      <th>Fuel Type</th>\n",
       "      <th>Fuel Barrels/Year</th>\n",
       "      <th>City MPG</th>\n",
       "      <th>Highway MPG</th>\n",
       "      <th>Combined MPG</th>\n",
       "      <th>CO2 Emission Grams/Mile</th>\n",
       "      <th>Fuel Cost/Year</th>\n",
       "    </tr>\n",
       "  </thead>\n",
       "  <tbody>\n",
       "    <tr>\n",
       "      <th>0</th>\n",
       "      <td>AM General</td>\n",
       "      <td>DJ Po Vehicle 2WD</td>\n",
       "      <td>1984</td>\n",
       "      <td>2.5</td>\n",
       "      <td>4.0</td>\n",
       "      <td>Automatic 3-spd</td>\n",
       "      <td>2-Wheel Drive</td>\n",
       "      <td>Special Purpose Vehicle 2WD</td>\n",
       "      <td>Regular</td>\n",
       "      <td>19.388824</td>\n",
       "      <td>18</td>\n",
       "      <td>17</td>\n",
       "      <td>17</td>\n",
       "      <td>522.764706</td>\n",
       "      <td>1950</td>\n",
       "    </tr>\n",
       "    <tr>\n",
       "      <th>1</th>\n",
       "      <td>AM General</td>\n",
       "      <td>FJ8c Post Office</td>\n",
       "      <td>1984</td>\n",
       "      <td>4.2</td>\n",
       "      <td>6.0</td>\n",
       "      <td>Automatic 3-spd</td>\n",
       "      <td>2-Wheel Drive</td>\n",
       "      <td>Special Purpose Vehicle 2WD</td>\n",
       "      <td>Regular</td>\n",
       "      <td>25.354615</td>\n",
       "      <td>13</td>\n",
       "      <td>13</td>\n",
       "      <td>13</td>\n",
       "      <td>683.615385</td>\n",
       "      <td>2550</td>\n",
       "    </tr>\n",
       "    <tr>\n",
       "      <th>2</th>\n",
       "      <td>AM General</td>\n",
       "      <td>Post Office DJ5 2WD</td>\n",
       "      <td>1985</td>\n",
       "      <td>2.5</td>\n",
       "      <td>4.0</td>\n",
       "      <td>Automatic 3-spd</td>\n",
       "      <td>Rear-Wheel Drive</td>\n",
       "      <td>Special Purpose Vehicle 2WD</td>\n",
       "      <td>Regular</td>\n",
       "      <td>20.600625</td>\n",
       "      <td>16</td>\n",
       "      <td>17</td>\n",
       "      <td>16</td>\n",
       "      <td>555.437500</td>\n",
       "      <td>2100</td>\n",
       "    </tr>\n",
       "    <tr>\n",
       "      <th>3</th>\n",
       "      <td>AM General</td>\n",
       "      <td>Post Office DJ8 2WD</td>\n",
       "      <td>1985</td>\n",
       "      <td>4.2</td>\n",
       "      <td>6.0</td>\n",
       "      <td>Automatic 3-spd</td>\n",
       "      <td>Rear-Wheel Drive</td>\n",
       "      <td>Special Purpose Vehicle 2WD</td>\n",
       "      <td>Regular</td>\n",
       "      <td>25.354615</td>\n",
       "      <td>13</td>\n",
       "      <td>13</td>\n",
       "      <td>13</td>\n",
       "      <td>683.615385</td>\n",
       "      <td>2550</td>\n",
       "    </tr>\n",
       "    <tr>\n",
       "      <th>4</th>\n",
       "      <td>ASC Incorporated</td>\n",
       "      <td>GNX</td>\n",
       "      <td>1987</td>\n",
       "      <td>3.8</td>\n",
       "      <td>6.0</td>\n",
       "      <td>Automatic 4-spd</td>\n",
       "      <td>Rear-Wheel Drive</td>\n",
       "      <td>Midsize Cars</td>\n",
       "      <td>Premium</td>\n",
       "      <td>20.600625</td>\n",
       "      <td>14</td>\n",
       "      <td>21</td>\n",
       "      <td>16</td>\n",
       "      <td>555.437500</td>\n",
       "      <td>2550</td>\n",
       "    </tr>\n",
       "    <tr>\n",
       "      <th>...</th>\n",
       "      <td>...</td>\n",
       "      <td>...</td>\n",
       "      <td>...</td>\n",
       "      <td>...</td>\n",
       "      <td>...</td>\n",
       "      <td>...</td>\n",
       "      <td>...</td>\n",
       "      <td>...</td>\n",
       "      <td>...</td>\n",
       "      <td>...</td>\n",
       "      <td>...</td>\n",
       "      <td>...</td>\n",
       "      <td>...</td>\n",
       "      <td>...</td>\n",
       "      <td>...</td>\n",
       "    </tr>\n",
       "    <tr>\n",
       "      <th>35947</th>\n",
       "      <td>smart</td>\n",
       "      <td>fortwo coupe</td>\n",
       "      <td>2013</td>\n",
       "      <td>1.0</td>\n",
       "      <td>3.0</td>\n",
       "      <td>Auto(AM5)</td>\n",
       "      <td>Rear-Wheel Drive</td>\n",
       "      <td>Two Seaters</td>\n",
       "      <td>Premium</td>\n",
       "      <td>9.155833</td>\n",
       "      <td>34</td>\n",
       "      <td>38</td>\n",
       "      <td>36</td>\n",
       "      <td>244.000000</td>\n",
       "      <td>1100</td>\n",
       "    </tr>\n",
       "    <tr>\n",
       "      <th>35948</th>\n",
       "      <td>smart</td>\n",
       "      <td>fortwo coupe</td>\n",
       "      <td>2014</td>\n",
       "      <td>1.0</td>\n",
       "      <td>3.0</td>\n",
       "      <td>Auto(AM5)</td>\n",
       "      <td>Rear-Wheel Drive</td>\n",
       "      <td>Two Seaters</td>\n",
       "      <td>Premium</td>\n",
       "      <td>9.155833</td>\n",
       "      <td>34</td>\n",
       "      <td>38</td>\n",
       "      <td>36</td>\n",
       "      <td>243.000000</td>\n",
       "      <td>1100</td>\n",
       "    </tr>\n",
       "    <tr>\n",
       "      <th>35949</th>\n",
       "      <td>smart</td>\n",
       "      <td>fortwo coupe</td>\n",
       "      <td>2015</td>\n",
       "      <td>1.0</td>\n",
       "      <td>3.0</td>\n",
       "      <td>Auto(AM5)</td>\n",
       "      <td>Rear-Wheel Drive</td>\n",
       "      <td>Two Seaters</td>\n",
       "      <td>Premium</td>\n",
       "      <td>9.155833</td>\n",
       "      <td>34</td>\n",
       "      <td>38</td>\n",
       "      <td>36</td>\n",
       "      <td>244.000000</td>\n",
       "      <td>1100</td>\n",
       "    </tr>\n",
       "    <tr>\n",
       "      <th>35950</th>\n",
       "      <td>smart</td>\n",
       "      <td>fortwo coupe</td>\n",
       "      <td>2016</td>\n",
       "      <td>0.9</td>\n",
       "      <td>3.0</td>\n",
       "      <td>Auto(AM6)</td>\n",
       "      <td>Rear-Wheel Drive</td>\n",
       "      <td>Two Seaters</td>\n",
       "      <td>Premium</td>\n",
       "      <td>9.155833</td>\n",
       "      <td>34</td>\n",
       "      <td>39</td>\n",
       "      <td>36</td>\n",
       "      <td>246.000000</td>\n",
       "      <td>1100</td>\n",
       "    </tr>\n",
       "    <tr>\n",
       "      <th>35951</th>\n",
       "      <td>smart</td>\n",
       "      <td>fortwo coupe</td>\n",
       "      <td>2016</td>\n",
       "      <td>0.9</td>\n",
       "      <td>3.0</td>\n",
       "      <td>Manual 5-spd</td>\n",
       "      <td>Rear-Wheel Drive</td>\n",
       "      <td>Two Seaters</td>\n",
       "      <td>Premium</td>\n",
       "      <td>9.417429</td>\n",
       "      <td>32</td>\n",
       "      <td>39</td>\n",
       "      <td>35</td>\n",
       "      <td>255.000000</td>\n",
       "      <td>1150</td>\n",
       "    </tr>\n",
       "  </tbody>\n",
       "</table>\n",
       "<p>35952 rows × 15 columns</p>\n",
       "</div>"
      ],
      "text/plain": [
       "                   Make                Model  Year  Engine Displacement  \\\n",
       "0            AM General    DJ Po Vehicle 2WD  1984                  2.5   \n",
       "1            AM General     FJ8c Post Office  1984                  4.2   \n",
       "2            AM General  Post Office DJ5 2WD  1985                  2.5   \n",
       "3            AM General  Post Office DJ8 2WD  1985                  4.2   \n",
       "4      ASC Incorporated                  GNX  1987                  3.8   \n",
       "...                 ...                  ...   ...                  ...   \n",
       "35947             smart         fortwo coupe  2013                  1.0   \n",
       "35948             smart         fortwo coupe  2014                  1.0   \n",
       "35949             smart         fortwo coupe  2015                  1.0   \n",
       "35950             smart         fortwo coupe  2016                  0.9   \n",
       "35951             smart         fortwo coupe  2016                  0.9   \n",
       "\n",
       "       Cylinders     Transmission        Drivetrain  \\\n",
       "0            4.0  Automatic 3-spd     2-Wheel Drive   \n",
       "1            6.0  Automatic 3-spd     2-Wheel Drive   \n",
       "2            4.0  Automatic 3-spd  Rear-Wheel Drive   \n",
       "3            6.0  Automatic 3-spd  Rear-Wheel Drive   \n",
       "4            6.0  Automatic 4-spd  Rear-Wheel Drive   \n",
       "...          ...              ...               ...   \n",
       "35947        3.0        Auto(AM5)  Rear-Wheel Drive   \n",
       "35948        3.0        Auto(AM5)  Rear-Wheel Drive   \n",
       "35949        3.0        Auto(AM5)  Rear-Wheel Drive   \n",
       "35950        3.0        Auto(AM6)  Rear-Wheel Drive   \n",
       "35951        3.0     Manual 5-spd  Rear-Wheel Drive   \n",
       "\n",
       "                     Vehicle Class Fuel Type  Fuel Barrels/Year  City MPG  \\\n",
       "0      Special Purpose Vehicle 2WD   Regular          19.388824        18   \n",
       "1      Special Purpose Vehicle 2WD   Regular          25.354615        13   \n",
       "2      Special Purpose Vehicle 2WD   Regular          20.600625        16   \n",
       "3      Special Purpose Vehicle 2WD   Regular          25.354615        13   \n",
       "4                     Midsize Cars   Premium          20.600625        14   \n",
       "...                            ...       ...                ...       ...   \n",
       "35947                  Two Seaters   Premium           9.155833        34   \n",
       "35948                  Two Seaters   Premium           9.155833        34   \n",
       "35949                  Two Seaters   Premium           9.155833        34   \n",
       "35950                  Two Seaters   Premium           9.155833        34   \n",
       "35951                  Two Seaters   Premium           9.417429        32   \n",
       "\n",
       "       Highway MPG  Combined MPG  CO2 Emission Grams/Mile  Fuel Cost/Year  \n",
       "0               17            17               522.764706            1950  \n",
       "1               13            13               683.615385            2550  \n",
       "2               17            16               555.437500            2100  \n",
       "3               13            13               683.615385            2550  \n",
       "4               21            16               555.437500            2550  \n",
       "...            ...           ...                      ...             ...  \n",
       "35947           38            36               244.000000            1100  \n",
       "35948           38            36               243.000000            1100  \n",
       "35949           38            36               244.000000            1100  \n",
       "35950           39            36               246.000000            1100  \n",
       "35951           39            35               255.000000            1150  \n",
       "\n",
       "[35952 rows x 15 columns]"
      ]
     },
     "execution_count": 73,
     "metadata": {},
     "output_type": "execute_result"
    }
   ],
   "source": [
    "df_pipe=pd.read_csv(base_path +'/vehicles_pipe.txt',delimiter='|')\n",
    "df_pipe"
   ]
  },
  {
   "cell_type": "code",
   "execution_count": 77,
   "id": "9d1f32ca",
   "metadata": {},
   "outputs": [],
   "source": [
    "df_excel=pd.read_excel(base_path+'/vehicles.xlsx',sheet_name='Sheet1') #asi se leen archivos de excel en python y con sheet name especificas la hoja"
   ]
  },
  {
   "cell_type": "code",
   "execution_count": 76,
   "id": "8e7bfb63",
   "metadata": {},
   "outputs": [
    {
     "data": {
      "text/html": [
       "<div>\n",
       "<style scoped>\n",
       "    .dataframe tbody tr th:only-of-type {\n",
       "        vertical-align: middle;\n",
       "    }\n",
       "\n",
       "    .dataframe tbody tr th {\n",
       "        vertical-align: top;\n",
       "    }\n",
       "\n",
       "    .dataframe thead th {\n",
       "        text-align: right;\n",
       "    }\n",
       "</style>\n",
       "<table border=\"1\" class=\"dataframe\">\n",
       "  <thead>\n",
       "    <tr style=\"text-align: right;\">\n",
       "      <th></th>\n",
       "      <th>Make</th>\n",
       "      <th>Model</th>\n",
       "      <th>Year</th>\n",
       "      <th>Engine Displacement</th>\n",
       "      <th>Cylinders</th>\n",
       "      <th>Transmission</th>\n",
       "      <th>Drivetrain</th>\n",
       "      <th>Vehicle Class</th>\n",
       "      <th>Fuel Type</th>\n",
       "      <th>Fuel Barrels/Year</th>\n",
       "      <th>City MPG</th>\n",
       "      <th>Highway MPG</th>\n",
       "      <th>Combined MPG</th>\n",
       "      <th>CO2 Emission Grams/Mile</th>\n",
       "      <th>Fuel Cost/Year</th>\n",
       "    </tr>\n",
       "  </thead>\n",
       "  <tbody>\n",
       "    <tr>\n",
       "      <th>0</th>\n",
       "      <td>AM General</td>\n",
       "      <td>DJ Po Vehicle 2WD</td>\n",
       "      <td>1984</td>\n",
       "      <td>2.5</td>\n",
       "      <td>4</td>\n",
       "      <td>Automatic 3-spd</td>\n",
       "      <td>2-Wheel Drive</td>\n",
       "      <td>Special Purpose Vehicle 2WD</td>\n",
       "      <td>Regular</td>\n",
       "      <td>19.388824</td>\n",
       "      <td>18</td>\n",
       "      <td>17</td>\n",
       "      <td>17</td>\n",
       "      <td>522.764706</td>\n",
       "      <td>1950</td>\n",
       "    </tr>\n",
       "    <tr>\n",
       "      <th>1</th>\n",
       "      <td>AM General</td>\n",
       "      <td>FJ8c Post Office</td>\n",
       "      <td>1984</td>\n",
       "      <td>4.2</td>\n",
       "      <td>6</td>\n",
       "      <td>Automatic 3-spd</td>\n",
       "      <td>2-Wheel Drive</td>\n",
       "      <td>Special Purpose Vehicle 2WD</td>\n",
       "      <td>Regular</td>\n",
       "      <td>25.354615</td>\n",
       "      <td>13</td>\n",
       "      <td>13</td>\n",
       "      <td>13</td>\n",
       "      <td>683.615385</td>\n",
       "      <td>2550</td>\n",
       "    </tr>\n",
       "    <tr>\n",
       "      <th>2</th>\n",
       "      <td>AM General</td>\n",
       "      <td>Post Office DJ5 2WD</td>\n",
       "      <td>1985</td>\n",
       "      <td>2.5</td>\n",
       "      <td>4</td>\n",
       "      <td>Automatic 3-spd</td>\n",
       "      <td>Rear-Wheel Drive</td>\n",
       "      <td>Special Purpose Vehicle 2WD</td>\n",
       "      <td>Regular</td>\n",
       "      <td>20.600625</td>\n",
       "      <td>16</td>\n",
       "      <td>17</td>\n",
       "      <td>16</td>\n",
       "      <td>555.437500</td>\n",
       "      <td>2100</td>\n",
       "    </tr>\n",
       "    <tr>\n",
       "      <th>3</th>\n",
       "      <td>AM General</td>\n",
       "      <td>Post Office DJ8 2WD</td>\n",
       "      <td>1985</td>\n",
       "      <td>4.2</td>\n",
       "      <td>6</td>\n",
       "      <td>Automatic 3-spd</td>\n",
       "      <td>Rear-Wheel Drive</td>\n",
       "      <td>Special Purpose Vehicle 2WD</td>\n",
       "      <td>Regular</td>\n",
       "      <td>25.354615</td>\n",
       "      <td>13</td>\n",
       "      <td>13</td>\n",
       "      <td>13</td>\n",
       "      <td>683.615385</td>\n",
       "      <td>2550</td>\n",
       "    </tr>\n",
       "    <tr>\n",
       "      <th>4</th>\n",
       "      <td>ASC Incorporated</td>\n",
       "      <td>GNX</td>\n",
       "      <td>1987</td>\n",
       "      <td>3.8</td>\n",
       "      <td>6</td>\n",
       "      <td>Automatic 4-spd</td>\n",
       "      <td>Rear-Wheel Drive</td>\n",
       "      <td>Midsize Cars</td>\n",
       "      <td>Premium</td>\n",
       "      <td>20.600625</td>\n",
       "      <td>14</td>\n",
       "      <td>21</td>\n",
       "      <td>16</td>\n",
       "      <td>555.437500</td>\n",
       "      <td>2550</td>\n",
       "    </tr>\n",
       "  </tbody>\n",
       "</table>\n",
       "</div>"
      ],
      "text/plain": [
       "               Make                Model  Year  Engine Displacement  \\\n",
       "0        AM General    DJ Po Vehicle 2WD  1984                  2.5   \n",
       "1        AM General     FJ8c Post Office  1984                  4.2   \n",
       "2        AM General  Post Office DJ5 2WD  1985                  2.5   \n",
       "3        AM General  Post Office DJ8 2WD  1985                  4.2   \n",
       "4  ASC Incorporated                  GNX  1987                  3.8   \n",
       "\n",
       "   Cylinders     Transmission        Drivetrain                Vehicle Class  \\\n",
       "0          4  Automatic 3-spd     2-Wheel Drive  Special Purpose Vehicle 2WD   \n",
       "1          6  Automatic 3-spd     2-Wheel Drive  Special Purpose Vehicle 2WD   \n",
       "2          4  Automatic 3-spd  Rear-Wheel Drive  Special Purpose Vehicle 2WD   \n",
       "3          6  Automatic 3-spd  Rear-Wheel Drive  Special Purpose Vehicle 2WD   \n",
       "4          6  Automatic 4-spd  Rear-Wheel Drive                 Midsize Cars   \n",
       "\n",
       "  Fuel Type  Fuel Barrels/Year  City MPG  Highway MPG  Combined MPG  \\\n",
       "0   Regular          19.388824        18           17            17   \n",
       "1   Regular          25.354615        13           13            13   \n",
       "2   Regular          20.600625        16           17            16   \n",
       "3   Regular          25.354615        13           13            13   \n",
       "4   Premium          20.600625        14           21            16   \n",
       "\n",
       "   CO2 Emission Grams/Mile  Fuel Cost/Year  \n",
       "0               522.764706            1950  \n",
       "1               683.615385            2550  \n",
       "2               555.437500            2100  \n",
       "3               683.615385            2550  \n",
       "4               555.437500            2550  "
      ]
     },
     "execution_count": 76,
     "metadata": {},
     "output_type": "execute_result"
    }
   ],
   "source": [
    "df_excel.head()"
   ]
  },
  {
   "cell_type": "code",
   "execution_count": 78,
   "id": "241c49a7",
   "metadata": {},
   "outputs": [
    {
     "data": {
      "text/html": [
       "<div>\n",
       "<style scoped>\n",
       "    .dataframe tbody tr th:only-of-type {\n",
       "        vertical-align: middle;\n",
       "    }\n",
       "\n",
       "    .dataframe tbody tr th {\n",
       "        vertical-align: top;\n",
       "    }\n",
       "\n",
       "    .dataframe thead th {\n",
       "        text-align: right;\n",
       "    }\n",
       "</style>\n",
       "<table border=\"1\" class=\"dataframe\">\n",
       "  <thead>\n",
       "    <tr style=\"text-align: right;\">\n",
       "      <th></th>\n",
       "      <th>Make</th>\n",
       "      <th>Model</th>\n",
       "      <th>Year</th>\n",
       "      <th>Engine Displacement</th>\n",
       "      <th>Cylinders</th>\n",
       "      <th>Transmission</th>\n",
       "      <th>Drivetrain</th>\n",
       "      <th>Vehicle Class</th>\n",
       "      <th>Fuel Type</th>\n",
       "      <th>Fuel Barrels/Year</th>\n",
       "      <th>City MPG</th>\n",
       "      <th>Highway MPG</th>\n",
       "      <th>Combined MPG</th>\n",
       "      <th>CO2 Emission Grams/Mile</th>\n",
       "      <th>Fuel Cost/Year</th>\n",
       "    </tr>\n",
       "  </thead>\n",
       "  <tbody>\n",
       "    <tr>\n",
       "      <th>0</th>\n",
       "      <td>AM General</td>\n",
       "      <td>DJ Po Vehicle 2WD</td>\n",
       "      <td>1984</td>\n",
       "      <td>2.5</td>\n",
       "      <td>4</td>\n",
       "      <td>Automatic 3-spd</td>\n",
       "      <td>2-Wheel Drive</td>\n",
       "      <td>Special Purpose Vehicle 2WD</td>\n",
       "      <td>Regular</td>\n",
       "      <td>19.388824</td>\n",
       "      <td>18</td>\n",
       "      <td>17</td>\n",
       "      <td>17</td>\n",
       "      <td>522.764706</td>\n",
       "      <td>1950</td>\n",
       "    </tr>\n",
       "    <tr>\n",
       "      <th>1</th>\n",
       "      <td>AM General</td>\n",
       "      <td>FJ8c Post Office</td>\n",
       "      <td>1984</td>\n",
       "      <td>4.2</td>\n",
       "      <td>6</td>\n",
       "      <td>Automatic 3-spd</td>\n",
       "      <td>2-Wheel Drive</td>\n",
       "      <td>Special Purpose Vehicle 2WD</td>\n",
       "      <td>Regular</td>\n",
       "      <td>25.354615</td>\n",
       "      <td>13</td>\n",
       "      <td>13</td>\n",
       "      <td>13</td>\n",
       "      <td>683.615385</td>\n",
       "      <td>2550</td>\n",
       "    </tr>\n",
       "    <tr>\n",
       "      <th>2</th>\n",
       "      <td>AM General</td>\n",
       "      <td>Post Office DJ5 2WD</td>\n",
       "      <td>1985</td>\n",
       "      <td>2.5</td>\n",
       "      <td>4</td>\n",
       "      <td>Automatic 3-spd</td>\n",
       "      <td>Rear-Wheel Drive</td>\n",
       "      <td>Special Purpose Vehicle 2WD</td>\n",
       "      <td>Regular</td>\n",
       "      <td>20.600625</td>\n",
       "      <td>16</td>\n",
       "      <td>17</td>\n",
       "      <td>16</td>\n",
       "      <td>555.437500</td>\n",
       "      <td>2100</td>\n",
       "    </tr>\n",
       "    <tr>\n",
       "      <th>3</th>\n",
       "      <td>AM General</td>\n",
       "      <td>Post Office DJ8 2WD</td>\n",
       "      <td>1985</td>\n",
       "      <td>4.2</td>\n",
       "      <td>6</td>\n",
       "      <td>Automatic 3-spd</td>\n",
       "      <td>Rear-Wheel Drive</td>\n",
       "      <td>Special Purpose Vehicle 2WD</td>\n",
       "      <td>Regular</td>\n",
       "      <td>25.354615</td>\n",
       "      <td>13</td>\n",
       "      <td>13</td>\n",
       "      <td>13</td>\n",
       "      <td>683.615385</td>\n",
       "      <td>2550</td>\n",
       "    </tr>\n",
       "    <tr>\n",
       "      <th>4</th>\n",
       "      <td>ASC Incorporated</td>\n",
       "      <td>GNX</td>\n",
       "      <td>1987</td>\n",
       "      <td>3.8</td>\n",
       "      <td>6</td>\n",
       "      <td>Automatic 4-spd</td>\n",
       "      <td>Rear-Wheel Drive</td>\n",
       "      <td>Midsize Cars</td>\n",
       "      <td>Premium</td>\n",
       "      <td>20.600625</td>\n",
       "      <td>14</td>\n",
       "      <td>21</td>\n",
       "      <td>16</td>\n",
       "      <td>555.437500</td>\n",
       "      <td>2550</td>\n",
       "    </tr>\n",
       "    <tr>\n",
       "      <th>...</th>\n",
       "      <td>...</td>\n",
       "      <td>...</td>\n",
       "      <td>...</td>\n",
       "      <td>...</td>\n",
       "      <td>...</td>\n",
       "      <td>...</td>\n",
       "      <td>...</td>\n",
       "      <td>...</td>\n",
       "      <td>...</td>\n",
       "      <td>...</td>\n",
       "      <td>...</td>\n",
       "      <td>...</td>\n",
       "      <td>...</td>\n",
       "      <td>...</td>\n",
       "      <td>...</td>\n",
       "    </tr>\n",
       "    <tr>\n",
       "      <th>35947</th>\n",
       "      <td>smart</td>\n",
       "      <td>fortwo coupe</td>\n",
       "      <td>2013</td>\n",
       "      <td>1.0</td>\n",
       "      <td>3</td>\n",
       "      <td>Auto(AM5)</td>\n",
       "      <td>Rear-Wheel Drive</td>\n",
       "      <td>Two Seaters</td>\n",
       "      <td>Premium</td>\n",
       "      <td>9.155833</td>\n",
       "      <td>34</td>\n",
       "      <td>38</td>\n",
       "      <td>36</td>\n",
       "      <td>244.000000</td>\n",
       "      <td>1100</td>\n",
       "    </tr>\n",
       "    <tr>\n",
       "      <th>35948</th>\n",
       "      <td>smart</td>\n",
       "      <td>fortwo coupe</td>\n",
       "      <td>2014</td>\n",
       "      <td>1.0</td>\n",
       "      <td>3</td>\n",
       "      <td>Auto(AM5)</td>\n",
       "      <td>Rear-Wheel Drive</td>\n",
       "      <td>Two Seaters</td>\n",
       "      <td>Premium</td>\n",
       "      <td>9.155833</td>\n",
       "      <td>34</td>\n",
       "      <td>38</td>\n",
       "      <td>36</td>\n",
       "      <td>243.000000</td>\n",
       "      <td>1100</td>\n",
       "    </tr>\n",
       "    <tr>\n",
       "      <th>35949</th>\n",
       "      <td>smart</td>\n",
       "      <td>fortwo coupe</td>\n",
       "      <td>2015</td>\n",
       "      <td>1.0</td>\n",
       "      <td>3</td>\n",
       "      <td>Auto(AM5)</td>\n",
       "      <td>Rear-Wheel Drive</td>\n",
       "      <td>Two Seaters</td>\n",
       "      <td>Premium</td>\n",
       "      <td>9.155833</td>\n",
       "      <td>34</td>\n",
       "      <td>38</td>\n",
       "      <td>36</td>\n",
       "      <td>244.000000</td>\n",
       "      <td>1100</td>\n",
       "    </tr>\n",
       "    <tr>\n",
       "      <th>35950</th>\n",
       "      <td>smart</td>\n",
       "      <td>fortwo coupe</td>\n",
       "      <td>2016</td>\n",
       "      <td>0.9</td>\n",
       "      <td>3</td>\n",
       "      <td>Auto(AM6)</td>\n",
       "      <td>Rear-Wheel Drive</td>\n",
       "      <td>Two Seaters</td>\n",
       "      <td>Premium</td>\n",
       "      <td>9.155833</td>\n",
       "      <td>34</td>\n",
       "      <td>39</td>\n",
       "      <td>36</td>\n",
       "      <td>246.000000</td>\n",
       "      <td>1100</td>\n",
       "    </tr>\n",
       "    <tr>\n",
       "      <th>35951</th>\n",
       "      <td>smart</td>\n",
       "      <td>fortwo coupe</td>\n",
       "      <td>2016</td>\n",
       "      <td>0.9</td>\n",
       "      <td>3</td>\n",
       "      <td>Manual 5-spd</td>\n",
       "      <td>Rear-Wheel Drive</td>\n",
       "      <td>Two Seaters</td>\n",
       "      <td>Premium</td>\n",
       "      <td>9.417429</td>\n",
       "      <td>32</td>\n",
       "      <td>39</td>\n",
       "      <td>35</td>\n",
       "      <td>255.000000</td>\n",
       "      <td>1150</td>\n",
       "    </tr>\n",
       "  </tbody>\n",
       "</table>\n",
       "<p>35952 rows × 15 columns</p>\n",
       "</div>"
      ],
      "text/plain": [
       "                   Make                Model  Year  Engine Displacement  \\\n",
       "0            AM General    DJ Po Vehicle 2WD  1984                  2.5   \n",
       "1            AM General     FJ8c Post Office  1984                  4.2   \n",
       "2            AM General  Post Office DJ5 2WD  1985                  2.5   \n",
       "3            AM General  Post Office DJ8 2WD  1985                  4.2   \n",
       "4      ASC Incorporated                  GNX  1987                  3.8   \n",
       "...                 ...                  ...   ...                  ...   \n",
       "35947             smart         fortwo coupe  2013                  1.0   \n",
       "35948             smart         fortwo coupe  2014                  1.0   \n",
       "35949             smart         fortwo coupe  2015                  1.0   \n",
       "35950             smart         fortwo coupe  2016                  0.9   \n",
       "35951             smart         fortwo coupe  2016                  0.9   \n",
       "\n",
       "       Cylinders     Transmission        Drivetrain  \\\n",
       "0              4  Automatic 3-spd     2-Wheel Drive   \n",
       "1              6  Automatic 3-spd     2-Wheel Drive   \n",
       "2              4  Automatic 3-spd  Rear-Wheel Drive   \n",
       "3              6  Automatic 3-spd  Rear-Wheel Drive   \n",
       "4              6  Automatic 4-spd  Rear-Wheel Drive   \n",
       "...          ...              ...               ...   \n",
       "35947          3        Auto(AM5)  Rear-Wheel Drive   \n",
       "35948          3        Auto(AM5)  Rear-Wheel Drive   \n",
       "35949          3        Auto(AM5)  Rear-Wheel Drive   \n",
       "35950          3        Auto(AM6)  Rear-Wheel Drive   \n",
       "35951          3     Manual 5-spd  Rear-Wheel Drive   \n",
       "\n",
       "                     Vehicle Class Fuel Type  Fuel Barrels/Year  City MPG  \\\n",
       "0      Special Purpose Vehicle 2WD   Regular          19.388824        18   \n",
       "1      Special Purpose Vehicle 2WD   Regular          25.354615        13   \n",
       "2      Special Purpose Vehicle 2WD   Regular          20.600625        16   \n",
       "3      Special Purpose Vehicle 2WD   Regular          25.354615        13   \n",
       "4                     Midsize Cars   Premium          20.600625        14   \n",
       "...                            ...       ...                ...       ...   \n",
       "35947                  Two Seaters   Premium           9.155833        34   \n",
       "35948                  Two Seaters   Premium           9.155833        34   \n",
       "35949                  Two Seaters   Premium           9.155833        34   \n",
       "35950                  Two Seaters   Premium           9.155833        34   \n",
       "35951                  Two Seaters   Premium           9.417429        32   \n",
       "\n",
       "       Highway MPG  Combined MPG  CO2 Emission Grams/Mile  Fuel Cost/Year  \n",
       "0               17            17               522.764706            1950  \n",
       "1               13            13               683.615385            2550  \n",
       "2               17            16               555.437500            2100  \n",
       "3               13            13               683.615385            2550  \n",
       "4               21            16               555.437500            2550  \n",
       "...            ...           ...                      ...             ...  \n",
       "35947           38            36               244.000000            1100  \n",
       "35948           38            36               243.000000            1100  \n",
       "35949           38            36               244.000000            1100  \n",
       "35950           39            36               246.000000            1100  \n",
       "35951           39            35               255.000000            1150  \n",
       "\n",
       "[35952 rows x 15 columns]"
      ]
     },
     "execution_count": 78,
     "metadata": {},
     "output_type": "execute_result"
    }
   ],
   "source": [
    "pd.read_json(base_path+'/vehicles.json')"
   ]
  },
  {
   "cell_type": "code",
   "execution_count": null,
   "id": "30b22f13",
   "metadata": {},
   "outputs": [],
   "source": []
  }
 ],
 "metadata": {
  "kernelspec": {
   "display_name": "Python 3 (ipykernel)",
   "language": "python",
   "name": "python3"
  },
  "language_info": {
   "codemirror_mode": {
    "name": "ipython",
    "version": 3
   },
   "file_extension": ".py",
   "mimetype": "text/x-python",
   "name": "python",
   "nbconvert_exporter": "python",
   "pygments_lexer": "ipython3",
   "version": "3.9.7"
  }
 },
 "nbformat": 4,
 "nbformat_minor": 5
}
