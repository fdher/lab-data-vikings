{
 "cells": [
  {
   "cell_type": "code",
   "execution_count": 15,
   "id": "f749abe3",
   "metadata": {},
   "outputs": [
    {
     "name": "stdout",
     "output_type": "stream",
     "text": [
      "[3, 2, 1]\n",
      "[4, 6, 5]\n",
      "[]\n",
      "[9, 7, 8]\n",
      "[1, 2, 3, 4, 5, 6, 7, 8, 9]\n"
     ]
    }
   ],
   "source": [
    "v_array=[]\n",
    "flat_array=[[3, 2, 1], [4, 6, 5], [], [9, 7, 8]]\n",
    "for one_element in flat_array:\n",
    "    print(one_element)\n",
    "    if one_element in flat_array==[]:\n",
    "        v_array.append(none)\n",
    "    else:\n",
    "        for number in one_element:\n",
    "            v_array.append(number)\n",
    "print(sorted(v_array))"
   ]
  },
  {
   "cell_type": "code",
   "execution_count": null,
   "id": "75d5d77e-f044-4519-946b-8f4d9652fc2a",
   "metadata": {},
   "outputs": [],
   "source": []
  },
  {
   "cell_type": "code",
   "execution_count": null,
   "id": "32e48ed1-baf3-4e99-883d-f8596c3faa42",
   "metadata": {},
   "outputs": [],
   "source": [
    "opiniones = [(\"marcos\", 0), ('javiera',5), ('Maria',1), ('Francisca', 3), ('luis',3), ('Dennis', 4), ('fabio',4)]"
   ]
  },
  {
   "cell_type": "code",
   "execution_count": null,
   "id": "7ce64f7f-00f2-4101-815f-10a02b48d5cb",
   "metadata": {},
   "outputs": [],
   "source": [
    "personas_dudosas=[]"
   ]
  },
  {
   "cell_type": "code",
   "execution_count": null,
   "id": "13d02627-5856-42d9-8bcf-0ffadb24593a",
   "metadata": {},
   "outputs": [],
   "source": [
    "for nombre,puntuacion in opiniones:\n",
    "    if puntuacion > 1 and puntuacion < 5:\n",
    "        personas_dudosas.append(nombre)\n",
    "\n",
    "personas_dudosas"
   ]
  },
  {
   "cell_type": "code",
   "execution_count": 11,
   "id": "a16378a0-f35c-498b-898a-3740256c70b1",
   "metadata": {},
   "outputs": [
    {
     "data": {
      "text/plain": [
       "['Francisca', 'luis', 'Dennis', 'fabio']"
      ]
     },
     "execution_count": 11,
     "metadata": {},
     "output_type": "execute_result"
    }
   ],
   "source": [
    "personas_dudosas_comp=[nombre for nombre, puntuacion in opiniones if puntuacion > 1 and puntuacion < 5] #aqui es un list comprehension del for anterior\n",
    "personas_dudosas_comp"
   ]
  },
  {
   "cell_type": "code",
   "execution_count": 14,
   "id": "eb442c41-dc1f-41b9-b25a-60b778b4e69c",
   "metadata": {},
   "outputs": [
    {
     "data": {
      "text/plain": [
       "[('Francisca', 3), ('luis', 3), ('Dennis', 4), ('fabio', 4)]"
      ]
     },
     "execution_count": 14,
     "metadata": {},
     "output_type": "execute_result"
    }
   ],
   "source": [
    "personas_dudosas_comp=[(nombre,puntuacion) for nombre, puntuacion in opiniones if puntuacion > 1 and puntuacion < 5] #aqui es un list comprehension del for anterior\n",
    "personas_dudosas_comp"
   ]
  },
  {
   "cell_type": "code",
   "execution_count": 17,
   "id": "714dd1c6-4f4b-4fc7-a371-bd186b3aa18b",
   "metadata": {},
   "outputs": [
    {
     "data": {
      "text/plain": [
       "{'Francisca': 3, 'luis': 3, 'Dennis': 4, 'fabio': 4}"
      ]
     },
     "execution_count": 17,
     "metadata": {},
     "output_type": "execute_result"
    }
   ],
   "source": [
    "##pero tambien lo puedes hacer con un diccionario, solamente que tienes que tener dos elementos, recordar la relacion key:valor\n",
    "personas_dudosas_comp={nombre:puntuacion for nombre, puntuacion in opiniones if puntuacion > 1 and puntuacion < 5} #aqui es un list comprehension del for anterior\n",
    "personas_dudosas_comp\n"
   ]
  },
  {
   "cell_type": "code",
   "execution_count": null,
   "id": "e3a6d1ff-d7f4-4928-a3f9-35dde22a6abb",
   "metadata": {},
   "outputs": [],
   "source": [
    "#la ruta absoluta es la ruta desde la raiz , o la ruta relativa, que es la ruta tomando como punto de partida donde estoy ejecutando el codigo, Ejemplo: usar .. si te quieres subir de carpeta"
   ]
  },
  {
   "cell_type": "code",
   "execution_count": null,
   "id": "3a5c4f53-4bbb-4837-b92e-8a58bb439f4d",
   "metadata": {},
   "outputs": [],
   "source": [
    "#por ejemplo os.listdir('../modulo1') esto es regresarte a un nivel anterior, llamado modulo1, ya con esto estas dando una ruta relativa."
   ]
  },
  {
   "cell_type": "code",
   "execution_count": 6,
   "id": "2af5a083",
   "metadata": {},
   "outputs": [],
   "source": [
    "#ejemplo de un for doble\n",
    "\n",
    "lista_comidas_persona = [[\"hamburguesa\", \"tacos de carnitas\", \"alitas\"], [\"pizza\", \"sushi\", \"alitas\"],\n",
    "                 ['tacos de pollo','pizza','pasta'], [\"tacos\", \"sushi\", \"hamburguesas\"],\n",
    "                 [\"sushi\",\"pho\",\"tacos\"], ['Tacos de pastor',' Ramen', 'Alitas'],\n",
    "                 [\"sushi\",\"hamburguesa\",\"ramen\"], ['porotos granados', 'papas fritas', 'hamburguesas'],\n",
    "                 ['tacos', 'ramen', 'vegetariana'], [\"tamales\", \"pozole\", \"pasta\"]]\n",
    "\n",
    "lista_comidas=[]\n",
    "for lista_persona in lista_comidas_persona: #en esta parte accedes primero a la lista inicial\n",
    "    for comida in lista_persona: #en esta parte iteras sobre cada elemento de la lista\n",
    "        lista_comidas.append(comida)"
   ]
  },
  {
   "cell_type": "code",
   "execution_count": 7,
   "id": "726593b0",
   "metadata": {},
   "outputs": [
    {
     "data": {
      "text/plain": [
       "['hamburguesa',\n",
       " 'tacos de carnitas',\n",
       " 'alitas',\n",
       " 'pizza',\n",
       " 'sushi',\n",
       " 'alitas',\n",
       " 'tacos de pollo',\n",
       " 'pizza',\n",
       " 'pasta',\n",
       " 'tacos',\n",
       " 'sushi',\n",
       " 'hamburguesas',\n",
       " 'sushi',\n",
       " 'pho',\n",
       " 'tacos',\n",
       " 'Tacos de pastor',\n",
       " ' Ramen',\n",
       " 'Alitas',\n",
       " 'sushi',\n",
       " 'hamburguesa',\n",
       " 'ramen',\n",
       " 'porotos granados',\n",
       " 'papas fritas',\n",
       " 'hamburguesas',\n",
       " 'tacos',\n",
       " 'ramen',\n",
       " 'vegetariana',\n",
       " 'tamales',\n",
       " 'pozole',\n",
       " 'pasta']"
      ]
     },
     "execution_count": 7,
     "metadata": {},
     "output_type": "execute_result"
    }
   ],
   "source": [
    "lista_comidas"
   ]
  },
  {
   "cell_type": "code",
   "execution_count": null,
   "id": "be086931",
   "metadata": {},
   "outputs": [],
   "source": [
    "mandado=[comida if comida.startswith('p') else comida.upper() for comida in mandado]\n",
    "print(mandado)"
   ]
  },
  {
   "cell_type": "code",
   "execution_count": null,
   "id": "288ebfe7",
   "metadata": {},
   "outputs": [],
   "source": []
  },
  {
   "cell_type": "code",
   "execution_count": 12,
   "id": "c95d146d",
   "metadata": {},
   "outputs": [
    {
     "name": "stdout",
     "output_type": "stream",
     "text": [
      "['hamburguesa', 'tacos de carnitas', 'alitas', 'pizza', 'sushi', 'alitas', 'tacos de pollo', 'pizza', 'pasta', 'tacos', 'sushi', 'hamburguesas', 'sushi', 'pho', 'tacos', 'Tacos de pastor', ' Ramen', 'Alitas', 'sushi', 'hamburguesa', 'ramen', 'porotos granados', 'papas fritas', 'hamburguesas', 'tacos', 'ramen', 'vegetariana', 'tamales', 'pozole', 'pasta']\n"
     ]
    }
   ],
   "source": [
    "lista_comidas_comp = [comida for lista_persona in lista_comidas_persona for comida in lista_persona]\n",
    "print(lista_comidas_comp) #en este caso, lista_persona que esta al final ya tendria que haber sido\n",
    "#declarada"
   ]
  },
  {
   "cell_type": "code",
   "execution_count": null,
   "id": "4051b4f5",
   "metadata": {},
   "outputs": [],
   "source": [
    "#expresiones regulares, que expresion va a representar un caracter"
   ]
  },
  {
   "cell_type": "code",
   "execution_count": 5,
   "id": "79722618",
   "metadata": {},
   "outputs": [],
   "source": [
    "import re #la libreria que facilita el uso de expresiones regualres"
   ]
  },
  {
   "cell_type": "code",
   "execution_count": null,
   "id": "2e0296e3",
   "metadata": {},
   "outputs": [],
   "source": [
    "#regular expresions en python"
   ]
  },
  {
   "cell_type": "code",
   "execution_count": 7,
   "id": "c14778fa",
   "metadata": {},
   "outputs": [],
   "source": [
    "texto = '''zahid@hotmail.com\n",
    "871-123-45-67\n",
    "cda Calle Mi Casa #1234\n",
    "\"Tengo Hambre\" - Max, \"Tengo hambre tambien yo\" respondio Fabio'''"
   ]
  },
  {
   "cell_type": "code",
   "execution_count": 3,
   "id": "f160250f",
   "metadata": {},
   "outputs": [
    {
     "name": "stdout",
     "output_type": "stream",
     "text": [
      "zahid@hotmail.com\n",
      "871-123-45-67\n",
      "cda Calle Mi Casa #1234\n",
      "\"Tengo Hambre\" - Max, \"Tengo hambre tambien yo\" respondio Fabio\n"
     ]
    }
   ],
   "source": [
    "print(texto)"
   ]
  },
  {
   "cell_type": "code",
   "execution_count": 8,
   "id": "32dfd50f",
   "metadata": {},
   "outputs": [
    {
     "data": {
      "text/plain": [
       "<re.Match object; span=(18, 21), match='871'>"
      ]
     },
     "execution_count": 8,
     "metadata": {},
     "output_type": "execute_result"
    }
   ],
   "source": [
    "re.search(r\"\\d{3}\",texto) #La r sirve para que se tome el regex como expresion regular, puedes usar otra\n",
    "#diagonal invertida en caso de que no se quiera usar la r"
   ]
  },
  {
   "cell_type": "code",
   "execution_count": 9,
   "id": "a23e5f37",
   "metadata": {},
   "outputs": [
    {
     "name": "stdout",
     "output_type": "stream",
     "text": [
      "\n"
     ]
    }
   ],
   "source": [
    "if re.search(r\"\\d{3}\",texto):\n",
    "    print(\"Encontre algo\")     #Si se encuentra, empieza el proceso, es util para validad procesos."
   ]
  },
  {
   "cell_type": "code",
   "execution_count": 11,
   "id": "0eab99c5",
   "metadata": {},
   "outputs": [],
   "source": [
    "re.match(r\"\\d{3}-\\d{2}\",texto) #aqui no hace match porque match siempre empieza en la primera linea\n",
    "#del string"
   ]
  },
  {
   "cell_type": "code",
   "execution_count": 12,
   "id": "42c09bbd",
   "metadata": {},
   "outputs": [
    {
     "data": {
      "text/plain": [
       "<re.Match object; span=(0, 119), match='zahid@hotmail.com\\n871-123-45-67\\ncda Calle Mi Ca>"
      ]
     },
     "execution_count": 12,
     "metadata": {},
     "output_type": "execute_result"
    }
   ],
   "source": [
    "#USO de flags\n",
    "\n",
    "re.match(r\".*\",texto,re.S) #estos son los alias para las flags, recordar que el asterisco es zero o nada\n",
    "#o mas conocido que trae todo hasta que haya espacio o salto de linea o algo que no sea del anterior regex"
   ]
  },
  {
   "cell_type": "code",
   "execution_count": 13,
   "id": "13d0b6f1",
   "metadata": {},
   "outputs": [
    {
     "data": {
      "text/plain": [
       "<re.Match object; span=(0, 5), match='zahid'>"
      ]
     },
     "execution_count": 13,
     "metadata": {},
     "output_type": "execute_result"
    }
   ],
   "source": [
    "re.match(r\"\\w*\",texto,re.S) "
   ]
  },
  {
   "cell_type": "code",
   "execution_count": 14,
   "id": "941c49c0",
   "metadata": {},
   "outputs": [
    {
     "data": {
      "text/plain": [
       "['a', 'a', 'a', 'a', 'a', 'a', 'a', 'a', 'a', 'a', 'a']"
      ]
     },
     "execution_count": 14,
     "metadata": {},
     "output_type": "execute_result"
    }
   ],
   "source": [
    "#uno de los mas importantes\n",
    "re.findall(r\"a\",texto) #te encuentra todos los maches que haya a"
   ]
  },
  {
   "cell_type": "code",
   "execution_count": 16,
   "id": "e0e618af",
   "metadata": {},
   "outputs": [
    {
     "data": {
      "text/plain": [
       "['zahid@hotmail.com']"
      ]
     },
     "execution_count": 16,
     "metadata": {},
     "output_type": "execute_result"
    }
   ],
   "source": [
    "re.findall(r\"\\w*@\\w*\\.com\",texto) #con esto encuentras el correo"
   ]
  },
  {
   "cell_type": "code",
   "execution_count": 17,
   "id": "0267259c",
   "metadata": {},
   "outputs": [
    {
     "data": {
      "text/plain": [
       "[('zahid', 'hotmail')]"
      ]
     },
     "execution_count": 17,
     "metadata": {},
     "output_type": "execute_result"
    }
   ],
   "source": [
    "#por ejemplo encontrar partes de una expresion\n",
    "re.findall(r\"(\\w*)@(\\w*)\\.com\",texto)"
   ]
  },
  {
   "cell_type": "code",
   "execution_count": null,
   "id": "0c88636a",
   "metadata": {},
   "outputs": [],
   "source": [
    "print(re.sub(r\"\\d\",\"NUMERO\",texto, count=2))  #permite substituir un patron con otro que yo le especifique"
   ]
  },
  {
   "cell_type": "code",
   "execution_count": null,
   "id": "42368bf0",
   "metadata": {},
   "outputs": [],
   "source": [
    "re.sub(r\"(\\w*)@(\\w*)\\.com\",\"ironhack\",texto)"
   ]
  },
  {
   "cell_type": "code",
   "execution_count": 19,
   "id": "f54ca1db",
   "metadata": {},
   "outputs": [
    {
     "name": "stdout",
     "output_type": "stream",
     "text": [
      "zahid@ironhack.com\n",
      "871-123-45-67\n",
      "cda Calle Mi Casa #1234\n",
      "\"Tengo Hambre\" - Max, \"Tengo hambre tambien yo\" respondio Fabio\n"
     ]
    }
   ],
   "source": [
    "#para hacer grupos en python para substituciones es:\n",
    "print(re.sub(r\"(\\w*@)\\w*(\\.com)\",\"\\g<1>ironhack\\g<2>\",texto)) #el \\g es lo que empieza un grupo."
   ]
  },
  {
   "cell_type": "code",
   "execution_count": 21,
   "id": "c55f78d7",
   "metadata": {},
   "outputs": [],
   "source": [
    "numero = 'hola8adios2bye4jaja'"
   ]
  },
  {
   "cell_type": "code",
   "execution_count": 22,
   "id": "4f57998c",
   "metadata": {},
   "outputs": [
    {
     "data": {
      "text/plain": [
       "['hola', 'adios', 'bye', 'jaja']"
      ]
     },
     "execution_count": 22,
     "metadata": {},
     "output_type": "execute_result"
    }
   ],
   "source": [
    "#otro metodo\n",
    "re.split(r\"\\d\",numero) 'esto te ayuda a cortar por cada numero'"
   ]
  },
  {
   "cell_type": "code",
   "execution_count": 23,
   "id": "fd7fad09",
   "metadata": {},
   "outputs": [],
   "source": [
    "def sumar_doble_derecha(numero1,numero2):\n",
    "    '''Esta funcion regresa el valor de la multiplicacion de dos numeros'''\n",
    "    return (numero1+2*numero2)"
   ]
  },
  {
   "cell_type": "code",
   "execution_count": 25,
   "id": "a53fced9",
   "metadata": {},
   "outputs": [
    {
     "data": {
      "text/plain": [
       "13"
      ]
     },
     "execution_count": 25,
     "metadata": {},
     "output_type": "execute_result"
    }
   ],
   "source": [
    "sumar_doble_derecha(3,5) #python respeta el orden de las operaciones"
   ]
  },
  {
   "cell_type": "code",
   "execution_count": 31,
   "id": "992ac1ce",
   "metadata": {},
   "outputs": [],
   "source": [
    " def sumar_doble_medio_triple_derecha(numero1,numero2,numero3):\n",
    "        return numero1+2*numero2+3*numero3\n"
   ]
  },
  {
   "cell_type": "code",
   "execution_count": 33,
   "id": "5f568d9d",
   "metadata": {},
   "outputs": [
    {
     "data": {
      "text/plain": [
       "14"
      ]
     },
     "execution_count": 33,
     "metadata": {},
     "output_type": "execute_result"
    }
   ],
   "source": [
    "resultado=sumar_doble_medio_triple_derecha(1,2,3) \n",
    "resultado"
   ]
  },
  {
   "cell_type": "code",
   "execution_count": null,
   "id": "bcd9c44b",
   "metadata": {},
   "outputs": [],
   "source": [
    "#resultado=sumar_doble_medio_triple_derecha(1,2,numero3=3)#(positional,positional, keyword) \n"
   ]
  },
  {
   "cell_type": "code",
   "execution_count": null,
   "id": "8eed8419",
   "metadata": {},
   "outputs": [],
   "source": [
    " def sumar_doble_medio_triple_derecha(numero1,numero2,numero3):\n",
    "        return numero1+2*numero2+3*numero3"
   ]
  },
  {
   "cell_type": "code",
   "execution_count": null,
   "id": "aa36225e",
   "metadata": {},
   "outputs": [],
   "source": [
    "#ejemplo de funcion con * y **\n",
    "\n"
   ]
  },
  {
   "cell_type": "code",
   "execution_count": 41,
   "id": "5aa23090",
   "metadata": {},
   "outputs": [],
   "source": [
    "def mandado_completo(presupuesto, nombre = 'Anonimo',*amigos,**mandado_cantidades):\n",
    "    print(f'La persona comprando es {nombre} y su presupuesto es {presupuesto}')\n",
    "    print('Todo se va a repartir entre las siguientes personas')\n",
    "    for amigo in amigos:\n",
    "        print(f'*{amigo}')\n",
    "\n",
    "#primero va posiciona, luego arks, luego keywoard y hasta el final quarks ese es el orden"
   ]
  },
  {
   "cell_type": "code",
   "execution_count": 42,
   "id": "13213654",
   "metadata": {},
   "outputs": [
    {
     "ename": "TypeError",
     "evalue": "mandado_completo() got multiple values for argument 'nombre'",
     "output_type": "error",
     "traceback": [
      "\u001b[1;31m---------------------------------------------------------------------------\u001b[0m",
      "\u001b[1;31mTypeError\u001b[0m                                 Traceback (most recent call last)",
      "\u001b[1;32mC:\\Users\\FHERNA~1\\AppData\\Local\\Temp/ipykernel_3688/3892778672.py\u001b[0m in \u001b[0;36m<module>\u001b[1;34m\u001b[0m\n\u001b[1;32m----> 1\u001b[1;33m \u001b[0mmandado_completo\u001b[0m\u001b[1;33m(\u001b[0m\u001b[1;36m100\u001b[0m\u001b[1;33m,\u001b[0m\u001b[1;34m'Juan'\u001b[0m\u001b[1;33m,\u001b[0m\u001b[1;34m'Pedro'\u001b[0m\u001b[1;33m,\u001b[0m\u001b[1;34m'Luis'\u001b[0m\u001b[1;33m,\u001b[0m\u001b[0mnombre\u001b[0m\u001b[1;33m=\u001b[0m\u001b[1;34m'Zahid'\u001b[0m\u001b[1;33m,\u001b[0m\u001b[0mtacos\u001b[0m\u001b[1;33m=\u001b[0m\u001b[1;36m15\u001b[0m\u001b[1;33m,\u001b[0m\u001b[0mhuevo\u001b[0m\u001b[1;33m=\u001b[0m\u001b[1;36m1\u001b[0m\u001b[1;33m,\u001b[0m\u001b[0mpan\u001b[0m\u001b[1;33m=\u001b[0m\u001b[1;36m1\u001b[0m\u001b[1;33m)\u001b[0m\u001b[1;33m\u001b[0m\u001b[1;33m\u001b[0m\u001b[0m\n\u001b[0m",
      "\u001b[1;31mTypeError\u001b[0m: mandado_completo() got multiple values for argument 'nombre'"
     ]
    }
   ],
   "source": [
    "#referencia:\n",
    "#recuerda que el valor posicional siempre es necesario. Si no lo introduces, truena\n",
    "def mandado_completo(posicional, *args, keywoard='defecto',**kwargs):"
   ]
  },
  {
   "cell_type": "code",
   "execution_count": null,
   "id": "170b2905",
   "metadata": {},
   "outputs": [],
   "source": [
    "######## LABMDA FUNCTIONS #######"
   ]
  },
  {
   "cell_type": "code",
   "execution_count": null,
   "id": "059c3306",
   "metadata": {},
   "outputs": [],
   "source": [
    "def nombre_funcion(argumento):\n",
    "    return argumento"
   ]
  },
  {
   "cell_type": "code",
   "execution_count": 1,
   "id": "7310a164",
   "metadata": {},
   "outputs": [
    {
     "data": {
      "text/plain": [
       "<function __main__.<lambda>(argumento)>"
      ]
     },
     "execution_count": 1,
     "metadata": {},
     "output_type": "execute_result"
    }
   ],
   "source": [
    "# Sintaxtis tradicional de lambdas\n",
    "\n",
    "# lambda argumentos: return\n",
    "\n",
    "lambda argumento: argumento"
   ]
  },
  {
   "cell_type": "code",
   "execution_count": 3,
   "id": "10b188fd",
   "metadata": {},
   "outputs": [],
   "source": [
    "def multiplicar2(numero):\n",
    "    return numero*2"
   ]
  },
  {
   "cell_type": "code",
   "execution_count": 5,
   "id": "30332ca8",
   "metadata": {},
   "outputs": [
    {
     "data": {
      "text/plain": [
       "10"
      ]
     },
     "execution_count": 5,
     "metadata": {},
     "output_type": "execute_result"
    }
   ],
   "source": [
    "multiplicar2(5)"
   ]
  },
  {
   "cell_type": "code",
   "execution_count": 7,
   "id": "407f56d9",
   "metadata": {},
   "outputs": [],
   "source": [
    "multiplicar2_lambda= lambda numero: numero *2"
   ]
  },
  {
   "cell_type": "code",
   "execution_count": 8,
   "id": "0f770972",
   "metadata": {},
   "outputs": [
    {
     "data": {
      "text/plain": [
       "10"
      ]
     },
     "execution_count": 8,
     "metadata": {},
     "output_type": "execute_result"
    }
   ],
   "source": [
    "multiplicar2_lambda(5)"
   ]
  },
  {
   "cell_type": "code",
   "execution_count": 10,
   "id": "d0094ca2",
   "metadata": {},
   "outputs": [],
   "source": [
    "#un formato de lambda seria\n",
    "\n",
    "sumar_lambda=lambda n1,n2: n1+n2"
   ]
  },
  {
   "cell_type": "code",
   "execution_count": 12,
   "id": "6f8b55fc",
   "metadata": {},
   "outputs": [
    {
     "data": {
      "text/plain": [
       "8"
      ]
     },
     "execution_count": 12,
     "metadata": {},
     "output_type": "execute_result"
    }
   ],
   "source": [
    "sumar_lambda(3,5)"
   ]
  },
  {
   "cell_type": "code",
   "execution_count": null,
   "id": "202c987c",
   "metadata": {},
   "outputs": [],
   "source": [
    "# par_impar_lambda = lambda numero: "
   ]
  },
  {
   "cell_type": "code",
   "execution_count": 14,
   "id": "989c6410",
   "metadata": {},
   "outputs": [
    {
     "ename": "SyntaxError",
     "evalue": "invalid syntax (Temp/ipykernel_1708/3926023498.py, line 5)",
     "output_type": "error",
     "traceback": [
      "\u001b[1;36m  File \u001b[1;32m\"C:\\Users\\FHERNA~1\\AppData\\Local\\Temp/ipykernel_1708/3926023498.py\"\u001b[1;36m, line \u001b[1;32m5\u001b[0m\n\u001b[1;33m    lista_pares_impares=[else print('Impar') i for numero in range(numero) if i % 2 ==0 print('True')]\u001b[0m\n\u001b[1;37m                         ^\u001b[0m\n\u001b[1;31mSyntaxError\u001b[0m\u001b[1;31m:\u001b[0m invalid syntax\n"
     ]
    }
   ],
   "source": [
    "lista_pares_impares=[]\n",
    "\n",
    "numero=4\n",
    "\n",
    "\n",
    "for i in range(n):\n",
    "    appr\n"
   ]
  },
  {
   "cell_type": "code",
   "execution_count": 15,
   "id": "4c675008",
   "metadata": {},
   "outputs": [
    {
     "data": {
      "text/plain": [
       "'a'"
      ]
     },
     "execution_count": 15,
     "metadata": {},
     "output_type": "execute_result"
    }
   ],
   "source": [
    "prueba_lambda=(lambda caracter: caracter[-1])(\"fasdasda\")"
   ]
  },
  {
   "cell_type": "code",
   "execution_count": null,
   "id": "67cf60d2",
   "metadata": {},
   "outputs": [],
   "source": [
    "lambda key: "
   ]
  },
  {
   "cell_type": "code",
   "execution_count": 9,
   "id": "3bd689a4",
   "metadata": {},
   "outputs": [],
   "source": [
    "cuadrado = lambda numero: numero**2"
   ]
  },
  {
   "cell_type": "code",
   "execution_count": 10,
   "id": "9d5e4b86",
   "metadata": {},
   "outputs": [
    {
     "data": {
      "text/plain": [
       "25"
      ]
     },
     "execution_count": 10,
     "metadata": {},
     "output_type": "execute_result"
    }
   ],
   "source": [
    "cuadrado(5)"
   ]
  },
  {
   "cell_type": "code",
   "execution_count": 12,
   "id": "3706b375",
   "metadata": {},
   "outputs": [],
   "source": [
    "#El map te ayuda a optimizar recursos y que sea mas simple de leer.7\n",
    "numeros_entrada=[2,3,5,1,6,3]"
   ]
  },
  {
   "cell_type": "code",
   "execution_count": 13,
   "id": "40ea7107",
   "metadata": {},
   "outputs": [
    {
     "data": {
      "text/plain": [
       "<map at 0x1585df20670>"
      ]
     },
     "execution_count": 13,
     "metadata": {},
     "output_type": "execute_result"
    }
   ],
   "source": [
    "map(cuadrado, numeros_entrada)"
   ]
  },
  {
   "cell_type": "code",
   "execution_count": 14,
   "id": "70bf8402",
   "metadata": {},
   "outputs": [],
   "source": [
    "numeros_entrada=[cuadrado(valor) for valor in numeros_entrada]"
   ]
  },
  {
   "cell_type": "code",
   "execution_count": 18,
   "id": "b6aa380f",
   "metadata": {},
   "outputs": [],
   "source": [
    "#map en pandas, tambien conocido como apply\n",
    "\n",
    "columna_mal = ['M','F','M','M','M','m','masculino','no se','F','brak'] #esta columna es mas dificil de tratar\n",
    "#debido a que tienen un formato diferente"
   ]
  },
  {
   "cell_type": "code",
   "execution_count": 23,
   "id": "e4ad757b",
   "metadata": {},
   "outputs": [],
   "source": [
    "#para reparar lo anterior es hacer un diccionario\n",
    "\n",
    "cambios={'m':'M','M':'M','masculino':'M','F':'F','no se':'N','brak':'N'}"
   ]
  },
  {
   "cell_type": "code",
   "execution_count": 24,
   "id": "3166df07",
   "metadata": {},
   "outputs": [
    {
     "data": {
      "text/plain": [
       "['M', 'F', 'M', 'M', 'M', 'M', 'M', 'N', 'F', 'N']"
      ]
     },
     "execution_count": 24,
     "metadata": {},
     "output_type": "execute_result"
    }
   ],
   "source": [
    "list(map(lambda palabra: cambios[palabra], columna_mal))"
   ]
  },
  {
   "cell_type": "code",
   "execution_count": null,
   "id": "1df3e6d2",
   "metadata": {},
   "outputs": [],
   "source": [
    "###Ejemplos de clases"
   ]
  },
  {
   "cell_type": "code",
   "execution_count": null,
   "id": "413fe1dd",
   "metadata": {},
   "outputs": [],
   "source": [
    "class Nueva():\n",
    "    pass"
   ]
  },
  {
   "cell_type": "code",
   "execution_count": null,
   "id": "43b9a943",
   "metadata": {},
   "outputs": [],
   "source": [
    "#En caso de que no haya nada en parentisis, se le pueden quitar y no habra problema"
   ]
  },
  {
   "cell_type": "code",
   "execution_count": 1,
   "id": "32e48188",
   "metadata": {},
   "outputs": [
    {
     "name": "stdout",
     "output_type": "stream",
     "text": [
      "Input number of seconds to countdown: 10\n"
     ]
    },
    {
     "ename": "TypeError",
     "evalue": "unsupported operand type(s) for divmod(): 'str' and 'int'",
     "output_type": "error",
     "traceback": [
      "\u001b[1;31m---------------------------------------------------------------------------\u001b[0m",
      "\u001b[1;31mTypeError\u001b[0m                                 Traceback (most recent call last)",
      "\u001b[1;32mC:\\Users\\FHERNA~1\\AppData\\Local\\Temp/ipykernel_25240/2795207828.py\u001b[0m in \u001b[0;36m<module>\u001b[1;34m\u001b[0m\n\u001b[0;32m     12\u001b[0m \u001b[1;33m\u001b[0m\u001b[0m\n\u001b[0;32m     13\u001b[0m \u001b[0minp\u001b[0m \u001b[1;33m=\u001b[0m \u001b[0minput\u001b[0m\u001b[1;33m(\u001b[0m\u001b[1;34m'Input number of seconds to countdown: '\u001b[0m\u001b[1;33m)\u001b[0m\u001b[1;33m\u001b[0m\u001b[1;33m\u001b[0m\u001b[0m\n\u001b[1;32m---> 14\u001b[1;33m \u001b[0mcountdown\u001b[0m\u001b[1;33m(\u001b[0m\u001b[0minp\u001b[0m\u001b[1;33m)\u001b[0m\u001b[1;33m\u001b[0m\u001b[1;33m\u001b[0m\u001b[0m\n\u001b[0m",
      "\u001b[1;32mC:\\Users\\FHERNA~1\\AppData\\Local\\Temp/ipykernel_25240/2795207828.py\u001b[0m in \u001b[0;36mcountdown\u001b[1;34m(num_of_secs)\u001b[0m\n\u001b[0;32m      3\u001b[0m \u001b[1;32mdef\u001b[0m \u001b[0mcountdown\u001b[0m\u001b[1;33m(\u001b[0m\u001b[0mnum_of_secs\u001b[0m\u001b[1;33m)\u001b[0m\u001b[1;33m:\u001b[0m\u001b[1;33m\u001b[0m\u001b[1;33m\u001b[0m\u001b[0m\n\u001b[0;32m      4\u001b[0m     \u001b[1;32mwhile\u001b[0m \u001b[0mnum_of_secs\u001b[0m\u001b[1;33m:\u001b[0m\u001b[1;33m\u001b[0m\u001b[1;33m\u001b[0m\u001b[0m\n\u001b[1;32m----> 5\u001b[1;33m         \u001b[0mm\u001b[0m\u001b[1;33m,\u001b[0m \u001b[0ms\u001b[0m \u001b[1;33m=\u001b[0m \u001b[0mdivmod\u001b[0m\u001b[1;33m(\u001b[0m\u001b[0mnum_of_secs\u001b[0m\u001b[1;33m,\u001b[0m \u001b[1;36m60\u001b[0m\u001b[1;33m)\u001b[0m\u001b[1;33m\u001b[0m\u001b[1;33m\u001b[0m\u001b[0m\n\u001b[0m\u001b[0;32m      6\u001b[0m         \u001b[0mmin_sec_format\u001b[0m \u001b[1;33m=\u001b[0m \u001b[1;34m'{:02d}:{:02d}'\u001b[0m\u001b[1;33m.\u001b[0m\u001b[0mformat\u001b[0m\u001b[1;33m(\u001b[0m\u001b[0mm\u001b[0m\u001b[1;33m,\u001b[0m \u001b[0ms\u001b[0m\u001b[1;33m)\u001b[0m\u001b[1;33m\u001b[0m\u001b[1;33m\u001b[0m\u001b[0m\n\u001b[0;32m      7\u001b[0m         \u001b[0mprint\u001b[0m\u001b[1;33m(\u001b[0m\u001b[0mmin_sec_format\u001b[0m\u001b[1;33m,\u001b[0m \u001b[0mend\u001b[0m\u001b[1;33m=\u001b[0m\u001b[1;34m'/r'\u001b[0m\u001b[1;33m)\u001b[0m\u001b[1;33m\u001b[0m\u001b[1;33m\u001b[0m\u001b[0m\n",
      "\u001b[1;31mTypeError\u001b[0m: unsupported operand type(s) for divmod(): 'str' and 'int'"
     ]
    }
   ],
   "source": [
    "import time\n",
    "\n",
    "def countdown(num_of_secs):\n",
    "    while num_of_secs:\n",
    "        m, s = divmod(num_of_secs, 60)\n",
    "        min_sec_format = '{:02d}:{:02d}'.format(m, s)\n",
    "        print(min_sec_format, end='/r')\n",
    "        time.sleep(1)\n",
    "        num_of_secs -= 1\n",
    "        \n",
    "    print('Countdown finished.')\n",
    "\n",
    "inp = input('Input number of seconds to countdown: ')\n",
    "countdown(inp)"
   ]
  },
  {
   "cell_type": "code",
   "execution_count": 8,
   "id": "a1775f94",
   "metadata": {},
   "outputs": [
    {
     "name": "stdout",
     "output_type": "stream",
     "text": [
      "Tiempo agotado\n"
     ]
    }
   ],
   "source": [
    "\n",
    "# import the time module\n",
    "import time\n",
    "  \n",
    "# define the countdown func.\n",
    "def countdown(t):\n",
    "    while t:\n",
    "        mins, secs = divmod(t, 60)\n",
    "        timer = '{:02d}:{:02d}'.format(mins, secs)\n",
    "        print(timer, end=\"\\r\")\n",
    "        time.sleep(1)\n",
    "        t -= 1\n",
    "    print('Tiempo agotado')\n",
    "    \n",
    "\n",
    "# function call\n",
    "countdown(10)"
   ]
  },
  {
   "cell_type": "code",
   "execution_count": null,
   "id": "67eaf3ea",
   "metadata": {},
   "outputs": [],
   "source": [
    "\n",
    "\n",
    "DictPreguntasRespuestas={'Las galletas Oreo son más antiguas que las galletas de chips de chocolate':'Verdadero, Oreo fue inventado en 1912',\n",
    "'Napoleon Bonaparte era extremadamente bajo':'Falso, aunque mucha gente cree que era bajito, media 1.70 m','El protagonista de One Piece se llama Monkey D Adame':'Falso, se llama Monkey D Luffy',\n",
    "'Los conejos son roedores':'Falso, los conejos son lagormorfos','La muralla China se ve desde el epsacio':'Falso, aunque muchos creen que se ve desde el espacio, solamente alcanza a verse a una altitud de 36km',\n",
    "'Los encendedores fueron inventados antes que los cerillos':'Verdadero, los encendedores fueron inventados en 1823 mientras que los cerrillos en 1826',\n",
    "'Will Smith progatonizo Matrix':'Falso, es protagonizada por Keanu Reeves','El personaje de Goku estuvo inspirado por un mono':'Verdadero, Akira Toriyama se inspiro en un mono para crear a Goku',\n",
    "'La gema verde del infinito representa el poder':'Falso, representa el tiempo','El creador de Bob Esponja es un cientifico':'Verdadero, Stephen Hillenburg fue Biologo Marino',\n",
    "'El guitarrista de Led Zeppelin se llama Slash':'Falso, se llama Jimmy Page','Krillin murio un total de 3 veces en Dragon Ball Z':'Verdadero, Krillin murio un total de 3 veces',\n",
    "'El protagonista de Death Note se llama Night':'Falso, se llama Light','Cristiano Ronaldo es conocido como el Comandante':'Verdadero, SIIIIIIUUUUUUU'}\n",
    "\n",
    "verdaderoofalso=['Verdadero o Falso']\n",
    "\n",
    "# def NuevoJuego():\n",
    "#     guess=[]\n",
    "#     correcto=[]\n",
    "#     num_pregunta=0\n",
    "\n",
    "#     for key in DictPreguntasRespuestas:\n",
    "#         print(\"-\"*20)\n",
    "#         guess=input('Verdadero o Falso?')\n",
    "#         guess=guess.uper()\n",
    "#         guesses.append(guess)\n",
    "#         for adivina in verdaderoofalso:\n",
    "#             print(\"-\"*20)\n",
    "#             print(adivina)\n",
    "\n",
    "guess=input('Verdadero o Falso')\n",
    "if isinstance(guess,str):\n",
    "    guess=input('Porfavor intenta de nuevo con caracteres')\n",
    "else:\n",
    "    for key in DictPreguntasRespuestas:\n",
    "        print('-'*20)"
   ]
  },
  {
   "cell_type": "code",
   "execution_count": null,
   "id": "8f0c334d",
   "metadata": {},
   "outputs": [],
   "source": [
    "#######PANDAS#######"
   ]
  },
  {
   "cell_type": "code",
   "execution_count": 9,
   "id": "e6492e3f",
   "metadata": {},
   "outputs": [
    {
     "ename": "AttributeError",
     "evalue": "'numpy.ndarray' object has no attribute 'pdseries'",
     "output_type": "error",
     "traceback": [
      "\u001b[1;31m---------------------------------------------------------------------------\u001b[0m",
      "\u001b[1;31mAttributeError\u001b[0m                            Traceback (most recent call last)",
      "\u001b[1;32mC:\\Users\\FHERNA~1\\AppData\\Local\\Temp/ipykernel_36564/3258635052.py\u001b[0m in \u001b[0;36m<module>\u001b[1;34m\u001b[0m\n\u001b[0;32m      2\u001b[0m \u001b[1;32mimport\u001b[0m \u001b[0mpandas\u001b[0m \u001b[1;32mas\u001b[0m \u001b[0mpd\u001b[0m\u001b[1;33m\u001b[0m\u001b[1;33m\u001b[0m\u001b[0m\n\u001b[0;32m      3\u001b[0m \u001b[1;33m\u001b[0m\u001b[0m\n\u001b[1;32m----> 4\u001b[1;33m \u001b[0mprimer_serie\u001b[0m\u001b[1;33m.\u001b[0m\u001b[0mpdseries\u001b[0m\u001b[1;33m=\u001b[0m\u001b[0mnp\u001b[0m\u001b[1;33m.\u001b[0m\u001b[0mrandom\u001b[0m\u001b[1;33m.\u001b[0m\u001b[0mrandint\u001b[0m\u001b[1;33m(\u001b[0m\u001b[1;36m8\u001b[0m\u001b[1;33m,\u001b[0m\u001b[1;36m23\u001b[0m\u001b[1;33m,\u001b[0m\u001b[0msize\u001b[0m\u001b[1;33m=\u001b[0m\u001b[1;36m10\u001b[0m\u001b[1;33m)\u001b[0m\u001b[1;33m\u001b[0m\u001b[1;33m\u001b[0m\u001b[0m\n\u001b[0m",
      "\u001b[1;31mAttributeError\u001b[0m: 'numpy.ndarray' object has no attribute 'pdseries'"
     ]
    }
   ],
   "source": [
    "\n",
    "import numpy as np\n",
    "import pandas as pd\n",
    "\n",
    "primer_serie.pdseries=np.random.randint(8,23,size=10)"
   ]
  },
  {
   "cell_type": "code",
   "execution_count": 5,
   "id": "c4ac87a0",
   "metadata": {},
   "outputs": [
    {
     "data": {
      "text/plain": [
       "18"
      ]
     },
     "execution_count": 5,
     "metadata": {},
     "output_type": "execute_result"
    }
   ],
   "source": [
    "primer_serie[5]"
   ]
  },
  {
   "cell_type": "code",
   "execution_count": 11,
   "id": "91190e9f",
   "metadata": {},
   "outputs": [],
   "source": [
    "indices = ['uno','dos','tres','cuatro','cinco','seis','siete','ocho','nueve','diez']\n",
    "primer_df=pd.DataFrame(np.random.randint(8,23,size=10))"
   ]
  },
  {
   "cell_type": "code",
   "execution_count": 16,
   "id": "a74705cf",
   "metadata": {},
   "outputs": [
    {
     "data": {
      "text/html": [
       "<div>\n",
       "<style scoped>\n",
       "    .dataframe tbody tr th:only-of-type {\n",
       "        vertical-align: middle;\n",
       "    }\n",
       "\n",
       "    .dataframe tbody tr th {\n",
       "        vertical-align: top;\n",
       "    }\n",
       "\n",
       "    .dataframe thead th {\n",
       "        text-align: right;\n",
       "    }\n",
       "</style>\n",
       "<table border=\"1\" class=\"dataframe\">\n",
       "  <thead>\n",
       "    <tr style=\"text-align: right;\">\n",
       "      <th></th>\n",
       "      <th>0</th>\n",
       "      <th>1</th>\n",
       "      <th>2</th>\n",
       "      <th>3</th>\n",
       "    </tr>\n",
       "  </thead>\n",
       "  <tbody>\n",
       "    <tr>\n",
       "      <th>0</th>\n",
       "      <td>21</td>\n",
       "      <td>17</td>\n",
       "      <td>18</td>\n",
       "      <td>22</td>\n",
       "    </tr>\n",
       "    <tr>\n",
       "      <th>1</th>\n",
       "      <td>13</td>\n",
       "      <td>16</td>\n",
       "      <td>15</td>\n",
       "      <td>20</td>\n",
       "    </tr>\n",
       "    <tr>\n",
       "      <th>2</th>\n",
       "      <td>13</td>\n",
       "      <td>19</td>\n",
       "      <td>18</td>\n",
       "      <td>15</td>\n",
       "    </tr>\n",
       "    <tr>\n",
       "      <th>3</th>\n",
       "      <td>13</td>\n",
       "      <td>15</td>\n",
       "      <td>21</td>\n",
       "      <td>16</td>\n",
       "    </tr>\n",
       "    <tr>\n",
       "      <th>4</th>\n",
       "      <td>15</td>\n",
       "      <td>21</td>\n",
       "      <td>19</td>\n",
       "      <td>9</td>\n",
       "    </tr>\n",
       "    <tr>\n",
       "      <th>5</th>\n",
       "      <td>11</td>\n",
       "      <td>12</td>\n",
       "      <td>16</td>\n",
       "      <td>18</td>\n",
       "    </tr>\n",
       "    <tr>\n",
       "      <th>6</th>\n",
       "      <td>13</td>\n",
       "      <td>13</td>\n",
       "      <td>15</td>\n",
       "      <td>15</td>\n",
       "    </tr>\n",
       "    <tr>\n",
       "      <th>7</th>\n",
       "      <td>15</td>\n",
       "      <td>8</td>\n",
       "      <td>18</td>\n",
       "      <td>13</td>\n",
       "    </tr>\n",
       "    <tr>\n",
       "      <th>8</th>\n",
       "      <td>12</td>\n",
       "      <td>10</td>\n",
       "      <td>8</td>\n",
       "      <td>11</td>\n",
       "    </tr>\n",
       "    <tr>\n",
       "      <th>9</th>\n",
       "      <td>16</td>\n",
       "      <td>16</td>\n",
       "      <td>10</td>\n",
       "      <td>19</td>\n",
       "    </tr>\n",
       "  </tbody>\n",
       "</table>\n",
       "</div>"
      ],
      "text/plain": [
       "    0   1   2   3\n",
       "0  21  17  18  22\n",
       "1  13  16  15  20\n",
       "2  13  19  18  15\n",
       "3  13  15  21  16\n",
       "4  15  21  19   9\n",
       "5  11  12  16  18\n",
       "6  13  13  15  15\n",
       "7  15   8  18  13\n",
       "8  12  10   8  11\n",
       "9  16  16  10  19"
      ]
     },
     "execution_count": 16,
     "metadata": {},
     "output_type": "execute_result"
    }
   ],
   "source": [
    "pd.DataFrame(np.random.randint(8,23,size=[10,4]))"
   ]
  },
  {
   "cell_type": "code",
   "execution_count": 18,
   "id": "f823b889",
   "metadata": {},
   "outputs": [],
   "source": [
    "primer_df=pd.DataFrame(np.random.randint(8,23,size=[10,4]))"
   ]
  },
  {
   "cell_type": "code",
   "execution_count": 19,
   "id": "47c1c282",
   "metadata": {},
   "outputs": [],
   "source": [
    "primer_df.index=indices"
   ]
  },
  {
   "cell_type": "code",
   "execution_count": 20,
   "id": "b2a0e847",
   "metadata": {},
   "outputs": [],
   "source": [
    "primer_df.columns=['col1','col2','col3','col4']"
   ]
  },
  {
   "cell_type": "code",
   "execution_count": 21,
   "id": "0f7451c0",
   "metadata": {},
   "outputs": [
    {
     "data": {
      "text/plain": [
       "uno       12\n",
       "dos       12\n",
       "tres      12\n",
       "cuatro    17\n",
       "cinco     14\n",
       "seis      14\n",
       "siete     14\n",
       "ocho      10\n",
       "nueve     18\n",
       "diez      10\n",
       "Name: col2, dtype: int32"
      ]
     },
     "execution_count": 21,
     "metadata": {},
     "output_type": "execute_result"
    }
   ],
   "source": [
    "primer_df['col2']"
   ]
  },
  {
   "cell_type": "code",
   "execution_count": 22,
   "id": "0d32dc24",
   "metadata": {},
   "outputs": [
    {
     "data": {
      "text/html": [
       "<div>\n",
       "<style scoped>\n",
       "    .dataframe tbody tr th:only-of-type {\n",
       "        vertical-align: middle;\n",
       "    }\n",
       "\n",
       "    .dataframe tbody tr th {\n",
       "        vertical-align: top;\n",
       "    }\n",
       "\n",
       "    .dataframe thead th {\n",
       "        text-align: right;\n",
       "    }\n",
       "</style>\n",
       "<table border=\"1\" class=\"dataframe\">\n",
       "  <thead>\n",
       "    <tr style=\"text-align: right;\">\n",
       "      <th></th>\n",
       "      <th>col2</th>\n",
       "      <th>col3</th>\n",
       "    </tr>\n",
       "  </thead>\n",
       "  <tbody>\n",
       "    <tr>\n",
       "      <th>uno</th>\n",
       "      <td>12</td>\n",
       "      <td>14</td>\n",
       "    </tr>\n",
       "    <tr>\n",
       "      <th>dos</th>\n",
       "      <td>12</td>\n",
       "      <td>15</td>\n",
       "    </tr>\n",
       "    <tr>\n",
       "      <th>tres</th>\n",
       "      <td>12</td>\n",
       "      <td>20</td>\n",
       "    </tr>\n",
       "    <tr>\n",
       "      <th>cuatro</th>\n",
       "      <td>17</td>\n",
       "      <td>20</td>\n",
       "    </tr>\n",
       "    <tr>\n",
       "      <th>cinco</th>\n",
       "      <td>14</td>\n",
       "      <td>14</td>\n",
       "    </tr>\n",
       "    <tr>\n",
       "      <th>seis</th>\n",
       "      <td>14</td>\n",
       "      <td>15</td>\n",
       "    </tr>\n",
       "    <tr>\n",
       "      <th>siete</th>\n",
       "      <td>14</td>\n",
       "      <td>9</td>\n",
       "    </tr>\n",
       "    <tr>\n",
       "      <th>ocho</th>\n",
       "      <td>10</td>\n",
       "      <td>11</td>\n",
       "    </tr>\n",
       "    <tr>\n",
       "      <th>nueve</th>\n",
       "      <td>18</td>\n",
       "      <td>20</td>\n",
       "    </tr>\n",
       "    <tr>\n",
       "      <th>diez</th>\n",
       "      <td>10</td>\n",
       "      <td>20</td>\n",
       "    </tr>\n",
       "  </tbody>\n",
       "</table>\n",
       "</div>"
      ],
      "text/plain": [
       "        col2  col3\n",
       "uno       12    14\n",
       "dos       12    15\n",
       "tres      12    20\n",
       "cuatro    17    20\n",
       "cinco     14    14\n",
       "seis      14    15\n",
       "siete     14     9\n",
       "ocho      10    11\n",
       "nueve     18    20\n",
       "diez      10    20"
      ]
     },
     "execution_count": 22,
     "metadata": {},
     "output_type": "execute_result"
    }
   ],
   "source": [
    "primer_df[['col2','col3']]"
   ]
  },
  {
   "cell_type": "code",
   "execution_count": 24,
   "id": "87db203e",
   "metadata": {},
   "outputs": [
    {
     "name": "stdout",
     "output_type": "stream",
     "text": [
      "Bienvenido a IronTrivia!\n",
      "\n",
      "Por favor, coloca tu nombre: d\n",
      "Hola d!\n",
      "Elige el tema de tu preferencia:\n",
      "           Presiona 1 para Ciencias.\n",
      "           Presiona 2 para Cultura Pop.\n",
      "           Presiona 0 para salir.\n",
      "1\n",
      "Has seleccionado preguntas de Ciencia!\n",
      "--------------------\n",
      "¿Los -273°C es la temperatura más baja que se puede alcanzar?\n",
      "Verdadero o Falso?               Verdadero\n",
      "Correcto! es el cero absoluto en la escala Kelvin\n",
      "Tienes 1 puntos\n",
      "--------------------\n",
      "¿La ballena jorobada es el animal más grande del mundo?\n",
      "Verdadero o Falso?               Falso\n",
      "Correcto! se trata de la ballena azul con 29 m de largo.\n",
      "Tienes 2 puntos\n",
      "--------------------\n",
      "¿El Sol es el planeta más grande del sistema?\n",
      "Verdadero o Falso?               Falso\n",
      "Correcto! el Sol no es un planeta\n",
      "Tienes 3 puntos\n",
      "Ganaste!\n",
      "Quieres jugar de nuevo? (y/n)y\n",
      "Bienvenido a IronTrivia!\n",
      "\n"
     ]
    },
    {
     "ename": "KeyboardInterrupt",
     "evalue": "Interrupted by user",
     "output_type": "error",
     "traceback": [
      "\u001b[1;31m---------------------------------------------------------------------------\u001b[0m",
      "\u001b[1;31mKeyboardInterrupt\u001b[0m                         Traceback (most recent call last)",
      "\u001b[1;32mC:\\Users\\FHERNA~1\\AppData\\Local\\Temp/ipykernel_32912/2157836398.py\u001b[0m in \u001b[0;36m<module>\u001b[1;34m\u001b[0m\n\u001b[0;32m    107\u001b[0m         \u001b[1;32mreturn\u001b[0m \u001b[1;36m0\u001b[0m\u001b[1;33m\u001b[0m\u001b[1;33m\u001b[0m\u001b[0m\n\u001b[0;32m    108\u001b[0m \u001b[1;33m\u001b[0m\u001b[0m\n\u001b[1;32m--> 109\u001b[1;33m \u001b[0mNuevoJuego\u001b[0m\u001b[1;33m(\u001b[0m\u001b[1;33m)\u001b[0m\u001b[1;33m\u001b[0m\u001b[1;33m\u001b[0m\u001b[0m\n\u001b[0m",
      "\u001b[1;32mC:\\Users\\FHERNA~1\\AppData\\Local\\Temp/ipykernel_32912/2157836398.py\u001b[0m in \u001b[0;36mNuevoJuego\u001b[1;34m()\u001b[0m\n\u001b[0;32m     71\u001b[0m         \u001b[0mrespuesta\u001b[0m\u001b[1;33m=\u001b[0m\u001b[0mrespuesta\u001b[0m\u001b[1;33m.\u001b[0m\u001b[0mupper\u001b[0m\u001b[1;33m(\u001b[0m\u001b[1;33m)\u001b[0m\u001b[1;33m\u001b[0m\u001b[1;33m\u001b[0m\u001b[0m\n\u001b[0;32m     72\u001b[0m         \u001b[1;32mif\u001b[0m \u001b[0mrespuesta\u001b[0m\u001b[1;33m==\u001b[0m\u001b[1;34m'Y'\u001b[0m\u001b[1;33m:\u001b[0m\u001b[1;33m\u001b[0m\u001b[1;33m\u001b[0m\u001b[0m\n\u001b[1;32m---> 73\u001b[1;33m             \u001b[1;32mreturn\u001b[0m \u001b[0mNuevoJuego\u001b[0m\u001b[1;33m(\u001b[0m\u001b[1;33m)\u001b[0m\u001b[1;33m\u001b[0m\u001b[1;33m\u001b[0m\u001b[0m\n\u001b[0m\u001b[0;32m     74\u001b[0m         \u001b[1;32melse\u001b[0m\u001b[1;33m:\u001b[0m\u001b[1;33m\u001b[0m\u001b[1;33m\u001b[0m\u001b[0m\n\u001b[0;32m     75\u001b[0m             \u001b[0mprint\u001b[0m\u001b[1;33m(\u001b[0m\u001b[1;34m\"Gracias por jugar!\"\u001b[0m\u001b[1;33m)\u001b[0m\u001b[1;33m\u001b[0m\u001b[1;33m\u001b[0m\u001b[0m\n",
      "\u001b[1;32mC:\\Users\\FHERNA~1\\AppData\\Local\\Temp/ipykernel_32912/2157836398.py\u001b[0m in \u001b[0;36mNuevoJuego\u001b[1;34m()\u001b[0m\n\u001b[0;32m     34\u001b[0m     \u001b[0mprint\u001b[0m\u001b[1;33m(\u001b[0m\u001b[1;34m\"Bienvenido a IronTrivia!\\n\"\u001b[0m\u001b[1;33m)\u001b[0m\u001b[1;33m\u001b[0m\u001b[1;33m\u001b[0m\u001b[0m\n\u001b[0;32m     35\u001b[0m     \u001b[1;32mwhile\u001b[0m \u001b[1;32mTrue\u001b[0m\u001b[1;33m:\u001b[0m\u001b[1;33m\u001b[0m\u001b[1;33m\u001b[0m\u001b[0m\n\u001b[1;32m---> 36\u001b[1;33m         \u001b[0mnombre\u001b[0m\u001b[1;33m=\u001b[0m \u001b[0minput\u001b[0m\u001b[1;33m(\u001b[0m\u001b[1;34m\"Por favor, coloca tu nombre: \"\u001b[0m\u001b[1;33m)\u001b[0m\u001b[1;33m\u001b[0m\u001b[1;33m\u001b[0m\u001b[0m\n\u001b[0m\u001b[0;32m     37\u001b[0m         \u001b[1;32mif\u001b[0m \u001b[0mnombre\u001b[0m\u001b[1;33m.\u001b[0m\u001b[0misalpha\u001b[0m\u001b[1;33m(\u001b[0m\u001b[1;33m)\u001b[0m\u001b[1;33m==\u001b[0m \u001b[1;32mTrue\u001b[0m\u001b[1;33m:\u001b[0m\u001b[1;33m\u001b[0m\u001b[1;33m\u001b[0m\u001b[0m\n\u001b[0;32m     38\u001b[0m             \u001b[0mprint\u001b[0m\u001b[1;33m(\u001b[0m\u001b[1;34mf\"Hola {nombre}!\"\u001b[0m\u001b[1;33m)\u001b[0m\u001b[1;33m\u001b[0m\u001b[1;33m\u001b[0m\u001b[0m\n",
      "\u001b[1;32m~\\Anaconda3\\lib\\site-packages\\ipykernel\\kernelbase.py\u001b[0m in \u001b[0;36mraw_input\u001b[1;34m(self, prompt)\u001b[0m\n\u001b[0;32m   1004\u001b[0m                 \u001b[1;34m\"raw_input was called, but this frontend does not support input requests.\"\u001b[0m\u001b[1;33m\u001b[0m\u001b[1;33m\u001b[0m\u001b[0m\n\u001b[0;32m   1005\u001b[0m             )\n\u001b[1;32m-> 1006\u001b[1;33m         return self._input_request(\n\u001b[0m\u001b[0;32m   1007\u001b[0m             \u001b[0mstr\u001b[0m\u001b[1;33m(\u001b[0m\u001b[0mprompt\u001b[0m\u001b[1;33m)\u001b[0m\u001b[1;33m,\u001b[0m\u001b[1;33m\u001b[0m\u001b[1;33m\u001b[0m\u001b[0m\n\u001b[0;32m   1008\u001b[0m             \u001b[0mself\u001b[0m\u001b[1;33m.\u001b[0m\u001b[0m_parent_ident\u001b[0m\u001b[1;33m[\u001b[0m\u001b[1;34m\"shell\"\u001b[0m\u001b[1;33m]\u001b[0m\u001b[1;33m,\u001b[0m\u001b[1;33m\u001b[0m\u001b[1;33m\u001b[0m\u001b[0m\n",
      "\u001b[1;32m~\\Anaconda3\\lib\\site-packages\\ipykernel\\kernelbase.py\u001b[0m in \u001b[0;36m_input_request\u001b[1;34m(self, prompt, ident, parent, password)\u001b[0m\n\u001b[0;32m   1049\u001b[0m             \u001b[1;32mexcept\u001b[0m \u001b[0mKeyboardInterrupt\u001b[0m\u001b[1;33m:\u001b[0m\u001b[1;33m\u001b[0m\u001b[1;33m\u001b[0m\u001b[0m\n\u001b[0;32m   1050\u001b[0m                 \u001b[1;31m# re-raise KeyboardInterrupt, to truncate traceback\u001b[0m\u001b[1;33m\u001b[0m\u001b[1;33m\u001b[0m\u001b[0m\n\u001b[1;32m-> 1051\u001b[1;33m                 \u001b[1;32mraise\u001b[0m \u001b[0mKeyboardInterrupt\u001b[0m\u001b[1;33m(\u001b[0m\u001b[1;34m\"Interrupted by user\"\u001b[0m\u001b[1;33m)\u001b[0m \u001b[1;32mfrom\u001b[0m \u001b[1;32mNone\u001b[0m\u001b[1;33m\u001b[0m\u001b[1;33m\u001b[0m\u001b[0m\n\u001b[0m\u001b[0;32m   1052\u001b[0m             \u001b[1;32mexcept\u001b[0m \u001b[0mException\u001b[0m\u001b[1;33m:\u001b[0m\u001b[1;33m\u001b[0m\u001b[1;33m\u001b[0m\u001b[0m\n\u001b[0;32m   1053\u001b[0m                 \u001b[0mself\u001b[0m\u001b[1;33m.\u001b[0m\u001b[0mlog\u001b[0m\u001b[1;33m.\u001b[0m\u001b[0mwarning\u001b[0m\u001b[1;33m(\u001b[0m\u001b[1;34m\"Invalid Message:\"\u001b[0m\u001b[1;33m,\u001b[0m \u001b[0mexc_info\u001b[0m\u001b[1;33m=\u001b[0m\u001b[1;32mTrue\u001b[0m\u001b[1;33m)\u001b[0m\u001b[1;33m\u001b[0m\u001b[1;33m\u001b[0m\u001b[0m\n",
      "\u001b[1;31mKeyboardInterrupt\u001b[0m: Interrupted by user"
     ]
    }
   ],
   "source": [
    "import random\n",
    "import string\n",
    "import re\n",
    "import numpy as np\n",
    "DictPreguntasRespuestasPop={'Las galletas Oreo son más antiguas que las galletas de chips de chocolate':'Verdadero, Oreo fue inventado en 1912',\n",
    "'Napoleon Bonaparte era extremadamente bajo':'Falso, Aunque mucha gente cree que era bajito media 1.70 m','El protagonista de One Piece se llama Monkey D Adame':'Falso, Se llama Monkey D Luffy',\n",
    "'Los conejos son roedores':'Falso, Los conejos son lagomorfos','La muralla China se ve desde el espacio':'Falso, Aunque muchos creen que se ve desde el espacio solamente alcanza a verse a una altitud de 36km',\n",
    "'Los encendedores fueron inventados antes que los cerillos':'Verdadero, Los encendedores fueron inventados en 1823 mientras que los cerrillos en 1826',\n",
    "'Will Smith progatonizo Matrix':'Falso, Es protagonizada por Keanu Reeves','El personaje de Goku estuvo inspirado por un mono':'Verdadero, Akira Toriyama se inspiro en un mono para crear a Goku',\n",
    "'La gema verde del infinito representa el poder':'Falso, Representa el tiempo','El creador de Bob Esponja es un cientifico':'Verdadero, Stephen Hillenburg fue Biologo Marino',\n",
    "'El guitarrista de Led Zeppelin se llama Slash':'Falso, Se llama Jimmy Page','Krillin murio un total de 3 veces en Dragon Ball Z':'Verdadero, Krillin murio un total de 3 veces',\n",
    "'El protagonista de Death Note se llama Night':'Falso, Se llama Light','Cristiano Ronaldo es conocido como el Comandante':'Verdadero, SIIIIIIUUUUUUU'}\n",
    "DictPreguntasRespuestasCiencia = {\"¿El cuerpo humano tiene 206 huesos?\":\"VERDADERO, Tenemos 206 huesos articulados entre sí\", \n",
    "\"¿Durante la fotosíntesis las plantas transforman O2 en azúcares?\":\"FALSO, En realidad transforman en CO2 en O2\",\n",
    "\"¿Es verdad que existen entre 700 y 900 especies de dinosaurios?\": \"VERDADERO, Sin embargo, solo la mitad se basan en muestras completas\", \n",
    "\"¿El cerebro es el órgano que consume más energía\":\"VERDADERO, El cerebro consume más del 20% de la energía que generamos\", \n",
    "\"¿La ballena jorobada es el animal más grande del mundo?\":\"FALSO, se trata de la ballena azul con 29 m de largo.\", \n",
    "\"¿El Sol es el planeta más grande del sistema?\":\"FALSO, el Sol no es un planeta, si no una estrella\", \n",
    "\"¿El Germanio es un elemento de la tabla periódica?\":\"VERDADERO, Es un elemento químico con número atómico 32, y símbolo Ge \", \n",
    "\"¿Los cloroplastos se encuentran dentro del núcleo de la célula vegetal?\": \"FALSO, Se encuentran distribuidos en el citoplasma\",\n",
    "\"¿El núcleo es el centro de un átomo?\":\"VERDADERO, Está compuesto de protones y neutrones, y posee casi la totalidad de la masa del átomo. \", \n",
    "\"¿Una batería convierte energía química en energía eléctrica?\": \"FALSO, es al contrario\", \n",
    "\"¿El Hidrógeno es el segundo elemento menos denso de la tabla periódica?\": \"FALSO, en realidad es el menos denso\" , \n",
    "\"¿El ornitorrinco es un mamífero?\": \"VERDADERO, Es una especie de mamífero semiacuático\", \n",
    "\"¿Las bases nitrogenadas de los nucleótidos son moléculas inorgánicas?\":\"FALSO, Son moléculas orgánicas\",\n",
    "\"¿Las secuencia de DNA generalmente se transcriben en dirección 5'3'?\":\"VERDADERO, Significa que el nucleótido del extremo 5' es el primero y el  del extremo 3' el úlitmo.\" ,\n",
    "\"¿Los -273°C es la temperatura más baja que se puede alcanzar?\": \"VERDADERO, es el cero absoluto en la escala Kelvin\"}\n",
    "def NuevoJuego(): #funcion main\n",
    "    guesses=[]\n",
    "    numcorrectos=0\n",
    "    num_pregunta=0\n",
    "    momo=0\n",
    "    err = 0\n",
    "    print(\"Bienvenido a IronTrivia!\\n\")\n",
    "    while True:\n",
    "        nombre= input(\"Por favor, coloca tu nombre: \")\n",
    "        if nombre.isalpha()== True:\n",
    "            print(f\"Hola {nombre}!\")\n",
    "            break\n",
    "        else:\n",
    "            print(\"Nombre no válido\")\n",
    "                \n",
    "    print(f\"Elige el tema de tu preferencia:\\n\\\n",
    "           Presiona 1 para Ciencias.\\n\\\n",
    "           Presiona 2 para Cultura Pop.\\n\\\n",
    "           Presiona 0 para salir.\")\n",
    "    choice=input(\"\")\n",
    "    if choice==\"1\":\n",
    "        print(\"Has seleccionado preguntas de Ciencia!\")\n",
    "        #guess=input('Porfavor inserta verdadero o falso ')\n",
    "        pregunta=np.random.choice(list(DictPreguntasRespuestasCiencia.keys()),8)\n",
    "        for keys in pregunta:\n",
    "            if numcorrectos==3:\n",
    "                momo=True\n",
    "            if numcorrectos<3:\n",
    "                print('-'*20)\n",
    "                print(keys)\n",
    "                while True:\n",
    "                    guess=input('Verdadero o Falso?               ')\n",
    "                    if guess.isalpha():\n",
    "                        guess=guess.upper()\n",
    "                        guesses.append(guess)\n",
    "                        numcorrectos+=check_answer(DictPreguntasRespuestasCiencia.get(keys),guess) #Acumula las wins\n",
    "                        print(f'Tienes {numcorrectos} puntos')\n",
    "                        num_pregunta+=1\n",
    "                        break\n",
    "                    else:\n",
    "                        print(\"Caracter no valido\")\n",
    "        print(\"Ganaste!\")\n",
    "        respuesta=input(\"Quieres jugar de nuevo? (y/n)\")\n",
    "        respuesta=respuesta.upper()\n",
    "        if respuesta=='Y':\n",
    "            return NuevoJuego()\n",
    "        else:\n",
    "            print(\"Gracias por jugar!\")\n",
    "                    \n",
    "    elif choice==\"2\":\n",
    "        print(\"Has seleccionado preguntas pop!\")\n",
    "        pregunta=np.random.choice(list(DictPreguntasRespuestasPop.keys()),8)\n",
    "        for keys in pregunta:\n",
    "        \n",
    "            #random.choice(print(DictPreguntasRespuestas.keys()))\n",
    "            print('-'*20)\n",
    "            print(keys)\n",
    "            while True:\n",
    "                guess=input('Verdadero o Falso?      ')\n",
    "                if guess.isalpha():\n",
    "                    guess=guess.upper()\n",
    "                    guesses.append(guess)\n",
    "                    numcorrectos+=check_answer(DictPreguntasRespuestasPop.get(keys),guess) #Acumula las wins\n",
    "                    print(f'Tienes {numcorrectos} puntos')\n",
    "                    num_pregunta+=1\n",
    "                    break\n",
    "                else:\n",
    "                    print(\"Caracter no valido\")\n",
    "    else:\n",
    "        print(\"Gracias por jugar!\")\n",
    "        \n",
    "def check_answer(answer,guess):\n",
    "    if guess.upper() in answer.upper():\n",
    "        y=answer.split(\", \")\n",
    "        print(\"Correcto!\",y[1])\n",
    "        return 1\n",
    "    else:\n",
    "        y=answer.split(\", \")\n",
    "        print(\"Incorrecto!\",y[1])\n",
    "        return 0\n",
    "    \n",
    "NuevoJuego()"
   ]
  },
  {
   "cell_type": "code",
   "execution_count": null,
   "id": "f43e1772",
   "metadata": {},
   "outputs": [],
   "source": []
  }
 ],
 "metadata": {
  "kernelspec": {
   "display_name": "Python 3 (ipykernel)",
   "language": "python",
   "name": "python3"
  },
  "language_info": {
   "codemirror_mode": {
    "name": "ipython",
    "version": 3
   },
   "file_extension": ".py",
   "mimetype": "text/x-python",
   "name": "python",
   "nbconvert_exporter": "python",
   "pygments_lexer": "ipython3",
   "version": "3.9.7"
  }
 },
 "nbformat": 4,
 "nbformat_minor": 5
}
