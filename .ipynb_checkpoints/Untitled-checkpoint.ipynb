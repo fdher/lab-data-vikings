{
 "cells": [
  {
   "cell_type": "code",
   "execution_count": null,
   "id": "f167d31c-22ee-476b-a143-068660b777c9",
   "metadata": {},
   "outputs": [],
   "source": []
  },
  {
   "cell_type": "code",
   "execution_count": 1,
   "id": "75d5d77e-f044-4519-946b-8f4d9652fc2a",
   "metadata": {},
   "outputs": [
    {
     "ename": "SyntaxError",
     "evalue": "unexpected EOF while parsing (Temp/ipykernel_11268/429727145.py, line 1)",
     "output_type": "error",
     "traceback": [
      "\u001b[1;36m  File \u001b[1;32m\"C:\\Users\\FHERNA~1\\AppData\\Local\\Temp/ipykernel_11268/429727145.py\"\u001b[1;36m, line \u001b[1;32m1\u001b[0m\n\u001b[1;33m    mandado=[comida if comida.startswith('p') else comida.upper(\u001b[0m\n\u001b[1;37m                                                                ^\u001b[0m\n\u001b[1;31mSyntaxError\u001b[0m\u001b[1;31m:\u001b[0m unexpected EOF while parsing\n"
     ]
    }
   ],
   "source": []
  },
  {
   "cell_type": "code",
   "execution_count": 6,
   "id": "32e48ed1-baf3-4e99-883d-f8596c3faa42",
   "metadata": {},
   "outputs": [],
   "source": [
    "opiniones = [(\"marcos\", 0), ('javiera',5), ('Maria',1), ('Francisca', 3), ('luis',3), ('Dennis', 4), ('fabio',4)]"
   ]
  },
  {
   "cell_type": "code",
   "execution_count": 7,
   "id": "7ce64f7f-00f2-4101-815f-10a02b48d5cb",
   "metadata": {},
   "outputs": [],
   "source": [
    "personas_dudosas=[]"
   ]
  },
  {
   "cell_type": "code",
   "execution_count": 9,
   "id": "13d02627-5856-42d9-8bcf-0ffadb24593a",
   "metadata": {},
   "outputs": [
    {
     "data": {
      "text/plain": [
       "['Francisca',\n",
       " 'luis',\n",
       " 'Dennis',\n",
       " 'fabio',\n",
       " 'Francisca',\n",
       " 'luis',\n",
       " 'Dennis',\n",
       " 'fabio']"
      ]
     },
     "execution_count": 9,
     "metadata": {},
     "output_type": "execute_result"
    }
   ],
   "source": [
    "for nombre,puntuacion in opiniones:\n",
    "    if puntuacion > 1 and puntuacion < 5:\n",
    "        personas_dudosas.append(nombre)\n",
    "\n",
    "personas_dudosas"
   ]
  },
  {
   "cell_type": "code",
   "execution_count": 11,
   "id": "a16378a0-f35c-498b-898a-3740256c70b1",
   "metadata": {},
   "outputs": [
    {
     "data": {
      "text/plain": [
       "['Francisca', 'luis', 'Dennis', 'fabio']"
      ]
     },
     "execution_count": 11,
     "metadata": {},
     "output_type": "execute_result"
    }
   ],
   "source": [
    "personas_dudosas_comp=[nombre for nombre, puntuacion in opiniones if puntuacion > 1 and puntuacion < 5] #aqui es un list comprehension del for anterior\n",
    "personas_dudosas_comp"
   ]
  },
  {
   "cell_type": "code",
   "execution_count": 14,
   "id": "eb442c41-dc1f-41b9-b25a-60b778b4e69c",
   "metadata": {},
   "outputs": [
    {
     "data": {
      "text/plain": [
       "[('Francisca', 3), ('luis', 3), ('Dennis', 4), ('fabio', 4)]"
      ]
     },
     "execution_count": 14,
     "metadata": {},
     "output_type": "execute_result"
    }
   ],
   "source": [
    "personas_dudosas_comp=[(nombre,puntuacion) for nombre, puntuacion in opiniones if puntuacion > 1 and puntuacion < 5] #aqui es un list comprehension del for anterior\n",
    "personas_dudosas_comp"
   ]
  },
  {
   "cell_type": "code",
   "execution_count": 17,
   "id": "714dd1c6-4f4b-4fc7-a371-bd186b3aa18b",
   "metadata": {},
   "outputs": [
    {
     "data": {
      "text/plain": [
       "{'Francisca': 3, 'luis': 3, 'Dennis': 4, 'fabio': 4}"
      ]
     },
     "execution_count": 17,
     "metadata": {},
     "output_type": "execute_result"
    }
   ],
   "source": [
    "##pero tambien lo puedes hacer con un diccionario, solamente que tienes que tener dos elementos, recordar la relacion key:valor\n",
    "personas_dudosas_comp={nombre:puntuacion for nombre, puntuacion in opiniones if puntuacion > 1 and puntuacion < 5} #aqui es un list comprehension del for anterior\n",
    "personas_dudosas_comp\n"
   ]
  },
  {
   "cell_type": "code",
   "execution_count": null,
   "id": "e3a6d1ff-d7f4-4928-a3f9-35dde22a6abb",
   "metadata": {},
   "outputs": [],
   "source": [
    "#la ruta absoluta es la ruta desde la raiz , o la ruta relativa, que es la ruta tomando como punto de partida donde estoy ejecutando el codigo, Ejemplo: usar .. si te quieres subir de carpeta"
   ]
  },
  {
   "cell_type": "code",
   "execution_count": null,
   "id": "3a5c4f53-4bbb-4837-b92e-8a58bb439f4d",
   "metadata": {},
   "outputs": [],
   "source": [
    "#por ejemplo os.listdir('../modulo1') esto es regresarte a un nivel anterior, llamado modulo1, ya con esto estas dando una ruta relativa."
   ]
  },
  {
   "cell_type": "code",
   "execution_count": 6,
   "id": "c3272aa4",
   "metadata": {},
   "outputs": [],
   "source": [
    "#ejemplo de un for doble\n",
    "\n",
    "lista_comidas_persona = [[\"hamburguesa\", \"tacos de carnitas\", \"alitas\"], [\"pizza\", \"sushi\", \"alitas\"],\n",
    "                 ['tacos de pollo','pizza','pasta'], [\"tacos\", \"sushi\", \"hamburguesas\"],\n",
    "                 [\"sushi\",\"pho\",\"tacos\"], ['Tacos de pastor',' Ramen', 'Alitas'],\n",
    "                 [\"sushi\",\"hamburguesa\",\"ramen\"], ['porotos granados', 'papas fritas', 'hamburguesas'],\n",
    "                 ['tacos', 'ramen', 'vegetariana'], [\"tamales\", \"pozole\", \"pasta\"]]\n",
    "\n",
    "lista_comidas=[]\n",
    "for lista_persona in lista_comidas_persona: #en esta parte accedes primero a la lista inicial\n",
    "    for comida in lista_persona: #en esta parte iteras sobre cada elemento de la lista\n",
    "        lista_comidas.append(comida)"
   ]
  },
  {
   "cell_type": "code",
   "execution_count": 7,
   "id": "a3ee2293",
   "metadata": {},
   "outputs": [
    {
     "data": {
      "text/plain": [
       "['hamburguesa',\n",
       " 'tacos de carnitas',\n",
       " 'alitas',\n",
       " 'pizza',\n",
       " 'sushi',\n",
       " 'alitas',\n",
       " 'tacos de pollo',\n",
       " 'pizza',\n",
       " 'pasta',\n",
       " 'tacos',\n",
       " 'sushi',\n",
       " 'hamburguesas',\n",
       " 'sushi',\n",
       " 'pho',\n",
       " 'tacos',\n",
       " 'Tacos de pastor',\n",
       " ' Ramen',\n",
       " 'Alitas',\n",
       " 'sushi',\n",
       " 'hamburguesa',\n",
       " 'ramen',\n",
       " 'porotos granados',\n",
       " 'papas fritas',\n",
       " 'hamburguesas',\n",
       " 'tacos',\n",
       " 'ramen',\n",
       " 'vegetariana',\n",
       " 'tamales',\n",
       " 'pozole',\n",
       " 'pasta']"
      ]
     },
     "execution_count": 7,
     "metadata": {},
     "output_type": "execute_result"
    }
   ],
   "source": [
    "lista_comidas"
   ]
  },
  {
   "cell_type": "code",
   "execution_count": 12,
   "id": "f7538fdf",
   "metadata": {},
   "outputs": [
    {
     "name": "stdout",
     "output_type": "stream",
     "text": [
      "['hamburguesa', 'tacos de carnitas', 'alitas', 'pizza', 'sushi', 'alitas', 'tacos de pollo', 'pizza', 'pasta', 'tacos', 'sushi', 'hamburguesas', 'sushi', 'pho', 'tacos', 'Tacos de pastor', ' Ramen', 'Alitas', 'sushi', 'hamburguesa', 'ramen', 'porotos granados', 'papas fritas', 'hamburguesas', 'tacos', 'ramen', 'vegetariana', 'tamales', 'pozole', 'pasta']\n"
     ]
    }
   ],
   "source": [
    "lista_comidas_comp = [comida for lista_persona in lista_comidas_persona for comida in lista_persona]\n",
    "print(lista_comidas_comp) #en este caso, lista_persona que esta al final ya tendria que haber sido\n",
    "#declarada"
   ]
  },
  {
   "cell_type": "code",
   "execution_count": null,
   "id": "9d83eb89",
   "metadata": {},
   "outputs": [],
   "source": [
    "#expresiones regulares, que expresion va a representar un caracter"
   ]
  },
  {
   "cell_type": "code",
   "execution_count": null,
   "id": "268db8fa",
   "metadata": {},
   "outputs": [],
   "source": []
  },
  {
   "cell_type": "code",
   "execution_count": null,
   "id": "09b07234",
   "metadata": {},
   "outputs": [],
   "source": []
  }
 ],
 "metadata": {
  "kernelspec": {
   "display_name": "Python 3 (ipykernel)",
   "language": "python",
   "name": "python3"
  },
  "language_info": {
   "codemirror_mode": {
    "name": "ipython",
    "version": 3
   },
   "file_extension": ".py",
   "mimetype": "text/x-python",
   "name": "python",
   "nbconvert_exporter": "python",
   "pygments_lexer": "ipython3",
   "version": "3.9.7"
  }
 },
 "nbformat": 4,
 "nbformat_minor": 5
}
