{
 "cells": [
  {
   "cell_type": "code",
   "execution_count": null,
   "id": "ffcfeb3c",
   "metadata": {},
   "outputs": [],
   "source": [
    "TextoPreguntasTrueFalse={'Las galletas Oreo son más antiguas que las galletas de chips de chocolate':True, \n",
    "                         'Napoleon Bonaparte era extremadamente bajo':True, 'El protagonista de One Piece se llama\n",
    "                         Mui'\n",
    "                         \n",
    "                         \n",
    "                         \n",
    "                         \n",
    "                         \n",
    "                         \n",
    "                         ' }"
   ]
  }
 ],
 "metadata": {
  "kernelspec": {
   "display_name": "Python 3 (ipykernel)",
   "language": "python",
   "name": "python3"
  },
  "language_info": {
   "codemirror_mode": {
    "name": "ipython",
    "version": 3
   },
   "file_extension": ".py",
   "mimetype": "text/x-python",
   "name": "python",
   "nbconvert_exporter": "python",
   "pygments_lexer": "ipython3",
   "version": "3.9.7"
  }
 },
 "nbformat": 4,
 "nbformat_minor": 5
}
